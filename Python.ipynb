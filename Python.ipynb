{
 "cells": [
  {
   "cell_type": "markdown",
   "metadata": {},
   "source": [
    "<div style=\"border:solid green 2px; padding: 20px\">\n",
    "    \n",
    "<b>Элеонора, \n",
    "    привет! Это Александр</b> Я рад тебя видеть на финальном спринте (Основной проект).\n",
    "\n",
    "---\n",
    "\n",
    "Я буду красить комментарии цветом, пожалуйста, не удаляй их:\n",
    "\n",
    "<div class=\"alert alert-block alert-danger\">✍\n",
    "    \n",
    "\n",
    "__Комментарий от тимлида №1__\n",
    "\n",
    "Такой комментарий нужно исправить обязательно, он критически влияет на удачное выполнение проекта.\n",
    "</div>\n",
    "    \n",
    "---\n",
    "\n",
    "<div class=\"alert alert-block alert-warning\">📝\n",
    "    \n",
    "\n",
    "__Комментарий от тимлида №1__\n",
    "\n",
    "\n",
    "Такой комментарий является рекомендацией или советом. Можешь использовать их на своё усмотрение.\n",
    "</div>\n",
    "\n",
    "---\n",
    "\n",
    "<div class=\"alert alert-block alert-success\">✔️\n",
    "    \n",
    "\n",
    "__Комментарий от тимлида №1__\n",
    "\n",
    "Такой комментарий  говорит о том, что было сделано что-то качественное и правильное =)\n",
    "</div>\n",
    "    \n",
    "---\n",
    "    \n",
    "Предлагаю работать над проектом в диалоге: если у тебя возникают вопросы — пиши об этом в слаке, не стесняйся. Так же, мне будет легче отследить изменения, если ты выделишь свои комментарии:   \n",
    "    \n",
    "<div class=\"alert alert-info\"> <b>Комментарии студента:</b> Например, вот так.</div>\n",
    "    \n",
    "    \n",
    "---"
   ]
  },
  {
   "cell_type": "markdown",
   "metadata": {},
   "source": [
    "# Мобильные приложения - Выделение групп пользователей на основе поведения"
   ]
  },
  {
   "cell_type": "markdown",
   "metadata": {},
   "source": [
    "# Введение: цель и основные этапы исследования "
   ]
  },
  {
   "cell_type": "markdown",
   "metadata": {},
   "source": [
    "Исследование будет проводится для мобильного приложения «Ненужные вещи». \n",
    "\n",
    "В процессе исследования надо будет выделить группы пользователей, которые различаются по метрикам:\n",
    "1. retention rate,\n",
    "2. время, проведённое в приложении,\n",
    "3. частота действий,\n",
    "4. конверсия в целевое действие — просмотр контактов.\n",
    "\n",
    "После этого провести исследовательский анализ данных и сегментировать пользователей на основе вышеперечисленных действий.\n",
    "\n",
    "После этого проверить следующие статистические гипотезы\n",
    "1. Некоторые пользователи установили приложение по ссылке из yandex, другие — из google. Проверяем гипотезу: конверсия в просмотры контактов различается у этих двух групп.\n",
    "2. Одни пользователи совершают действия tips_show и tips_click , другие —\n",
    "только tips_show . Проверяем гипотезу: конверсия в просмотры контактов различается у этих двух групп.\n",
    "\n",
    "\n",
    "Описание данных:\n",
    "У нас есть два датасета, которые содержат данные о событиях, совершенных в мобильном приложении \"Ненужные вещи\". В нем пользователи продают свои ненужные вещи, размещая их на доске объявлений. В датасете содержатся данные пользователей, впервые совершивших действия в приложении после 7 октября 2019 года.\n"
   ]
  },
  {
   "cell_type": "markdown",
   "metadata": {},
   "source": [
    "<div class=\"alert alert-block alert-warning\">📝\n",
    "    \n",
    "\n",
    "__Комментарий от тимлида №1__\n",
    "\n",
    "\n",
    "Декомпозиция так и не расписана. Хорошо как-то анализировать задачи на вход и приводить понятные достижения цели с точки зрения основной бизнес задачи.\n",
    "</div>"
   ]
  },
  {
   "cell_type": "markdown",
   "metadata": {},
   "source": [
    "## Анализ и предобработка данных"
   ]
  },
  {
   "cell_type": "markdown",
   "metadata": {},
   "source": [
    "Импортируем необходимые для работы библиотеки:"
   ]
  },
  {
   "cell_type": "code",
   "execution_count": 1,
   "metadata": {},
   "outputs": [],
   "source": [
    "import os\n",
    "import pandas as pd\n",
    "import matplotlib.pyplot as plt\n",
    "import seaborn as sns\n",
    "import numpy as np\n",
    "from plotly import graph_objects as go\n",
    "from IPython.display import display\n",
    "\n",
    "import datetime as dt\n",
    "import scipy.stats as stats\n",
    "from pandas.plotting import register_matplotlib_converters\n",
    "import warnings\n",
    "# конвертеры, которые позволяют использовать типы pandas в matplotlib  \n",
    "register_matplotlib_converters()"
   ]
  },
  {
   "cell_type": "code",
   "execution_count": 2,
   "metadata": {},
   "outputs": [
    {
     "data": {
      "text/html": [
       "<div>\n",
       "<style scoped>\n",
       "    .dataframe tbody tr th:only-of-type {\n",
       "        vertical-align: middle;\n",
       "    }\n",
       "\n",
       "    .dataframe tbody tr th {\n",
       "        vertical-align: top;\n",
       "    }\n",
       "\n",
       "    .dataframe thead th {\n",
       "        text-align: right;\n",
       "    }\n",
       "</style>\n",
       "<table border=\"1\" class=\"dataframe\">\n",
       "  <thead>\n",
       "    <tr style=\"text-align: right;\">\n",
       "      <th></th>\n",
       "      <th>event.time</th>\n",
       "      <th>event.name</th>\n",
       "      <th>user.id</th>\n",
       "    </tr>\n",
       "  </thead>\n",
       "  <tbody>\n",
       "    <tr>\n",
       "      <th>0</th>\n",
       "      <td>2019-10-07 00:00:00.431357</td>\n",
       "      <td>advert_open</td>\n",
       "      <td>020292ab-89bc-4156-9acf-68bc2783f894</td>\n",
       "    </tr>\n",
       "    <tr>\n",
       "      <th>1</th>\n",
       "      <td>2019-10-07 00:00:01.236320</td>\n",
       "      <td>tips_show</td>\n",
       "      <td>020292ab-89bc-4156-9acf-68bc2783f894</td>\n",
       "    </tr>\n",
       "    <tr>\n",
       "      <th>2</th>\n",
       "      <td>2019-10-07 00:00:02.245341</td>\n",
       "      <td>tips_show</td>\n",
       "      <td>cf7eda61-9349-469f-ac27-e5b6f5ec475c</td>\n",
       "    </tr>\n",
       "    <tr>\n",
       "      <th>3</th>\n",
       "      <td>2019-10-07 00:00:07.039334</td>\n",
       "      <td>tips_show</td>\n",
       "      <td>020292ab-89bc-4156-9acf-68bc2783f894</td>\n",
       "    </tr>\n",
       "    <tr>\n",
       "      <th>4</th>\n",
       "      <td>2019-10-07 00:00:56.319813</td>\n",
       "      <td>advert_open</td>\n",
       "      <td>cf7eda61-9349-469f-ac27-e5b6f5ec475c</td>\n",
       "    </tr>\n",
       "  </tbody>\n",
       "</table>\n",
       "</div>"
      ],
      "text/plain": [
       "                   event.time   event.name  \\\n",
       "0  2019-10-07 00:00:00.431357  advert_open   \n",
       "1  2019-10-07 00:00:01.236320    tips_show   \n",
       "2  2019-10-07 00:00:02.245341    tips_show   \n",
       "3  2019-10-07 00:00:07.039334    tips_show   \n",
       "4  2019-10-07 00:00:56.319813  advert_open   \n",
       "\n",
       "                                user.id  \n",
       "0  020292ab-89bc-4156-9acf-68bc2783f894  \n",
       "1  020292ab-89bc-4156-9acf-68bc2783f894  \n",
       "2  cf7eda61-9349-469f-ac27-e5b6f5ec475c  \n",
       "3  020292ab-89bc-4156-9acf-68bc2783f894  \n",
       "4  cf7eda61-9349-469f-ac27-e5b6f5ec475c  "
      ]
     },
     "execution_count": 2,
     "metadata": {},
     "output_type": "execute_result"
    }
   ],
   "source": [
    "data = pd.read_csv('https://code.s3.yandex.net/datasets/mobile_dataset.csv')\n",
    "data.head(5)"
   ]
  },
  {
   "cell_type": "markdown",
   "metadata": {},
   "source": [
    "<div class=\"alert alert-block alert-warning\">📝\n",
    "    \n",
    "\n",
    "__Комментарий от ревьюера №1__\n",
    "\n",
    "\n",
    "Предлагаю разделять логически разные вещи:\n",
    "\n",
    "    - импорты библиотек\n",
    "    - открытие данных (это может быть не тривиальный процесс)\n",
    "    - рабочий код\n",
    "    \n",
    "Такой подход позволит улучшить читаемость кода, снизит время поиска ошибок если они есть и исключит повторное выполнение кода"
   ]
  },
  {
   "cell_type": "code",
   "execution_count": 3,
   "metadata": {},
   "outputs": [
    {
     "data": {
      "text/html": [
       "<div>\n",
       "<style scoped>\n",
       "    .dataframe tbody tr th:only-of-type {\n",
       "        vertical-align: middle;\n",
       "    }\n",
       "\n",
       "    .dataframe tbody tr th {\n",
       "        vertical-align: top;\n",
       "    }\n",
       "\n",
       "    .dataframe thead th {\n",
       "        text-align: right;\n",
       "    }\n",
       "</style>\n",
       "<table border=\"1\" class=\"dataframe\">\n",
       "  <thead>\n",
       "    <tr style=\"text-align: right;\">\n",
       "      <th></th>\n",
       "      <th>userId</th>\n",
       "      <th>source</th>\n",
       "    </tr>\n",
       "  </thead>\n",
       "  <tbody>\n",
       "    <tr>\n",
       "      <th>0</th>\n",
       "      <td>020292ab-89bc-4156-9acf-68bc2783f894</td>\n",
       "      <td>other</td>\n",
       "    </tr>\n",
       "    <tr>\n",
       "      <th>1</th>\n",
       "      <td>cf7eda61-9349-469f-ac27-e5b6f5ec475c</td>\n",
       "      <td>yandex</td>\n",
       "    </tr>\n",
       "    <tr>\n",
       "      <th>2</th>\n",
       "      <td>8c356c42-3ba9-4cb6-80b8-3f868d0192c3</td>\n",
       "      <td>yandex</td>\n",
       "    </tr>\n",
       "    <tr>\n",
       "      <th>3</th>\n",
       "      <td>d9b06b47-0f36-419b-bbb0-3533e582a6cb</td>\n",
       "      <td>other</td>\n",
       "    </tr>\n",
       "    <tr>\n",
       "      <th>4</th>\n",
       "      <td>f32e1e2a-3027-4693-b793-b7b3ff274439</td>\n",
       "      <td>google</td>\n",
       "    </tr>\n",
       "  </tbody>\n",
       "</table>\n",
       "</div>"
      ],
      "text/plain": [
       "                                 userId  source\n",
       "0  020292ab-89bc-4156-9acf-68bc2783f894   other\n",
       "1  cf7eda61-9349-469f-ac27-e5b6f5ec475c  yandex\n",
       "2  8c356c42-3ba9-4cb6-80b8-3f868d0192c3  yandex\n",
       "3  d9b06b47-0f36-419b-bbb0-3533e582a6cb   other\n",
       "4  f32e1e2a-3027-4693-b793-b7b3ff274439  google"
      ]
     },
     "execution_count": 3,
     "metadata": {},
     "output_type": "execute_result"
    }
   ],
   "source": [
    "data1 = pd.read_csv('https://code.s3.yandex.net/datasets/mobile_soures.csv')\n",
    "data1.head(5)"
   ]
  },
  {
   "cell_type": "code",
   "execution_count": 4,
   "metadata": {},
   "outputs": [
    {
     "data": {
      "text/plain": [
       "74197"
      ]
     },
     "metadata": {},
     "output_type": "display_data"
    }
   ],
   "source": [
    "total_e_ = data['user.id'].count()\n",
    "display(total_e_)"
   ]
  },
  {
   "cell_type": "markdown",
   "metadata": {},
   "source": [
    "Общее количество событий в файле - 74.197."
   ]
  },
  {
   "cell_type": "code",
   "execution_count": 5,
   "metadata": {},
   "outputs": [
    {
     "data": {
      "text/plain": [
       "4293"
      ]
     },
     "metadata": {},
     "output_type": "display_data"
    }
   ],
   "source": [
    "total_e_u = data['user.id'].nunique()\n",
    "display(total_e_u)"
   ]
  },
  {
   "cell_type": "markdown",
   "metadata": {},
   "source": [
    "Количество уникальный пользователей - 4.293."
   ]
  },
  {
   "cell_type": "code",
   "execution_count": 6,
   "metadata": {},
   "outputs": [
    {
     "name": "stdout",
     "output_type": "stream",
     "text": [
      "<class 'pandas.core.frame.DataFrame'>\n",
      "RangeIndex: 74197 entries, 0 to 74196\n",
      "Data columns (total 3 columns):\n",
      " #   Column      Non-Null Count  Dtype \n",
      "---  ------      --------------  ----- \n",
      " 0   event.time  74197 non-null  object\n",
      " 1   event.name  74197 non-null  object\n",
      " 2   user.id     74197 non-null  object\n",
      "dtypes: object(3)\n",
      "memory usage: 1.7+ MB\n"
     ]
    }
   ],
   "source": [
    "data.isna().sum()\n",
    "data.info()"
   ]
  },
  {
   "cell_type": "code",
   "execution_count": 7,
   "metadata": {},
   "outputs": [
    {
     "data": {
      "text/plain": [
       "0"
      ]
     },
     "execution_count": 7,
     "metadata": {},
     "output_type": "execute_result"
    }
   ],
   "source": [
    "data.duplicated().sum()"
   ]
  },
  {
   "cell_type": "code",
   "execution_count": 8,
   "metadata": {},
   "outputs": [
    {
     "data": {
      "text/plain": [
       "array(['advert_open', 'tips_show', 'map', 'contacts_show', 'search_4',\n",
       "       'search_5', 'tips_click', 'photos_show', 'search_1', 'search_2',\n",
       "       'search_3', 'favorites_add', 'contacts_call', 'search_6',\n",
       "       'search_7', 'show_contacts'], dtype=object)"
      ]
     },
     "execution_count": 8,
     "metadata": {},
     "output_type": "execute_result"
    }
   ],
   "source": [
    "data['event.name'].unique()"
   ]
  },
  {
   "cell_type": "code",
   "execution_count": 9,
   "metadata": {},
   "outputs": [
    {
     "name": "stdout",
     "output_type": "stream",
     "text": [
      "<class 'pandas.core.frame.DataFrame'>\n",
      "RangeIndex: 4293 entries, 0 to 4292\n",
      "Data columns (total 2 columns):\n",
      " #   Column  Non-Null Count  Dtype \n",
      "---  ------  --------------  ----- \n",
      " 0   userId  4293 non-null   object\n",
      " 1   source  4293 non-null   object\n",
      "dtypes: object(2)\n",
      "memory usage: 67.2+ KB\n"
     ]
    }
   ],
   "source": [
    "data1.isna().sum()\n",
    "data1.info()"
   ]
  },
  {
   "cell_type": "code",
   "execution_count": 10,
   "metadata": {},
   "outputs": [
    {
     "data": {
      "text/plain": [
       "0"
      ]
     },
     "execution_count": 10,
     "metadata": {},
     "output_type": "execute_result"
    }
   ],
   "source": [
    "data1.duplicated().sum()"
   ]
  },
  {
   "cell_type": "markdown",
   "metadata": {},
   "source": [
    "Дубликатов и пропущенных данных не обнаружено."
   ]
  },
  {
   "cell_type": "markdown",
   "metadata": {},
   "source": [
    "Переименовываем столбцы, чтобы можно было объединять таблицы."
   ]
  },
  {
   "cell_type": "code",
   "execution_count": 11,
   "metadata": {},
   "outputs": [],
   "source": [
    "data1 = data1.rename(columns={'userId': 'user.id'})"
   ]
  },
  {
   "cell_type": "markdown",
   "metadata": {},
   "source": [
    "Находим и заменяем регулярные выражения."
   ]
  },
  {
   "cell_type": "code",
   "execution_count": 12,
   "metadata": {},
   "outputs": [],
   "source": [
    "data.replace(r\"search_\\d\", 'search', inplace = True, regex = True)"
   ]
  },
  {
   "cell_type": "markdown",
   "metadata": {},
   "source": [
    "Объединяем в одну целевую группу пользователей с событиями 'contacts_show' и 'show_contacts', согласно условиям задания."
   ]
  },
  {
   "cell_type": "code",
   "execution_count": 13,
   "metadata": {},
   "outputs": [],
   "source": [
    "data.replace('contacts_show','show_contacts', inplace = True)"
   ]
  },
  {
   "cell_type": "markdown",
   "metadata": {},
   "source": [
    "<div class=\"alert alert-block alert-success\">✔️\n",
    "    \n",
    "\n",
    "__Комментарий от тимлида №1__\n",
    "\n",
    "Действительно, данные события можно объединить\n",
    "</div>"
   ]
  },
  {
   "cell_type": "code",
   "execution_count": 14,
   "metadata": {},
   "outputs": [
    {
     "data": {
      "text/plain": [
       "array(['advert_open', 'tips_show', 'map', 'show_contacts', 'search',\n",
       "       'tips_click', 'photos_show', 'favorites_add', 'contacts_call'],\n",
       "      dtype=object)"
      ]
     },
     "execution_count": 14,
     "metadata": {},
     "output_type": "execute_result"
    }
   ],
   "source": [
    "data['event.name'].unique()"
   ]
  },
  {
   "cell_type": "markdown",
   "metadata": {},
   "source": [
    "Теперь данные готовы для дальнейшего исследования."
   ]
  },
  {
   "cell_type": "markdown",
   "metadata": {},
   "source": [
    "<div class=\"alert alert-block alert-success\">✔️\n",
    "    \n",
    "\n",
    "__Комментарий от тимлида №1__\n",
    "\n",
    "На этом этапе всё хорошо. Ты корректно выгрузила данные и посмотрела их содержимое. Выполнила первичную проверку на пропуски и дубликаты. Можно приступать к следующему шагу\n",
    "</div>"
   ]
  },
  {
   "cell_type": "markdown",
   "metadata": {},
   "source": [
    "## Исследовательский анализ данных"
   ]
  },
  {
   "cell_type": "markdown",
   "metadata": {},
   "source": [
    "### Исследовательский анализ поведения пользователей по retention rate "
   ]
  },
  {
   "cell_type": "code",
   "execution_count": 15,
   "metadata": {},
   "outputs": [],
   "source": [
    "data['active_date'] = data['event.time'].astype('datetime64[W]')\n",
    "# здесь мы задаем текущую дату события в формате недели"
   ]
  },
  {
   "cell_type": "code",
   "execution_count": 16,
   "metadata": {},
   "outputs": [
    {
     "data": {
      "text/html": [
       "<div>\n",
       "<style scoped>\n",
       "    .dataframe tbody tr th:only-of-type {\n",
       "        vertical-align: middle;\n",
       "    }\n",
       "\n",
       "    .dataframe tbody tr th {\n",
       "        vertical-align: top;\n",
       "    }\n",
       "\n",
       "    .dataframe thead th {\n",
       "        text-align: right;\n",
       "    }\n",
       "</style>\n",
       "<table border=\"1\" class=\"dataframe\">\n",
       "  <thead>\n",
       "    <tr style=\"text-align: right;\">\n",
       "      <th></th>\n",
       "      <th>user.id</th>\n",
       "      <th>first_ts</th>\n",
       "    </tr>\n",
       "  </thead>\n",
       "  <tbody>\n",
       "    <tr>\n",
       "      <th>0</th>\n",
       "      <td>0001b1d5-b74a-4cbf-aeb0-7df5947bf349</td>\n",
       "      <td>2019-10-03</td>\n",
       "    </tr>\n",
       "    <tr>\n",
       "      <th>1</th>\n",
       "      <td>00157779-810c-4498-9e05-a1e9e3cedf93</td>\n",
       "      <td>2019-10-17</td>\n",
       "    </tr>\n",
       "    <tr>\n",
       "      <th>2</th>\n",
       "      <td>00463033-5717-4bf1-91b4-09183923b9df</td>\n",
       "      <td>2019-10-31</td>\n",
       "    </tr>\n",
       "    <tr>\n",
       "      <th>3</th>\n",
       "      <td>004690c3-5a84-4bb7-a8af-e0c8f8fca64e</td>\n",
       "      <td>2019-10-17</td>\n",
       "    </tr>\n",
       "    <tr>\n",
       "      <th>4</th>\n",
       "      <td>00551e79-152e-4441-9cf7-565d7eb04090</td>\n",
       "      <td>2019-10-24</td>\n",
       "    </tr>\n",
       "  </tbody>\n",
       "</table>\n",
       "</div>"
      ],
      "text/plain": [
       "                                user.id   first_ts\n",
       "0  0001b1d5-b74a-4cbf-aeb0-7df5947bf349 2019-10-03\n",
       "1  00157779-810c-4498-9e05-a1e9e3cedf93 2019-10-17\n",
       "2  00463033-5717-4bf1-91b4-09183923b9df 2019-10-31\n",
       "3  004690c3-5a84-4bb7-a8af-e0c8f8fca64e 2019-10-17\n",
       "4  00551e79-152e-4441-9cf7-565d7eb04090 2019-10-24"
      ]
     },
     "execution_count": 16,
     "metadata": {},
     "output_type": "execute_result"
    }
   ],
   "source": [
    "# cгруппируем и найдем первый заход для каждого id\n",
    "first_ts = data.groupby('user.id').agg({'event.time': 'min'}).reset_index()\n",
    "first_ts = first_ts.rename(columns={'event.time':'first_ts'})\n",
    "first_ts['first_ts'] = first_ts['first_ts'].astype('datetime64[W]')\n",
    "first_ts.head(5)"
   ]
  },
  {
   "cell_type": "code",
   "execution_count": 17,
   "metadata": {},
   "outputs": [],
   "source": [
    "# объеденяем датасеты\n",
    "data = first_ts.merge(data, on = 'user.id')"
   ]
  },
  {
   "cell_type": "markdown",
   "metadata": {},
   "source": [
    "<div class=\"alert alert-block alert-warning\">📝\n",
    "    \n",
    "\n",
    "__Комментарий от тимлида №1__\n",
    "\n",
    "\n",
    "В реальной практике тебе придется обосновать почему именно 40 мин. Было бы неплохо аргументировать свое решение. От этого зависит сколько в целом у тебя получится уникальных сессий и повлияет на дальнейшие расчеты.\n",
    "\n",
    "</div>"
   ]
  },
  {
   "cell_type": "code",
   "execution_count": 18,
   "metadata": {},
   "outputs": [
    {
     "data": {
      "text/html": [
       "<div>\n",
       "<style scoped>\n",
       "    .dataframe tbody tr th:only-of-type {\n",
       "        vertical-align: middle;\n",
       "    }\n",
       "\n",
       "    .dataframe tbody tr th {\n",
       "        vertical-align: top;\n",
       "    }\n",
       "\n",
       "    .dataframe thead th {\n",
       "        text-align: right;\n",
       "    }\n",
       "</style>\n",
       "<table border=\"1\" class=\"dataframe\">\n",
       "  <thead>\n",
       "    <tr style=\"text-align: right;\">\n",
       "      <th></th>\n",
       "      <th>user.id</th>\n",
       "      <th>first_ts</th>\n",
       "      <th>event.time</th>\n",
       "      <th>event.name</th>\n",
       "      <th>active_date</th>\n",
       "      <th>session_id</th>\n",
       "    </tr>\n",
       "  </thead>\n",
       "  <tbody>\n",
       "    <tr>\n",
       "      <th>0</th>\n",
       "      <td>0001b1d5-b74a-4cbf-aeb0-7df5947bf349</td>\n",
       "      <td>2019-10-03</td>\n",
       "      <td>2019-10-07 13:39:45.989359</td>\n",
       "      <td>tips_show</td>\n",
       "      <td>2019-10-03</td>\n",
       "      <td>1</td>\n",
       "    </tr>\n",
       "    <tr>\n",
       "      <th>1</th>\n",
       "      <td>0001b1d5-b74a-4cbf-aeb0-7df5947bf349</td>\n",
       "      <td>2019-10-03</td>\n",
       "      <td>2019-10-07 13:40:31.052909</td>\n",
       "      <td>tips_show</td>\n",
       "      <td>2019-10-03</td>\n",
       "      <td>1</td>\n",
       "    </tr>\n",
       "    <tr>\n",
       "      <th>2</th>\n",
       "      <td>0001b1d5-b74a-4cbf-aeb0-7df5947bf349</td>\n",
       "      <td>2019-10-03</td>\n",
       "      <td>2019-10-07 13:41:05.722489</td>\n",
       "      <td>tips_show</td>\n",
       "      <td>2019-10-03</td>\n",
       "      <td>1</td>\n",
       "    </tr>\n",
       "    <tr>\n",
       "      <th>3</th>\n",
       "      <td>0001b1d5-b74a-4cbf-aeb0-7df5947bf349</td>\n",
       "      <td>2019-10-03</td>\n",
       "      <td>2019-10-07 13:43:20.735461</td>\n",
       "      <td>tips_show</td>\n",
       "      <td>2019-10-03</td>\n",
       "      <td>1</td>\n",
       "    </tr>\n",
       "    <tr>\n",
       "      <th>4</th>\n",
       "      <td>0001b1d5-b74a-4cbf-aeb0-7df5947bf349</td>\n",
       "      <td>2019-10-03</td>\n",
       "      <td>2019-10-07 13:45:30.917502</td>\n",
       "      <td>tips_show</td>\n",
       "      <td>2019-10-03</td>\n",
       "      <td>1</td>\n",
       "    </tr>\n",
       "  </tbody>\n",
       "</table>\n",
       "</div>"
      ],
      "text/plain": [
       "                                user.id   first_ts                 event.time  \\\n",
       "0  0001b1d5-b74a-4cbf-aeb0-7df5947bf349 2019-10-03 2019-10-07 13:39:45.989359   \n",
       "1  0001b1d5-b74a-4cbf-aeb0-7df5947bf349 2019-10-03 2019-10-07 13:40:31.052909   \n",
       "2  0001b1d5-b74a-4cbf-aeb0-7df5947bf349 2019-10-03 2019-10-07 13:41:05.722489   \n",
       "3  0001b1d5-b74a-4cbf-aeb0-7df5947bf349 2019-10-03 2019-10-07 13:43:20.735461   \n",
       "4  0001b1d5-b74a-4cbf-aeb0-7df5947bf349 2019-10-03 2019-10-07 13:45:30.917502   \n",
       "\n",
       "  event.name active_date  session_id  \n",
       "0  tips_show  2019-10-03           1  \n",
       "1  tips_show  2019-10-03           1  \n",
       "2  tips_show  2019-10-03           1  \n",
       "3  tips_show  2019-10-03           1  \n",
       "4  tips_show  2019-10-03           1  "
      ]
     },
     "execution_count": 18,
     "metadata": {},
     "output_type": "execute_result"
    }
   ],
   "source": [
    "#преобразуем в формат даты datetimes\n",
    "data['event.time'] = pd.to_datetime(data['event.time'])\n",
    "#устанавливаем разницу в 40 минут для определения длины сессии\n",
    "g = (data.groupby('user.id')['event.time'].diff() > pd.Timedelta('40Min')).cumsum()\n",
    "#создаем счетчик групп\n",
    "data['session_id'] = data.groupby(['user.id', g], sort=False).ngroup() + 1\n",
    "data.head(5)"
   ]
  },
  {
   "cell_type": "code",
   "execution_count": 19,
   "metadata": {},
   "outputs": [
    {
     "data": {
      "text/html": [
       "<div>\n",
       "<style scoped>\n",
       "    .dataframe tbody tr th:only-of-type {\n",
       "        vertical-align: middle;\n",
       "    }\n",
       "\n",
       "    .dataframe tbody tr th {\n",
       "        vertical-align: top;\n",
       "    }\n",
       "\n",
       "    .dataframe thead th {\n",
       "        text-align: right;\n",
       "    }\n",
       "</style>\n",
       "<table border=\"1\" class=\"dataframe\">\n",
       "  <thead>\n",
       "    <tr style=\"text-align: right;\">\n",
       "      <th></th>\n",
       "      <th>user.id</th>\n",
       "      <th>first_ts</th>\n",
       "      <th>event.time</th>\n",
       "      <th>event.name</th>\n",
       "      <th>active_date</th>\n",
       "      <th>session_id</th>\n",
       "      <th>seniority</th>\n",
       "    </tr>\n",
       "  </thead>\n",
       "  <tbody>\n",
       "    <tr>\n",
       "      <th>0</th>\n",
       "      <td>0001b1d5-b74a-4cbf-aeb0-7df5947bf349</td>\n",
       "      <td>2019-10-03</td>\n",
       "      <td>2019-10-07 13:39:45.989359</td>\n",
       "      <td>tips_show</td>\n",
       "      <td>2019-10-03</td>\n",
       "      <td>1</td>\n",
       "      <td>1</td>\n",
       "    </tr>\n",
       "    <tr>\n",
       "      <th>1</th>\n",
       "      <td>0001b1d5-b74a-4cbf-aeb0-7df5947bf349</td>\n",
       "      <td>2019-10-03</td>\n",
       "      <td>2019-10-07 13:40:31.052909</td>\n",
       "      <td>tips_show</td>\n",
       "      <td>2019-10-03</td>\n",
       "      <td>1</td>\n",
       "      <td>1</td>\n",
       "    </tr>\n",
       "    <tr>\n",
       "      <th>2</th>\n",
       "      <td>0001b1d5-b74a-4cbf-aeb0-7df5947bf349</td>\n",
       "      <td>2019-10-03</td>\n",
       "      <td>2019-10-07 13:41:05.722489</td>\n",
       "      <td>tips_show</td>\n",
       "      <td>2019-10-03</td>\n",
       "      <td>1</td>\n",
       "      <td>1</td>\n",
       "    </tr>\n",
       "    <tr>\n",
       "      <th>3</th>\n",
       "      <td>0001b1d5-b74a-4cbf-aeb0-7df5947bf349</td>\n",
       "      <td>2019-10-03</td>\n",
       "      <td>2019-10-07 13:43:20.735461</td>\n",
       "      <td>tips_show</td>\n",
       "      <td>2019-10-03</td>\n",
       "      <td>1</td>\n",
       "      <td>1</td>\n",
       "    </tr>\n",
       "    <tr>\n",
       "      <th>4</th>\n",
       "      <td>0001b1d5-b74a-4cbf-aeb0-7df5947bf349</td>\n",
       "      <td>2019-10-03</td>\n",
       "      <td>2019-10-07 13:45:30.917502</td>\n",
       "      <td>tips_show</td>\n",
       "      <td>2019-10-03</td>\n",
       "      <td>1</td>\n",
       "      <td>1</td>\n",
       "    </tr>\n",
       "  </tbody>\n",
       "</table>\n",
       "</div>"
      ],
      "text/plain": [
       "                                user.id   first_ts                 event.time  \\\n",
       "0  0001b1d5-b74a-4cbf-aeb0-7df5947bf349 2019-10-03 2019-10-07 13:39:45.989359   \n",
       "1  0001b1d5-b74a-4cbf-aeb0-7df5947bf349 2019-10-03 2019-10-07 13:40:31.052909   \n",
       "2  0001b1d5-b74a-4cbf-aeb0-7df5947bf349 2019-10-03 2019-10-07 13:41:05.722489   \n",
       "3  0001b1d5-b74a-4cbf-aeb0-7df5947bf349 2019-10-03 2019-10-07 13:43:20.735461   \n",
       "4  0001b1d5-b74a-4cbf-aeb0-7df5947bf349 2019-10-03 2019-10-07 13:45:30.917502   \n",
       "\n",
       "  event.name active_date  session_id  seniority  \n",
       "0  tips_show  2019-10-03           1          1  \n",
       "1  tips_show  2019-10-03           1          1  \n",
       "2  tips_show  2019-10-03           1          1  \n",
       "3  tips_show  2019-10-03           1          1  \n",
       "4  tips_show  2019-10-03           1          1  "
      ]
     },
     "execution_count": 19,
     "metadata": {},
     "output_type": "execute_result"
    }
   ],
   "source": [
    "data['seniority'] = (data['active_date'] - data['first_ts']).dt.days + 1\n",
    "data.head(5)"
   ]
  },
  {
   "cell_type": "markdown",
   "metadata": {},
   "source": [
    "<div class=\"alert alert-block alert-success\">✔️\n",
    "    \n",
    "\n",
    "__Комментарий от тимлида №1__\n",
    "\n",
    "Сессии выделены корректно"
   ]
  },
  {
   "cell_type": "code",
   "execution_count": 20,
   "metadata": {},
   "outputs": [],
   "source": [
    "group = data.groupby(['first_ts', 'seniority'])"
   ]
  },
  {
   "cell_type": "code",
   "execution_count": 21,
   "metadata": {},
   "outputs": [],
   "source": [
    "cohort_data = group['user.id'].size()"
   ]
  },
  {
   "cell_type": "code",
   "execution_count": 22,
   "metadata": {},
   "outputs": [
    {
     "data": {
      "text/plain": [
       "first_ts    seniority\n",
       "2019-10-03  1             7071\n",
       "            8             1846\n",
       "            15            1680\n",
       "            22             893\n",
       "            29             642\n",
       "2019-10-10  1            15391\n",
       "            8             3812\n",
       "            15            2657\n",
       "            22             889\n",
       "2019-10-17  1            13342\n",
       "            8             4074\n",
       "            15            1137\n",
       "2019-10-24  1            13272\n",
       "            8             2195\n",
       "2019-10-31  1             5296\n",
       "Name: user.id, dtype: int64"
      ]
     },
     "execution_count": 22,
     "metadata": {},
     "output_type": "execute_result"
    }
   ],
   "source": [
    "cohort_data"
   ]
  },
  {
   "cell_type": "code",
   "execution_count": 23,
   "metadata": {},
   "outputs": [],
   "source": [
    "cohort_data = cohort_data.reset_index()"
   ]
  },
  {
   "cell_type": "code",
   "execution_count": 24,
   "metadata": {},
   "outputs": [],
   "source": [
    "cohort_counts = cohort_data.pivot(index='first_ts', columns='seniority', values='user.id')"
   ]
  },
  {
   "cell_type": "code",
   "execution_count": 25,
   "metadata": {},
   "outputs": [
    {
     "data": {
      "text/html": [
       "<div>\n",
       "<style scoped>\n",
       "    .dataframe tbody tr th:only-of-type {\n",
       "        vertical-align: middle;\n",
       "    }\n",
       "\n",
       "    .dataframe tbody tr th {\n",
       "        vertical-align: top;\n",
       "    }\n",
       "\n",
       "    .dataframe thead th {\n",
       "        text-align: right;\n",
       "    }\n",
       "</style>\n",
       "<table border=\"1\" class=\"dataframe\">\n",
       "  <thead>\n",
       "    <tr style=\"text-align: right;\">\n",
       "      <th>seniority</th>\n",
       "      <th>1</th>\n",
       "      <th>8</th>\n",
       "      <th>15</th>\n",
       "      <th>22</th>\n",
       "      <th>29</th>\n",
       "    </tr>\n",
       "    <tr>\n",
       "      <th>first_ts</th>\n",
       "      <th></th>\n",
       "      <th></th>\n",
       "      <th></th>\n",
       "      <th></th>\n",
       "      <th></th>\n",
       "    </tr>\n",
       "  </thead>\n",
       "  <tbody>\n",
       "    <tr>\n",
       "      <th>2019-10-03</th>\n",
       "      <td>7071.0</td>\n",
       "      <td>1846.0</td>\n",
       "      <td>1680.0</td>\n",
       "      <td>893.0</td>\n",
       "      <td>642.0</td>\n",
       "    </tr>\n",
       "    <tr>\n",
       "      <th>2019-10-10</th>\n",
       "      <td>15391.0</td>\n",
       "      <td>3812.0</td>\n",
       "      <td>2657.0</td>\n",
       "      <td>889.0</td>\n",
       "      <td>NaN</td>\n",
       "    </tr>\n",
       "    <tr>\n",
       "      <th>2019-10-17</th>\n",
       "      <td>13342.0</td>\n",
       "      <td>4074.0</td>\n",
       "      <td>1137.0</td>\n",
       "      <td>NaN</td>\n",
       "      <td>NaN</td>\n",
       "    </tr>\n",
       "    <tr>\n",
       "      <th>2019-10-24</th>\n",
       "      <td>13272.0</td>\n",
       "      <td>2195.0</td>\n",
       "      <td>NaN</td>\n",
       "      <td>NaN</td>\n",
       "      <td>NaN</td>\n",
       "    </tr>\n",
       "    <tr>\n",
       "      <th>2019-10-31</th>\n",
       "      <td>5296.0</td>\n",
       "      <td>NaN</td>\n",
       "      <td>NaN</td>\n",
       "      <td>NaN</td>\n",
       "      <td>NaN</td>\n",
       "    </tr>\n",
       "  </tbody>\n",
       "</table>\n",
       "</div>"
      ],
      "text/plain": [
       "seniority        1       8       15     22     29\n",
       "first_ts                                         \n",
       "2019-10-03   7071.0  1846.0  1680.0  893.0  642.0\n",
       "2019-10-10  15391.0  3812.0  2657.0  889.0    NaN\n",
       "2019-10-17  13342.0  4074.0  1137.0    NaN    NaN\n",
       "2019-10-24  13272.0  2195.0     NaN    NaN    NaN\n",
       "2019-10-31   5296.0     NaN     NaN    NaN    NaN"
      ]
     },
     "execution_count": 25,
     "metadata": {},
     "output_type": "execute_result"
    }
   ],
   "source": [
    "cohort_counts"
   ]
  },
  {
   "cell_type": "code",
   "execution_count": 26,
   "metadata": {},
   "outputs": [],
   "source": [
    "base = cohort_counts[1]"
   ]
  },
  {
   "cell_type": "code",
   "execution_count": 27,
   "metadata": {},
   "outputs": [
    {
     "data": {
      "text/html": [
       "<div>\n",
       "<style scoped>\n",
       "    .dataframe tbody tr th:only-of-type {\n",
       "        vertical-align: middle;\n",
       "    }\n",
       "\n",
       "    .dataframe tbody tr th {\n",
       "        vertical-align: top;\n",
       "    }\n",
       "\n",
       "    .dataframe thead th {\n",
       "        text-align: right;\n",
       "    }\n",
       "</style>\n",
       "<table border=\"1\" class=\"dataframe\">\n",
       "  <thead>\n",
       "    <tr style=\"text-align: right;\">\n",
       "      <th>seniority</th>\n",
       "      <th>1</th>\n",
       "      <th>8</th>\n",
       "      <th>15</th>\n",
       "      <th>22</th>\n",
       "      <th>29</th>\n",
       "    </tr>\n",
       "    <tr>\n",
       "      <th>first_ts</th>\n",
       "      <th></th>\n",
       "      <th></th>\n",
       "      <th></th>\n",
       "      <th></th>\n",
       "      <th></th>\n",
       "    </tr>\n",
       "  </thead>\n",
       "  <tbody>\n",
       "    <tr>\n",
       "      <th>2019-10-03</th>\n",
       "      <td>1.0</td>\n",
       "      <td>0.261</td>\n",
       "      <td>0.238</td>\n",
       "      <td>0.126</td>\n",
       "      <td>0.091</td>\n",
       "    </tr>\n",
       "    <tr>\n",
       "      <th>2019-10-10</th>\n",
       "      <td>1.0</td>\n",
       "      <td>0.248</td>\n",
       "      <td>0.173</td>\n",
       "      <td>0.058</td>\n",
       "      <td>NaN</td>\n",
       "    </tr>\n",
       "    <tr>\n",
       "      <th>2019-10-17</th>\n",
       "      <td>1.0</td>\n",
       "      <td>0.305</td>\n",
       "      <td>0.085</td>\n",
       "      <td>NaN</td>\n",
       "      <td>NaN</td>\n",
       "    </tr>\n",
       "    <tr>\n",
       "      <th>2019-10-24</th>\n",
       "      <td>1.0</td>\n",
       "      <td>0.165</td>\n",
       "      <td>NaN</td>\n",
       "      <td>NaN</td>\n",
       "      <td>NaN</td>\n",
       "    </tr>\n",
       "    <tr>\n",
       "      <th>2019-10-31</th>\n",
       "      <td>1.0</td>\n",
       "      <td>NaN</td>\n",
       "      <td>NaN</td>\n",
       "      <td>NaN</td>\n",
       "      <td>NaN</td>\n",
       "    </tr>\n",
       "  </tbody>\n",
       "</table>\n",
       "</div>"
      ],
      "text/plain": [
       "seniority    1      8      15     22     29\n",
       "first_ts                                   \n",
       "2019-10-03  1.0  0.261  0.238  0.126  0.091\n",
       "2019-10-10  1.0  0.248  0.173  0.058    NaN\n",
       "2019-10-17  1.0  0.305  0.085    NaN    NaN\n",
       "2019-10-24  1.0  0.165    NaN    NaN    NaN\n",
       "2019-10-31  1.0    NaN    NaN    NaN    NaN"
      ]
     },
     "execution_count": 27,
     "metadata": {},
     "output_type": "execute_result"
    }
   ],
   "source": [
    "retention = cohort_counts.divide(base, axis=0).round(3)\n",
    "retention"
   ]
  },
  {
   "cell_type": "code",
   "execution_count": 28,
   "metadata": {},
   "outputs": [
    {
     "data": {
      "image/png": "[encoded data removed]",
      "text/plain": [
       "<Figure size 1296x1008 with 2 Axes>"
      ]
     },
     "metadata": {
      "needs_background": "light"
     },
     "output_type": "display_data"
    }
   ],
   "source": [
    "plt.figure(figsize=(18,14))\n",
    "plt.title('Users Active')\n",
    "ax = sns.heatmap(data=cohort_counts, annot=True, vmin=0.0,cmap='Reds', fmt = \"g\")\n",
    "ax.set_yticklabels(cohort_counts.index)\n",
    "fig=ax.get_figure()\n",
    "fig.savefig(\"Retention Counts.png\")\n",
    "plt.show()"
   ]
  },
  {
   "cell_type": "markdown",
   "metadata": {},
   "source": [
    "<div class=\"alert alert-block alert-danger\">✍\n",
    "    \n",
    "\n",
    "__Комментарий от тимлида №1__\n",
    "\n",
    "А для чего тут e-значения?"
   ]
  },
  {
   "cell_type": "code",
   "execution_count": 29,
   "metadata": {},
   "outputs": [
    {
     "data": {
      "image/png": "[encoded data removed]",
      "text/plain": [
       "<Figure size 1296x1008 with 2 Axes>"
      ]
     },
     "metadata": {
      "needs_background": "light"
     },
     "output_type": "display_data"
    }
   ],
   "source": [
    "plt.figure(figsize=(18,14))\n",
    "plt.title('Retention Table')\n",
    "ax = sns.heatmap(data=retention, annot=True, fmt='.0%', vmin=0.0, vmax=1,cmap='Reds')\n",
    "ax.set_yticklabels(retention.index)\n",
    "fig=ax.get_figure()\n",
    "fig.savefig(\"Retention_Rate.png\")\n",
    "plt.show()"
   ]
  },
  {
   "cell_type": "markdown",
   "metadata": {},
   "source": [
    "По удержанию пользователей можно сделать вывод, что интерес пользователя ослабевает после второй недели использования приложения Ненужные вещи."
   ]
  },
  {
   "cell_type": "markdown",
   "metadata": {},
   "source": [
    "<div class=\"alert alert-block alert-success\">✔️\n",
    "    \n",
    "\n",
    "__Комментарий от тимлида №1__\n",
    "\n",
    "Отлично! Retention rate рассчитан верно и тепловая карта оформлена корректно\n",
    "</div>"
   ]
  },
  {
   "cell_type": "markdown",
   "metadata": {},
   "source": [
    "### Исследовательский анализ поведения пользователей по времени, проведенном в приложении "
   ]
  },
  {
   "cell_type": "code",
   "execution_count": 30,
   "metadata": {},
   "outputs": [
    {
     "data": {
      "text/html": [
       "<div>\n",
       "<style scoped>\n",
       "    .dataframe tbody tr th:only-of-type {\n",
       "        vertical-align: middle;\n",
       "    }\n",
       "\n",
       "    .dataframe tbody tr th {\n",
       "        vertical-align: top;\n",
       "    }\n",
       "\n",
       "    .dataframe thead th {\n",
       "        text-align: right;\n",
       "    }\n",
       "</style>\n",
       "<table border=\"1\" class=\"dataframe\">\n",
       "  <thead>\n",
       "    <tr style=\"text-align: right;\">\n",
       "      <th></th>\n",
       "      <th>session_id</th>\n",
       "      <th>first_ss</th>\n",
       "    </tr>\n",
       "  </thead>\n",
       "  <tbody>\n",
       "    <tr>\n",
       "      <th>0</th>\n",
       "      <td>1</td>\n",
       "      <td>2019-10-07 13:39:45.989359</td>\n",
       "    </tr>\n",
       "    <tr>\n",
       "      <th>1</th>\n",
       "      <td>2</td>\n",
       "      <td>2019-10-09 18:33:55.577963</td>\n",
       "    </tr>\n",
       "    <tr>\n",
       "      <th>2</th>\n",
       "      <td>3</td>\n",
       "      <td>2019-10-21 19:52:30.778932</td>\n",
       "    </tr>\n",
       "    <tr>\n",
       "      <th>3</th>\n",
       "      <td>4</td>\n",
       "      <td>2019-10-22 11:18:14.635436</td>\n",
       "    </tr>\n",
       "    <tr>\n",
       "      <th>4</th>\n",
       "      <td>5</td>\n",
       "      <td>2019-10-19 21:34:33.849769</td>\n",
       "    </tr>\n",
       "    <tr>\n",
       "      <th>...</th>\n",
       "      <td>...</td>\n",
       "      <td>...</td>\n",
       "    </tr>\n",
       "    <tr>\n",
       "      <th>10024</th>\n",
       "      <td>10025</td>\n",
       "      <td>2019-11-02 01:16:48.947231</td>\n",
       "    </tr>\n",
       "    <tr>\n",
       "      <th>10025</th>\n",
       "      <td>10026</td>\n",
       "      <td>2019-11-02 18:01:27.094834</td>\n",
       "    </tr>\n",
       "    <tr>\n",
       "      <th>10026</th>\n",
       "      <td>10027</td>\n",
       "      <td>2019-11-02 19:25:53.794029</td>\n",
       "    </tr>\n",
       "    <tr>\n",
       "      <th>10027</th>\n",
       "      <td>10028</td>\n",
       "      <td>2019-11-03 14:32:55.956301</td>\n",
       "    </tr>\n",
       "    <tr>\n",
       "      <th>10028</th>\n",
       "      <td>10029</td>\n",
       "      <td>2019-11-03 15:36:01.007440</td>\n",
       "    </tr>\n",
       "  </tbody>\n",
       "</table>\n",
       "<p>10029 rows × 2 columns</p>\n",
       "</div>"
      ],
      "text/plain": [
       "       session_id                   first_ss\n",
       "0               1 2019-10-07 13:39:45.989359\n",
       "1               2 2019-10-09 18:33:55.577963\n",
       "2               3 2019-10-21 19:52:30.778932\n",
       "3               4 2019-10-22 11:18:14.635436\n",
       "4               5 2019-10-19 21:34:33.849769\n",
       "...           ...                        ...\n",
       "10024       10025 2019-11-02 01:16:48.947231\n",
       "10025       10026 2019-11-02 18:01:27.094834\n",
       "10026       10027 2019-11-02 19:25:53.794029\n",
       "10027       10028 2019-11-03 14:32:55.956301\n",
       "10028       10029 2019-11-03 15:36:01.007440\n",
       "\n",
       "[10029 rows x 2 columns]"
      ]
     },
     "metadata": {},
     "output_type": "display_data"
    }
   ],
   "source": [
    "# cгруппируем и найдем первый заход для каждой сессии\n",
    "first_ss = data.groupby('session_id').agg({'event.time': 'min'}).reset_index()\n",
    "\n",
    "first_ss = first_ss.rename(columns={'event.time':'first_ss'})\n",
    "first_ss['first_ss'] = first_ss['first_ss'].astype('datetime64')\n",
    "display(first_ss)"
   ]
  },
  {
   "cell_type": "code",
   "execution_count": 31,
   "metadata": {},
   "outputs": [
    {
     "data": {
      "text/html": [
       "<div>\n",
       "<style scoped>\n",
       "    .dataframe tbody tr th:only-of-type {\n",
       "        vertical-align: middle;\n",
       "    }\n",
       "\n",
       "    .dataframe tbody tr th {\n",
       "        vertical-align: top;\n",
       "    }\n",
       "\n",
       "    .dataframe thead th {\n",
       "        text-align: right;\n",
       "    }\n",
       "</style>\n",
       "<table border=\"1\" class=\"dataframe\">\n",
       "  <thead>\n",
       "    <tr style=\"text-align: right;\">\n",
       "      <th></th>\n",
       "      <th>session_id</th>\n",
       "      <th>last_ss</th>\n",
       "    </tr>\n",
       "  </thead>\n",
       "  <tbody>\n",
       "    <tr>\n",
       "      <th>0</th>\n",
       "      <td>1</td>\n",
       "      <td>2019-10-07 13:49:41.716617</td>\n",
       "    </tr>\n",
       "    <tr>\n",
       "      <th>1</th>\n",
       "      <td>2</td>\n",
       "      <td>2019-10-09 18:42:22.963948</td>\n",
       "    </tr>\n",
       "    <tr>\n",
       "      <th>2</th>\n",
       "      <td>3</td>\n",
       "      <td>2019-10-21 20:07:30.051028</td>\n",
       "    </tr>\n",
       "  </tbody>\n",
       "</table>\n",
       "</div>"
      ],
      "text/plain": [
       "   session_id                    last_ss\n",
       "0           1 2019-10-07 13:49:41.716617\n",
       "1           2 2019-10-09 18:42:22.963948\n",
       "2           3 2019-10-21 20:07:30.051028"
      ]
     },
     "execution_count": 31,
     "metadata": {},
     "output_type": "execute_result"
    }
   ],
   "source": [
    "last_ss = data.groupby('session_id').agg({'event.time': 'max'}).reset_index()\n",
    "last_ss = last_ss.rename(columns={'event.time':'last_ss'})\n",
    "last_ss['last_ss'] = last_ss['last_ss'].astype('datetime64')\n",
    "last_ss.head(3)"
   ]
  },
  {
   "cell_type": "code",
   "execution_count": 32,
   "metadata": {},
   "outputs": [
    {
     "data": {
      "text/html": [
       "<div>\n",
       "<style scoped>\n",
       "    .dataframe tbody tr th:only-of-type {\n",
       "        vertical-align: middle;\n",
       "    }\n",
       "\n",
       "    .dataframe tbody tr th {\n",
       "        vertical-align: top;\n",
       "    }\n",
       "\n",
       "    .dataframe thead th {\n",
       "        text-align: right;\n",
       "    }\n",
       "</style>\n",
       "<table border=\"1\" class=\"dataframe\">\n",
       "  <thead>\n",
       "    <tr style=\"text-align: right;\">\n",
       "      <th></th>\n",
       "      <th>session_id</th>\n",
       "      <th>first_ss</th>\n",
       "      <th>last_ss</th>\n",
       "    </tr>\n",
       "  </thead>\n",
       "  <tbody>\n",
       "    <tr>\n",
       "      <th>0</th>\n",
       "      <td>1</td>\n",
       "      <td>2019-10-07 13:39:45.989359</td>\n",
       "      <td>2019-10-07 13:49:41.716617</td>\n",
       "    </tr>\n",
       "    <tr>\n",
       "      <th>1</th>\n",
       "      <td>2</td>\n",
       "      <td>2019-10-09 18:33:55.577963</td>\n",
       "      <td>2019-10-09 18:42:22.963948</td>\n",
       "    </tr>\n",
       "    <tr>\n",
       "      <th>2</th>\n",
       "      <td>3</td>\n",
       "      <td>2019-10-21 19:52:30.778932</td>\n",
       "      <td>2019-10-21 20:07:30.051028</td>\n",
       "    </tr>\n",
       "  </tbody>\n",
       "</table>\n",
       "</div>"
      ],
      "text/plain": [
       "   session_id                   first_ss                    last_ss\n",
       "0           1 2019-10-07 13:39:45.989359 2019-10-07 13:49:41.716617\n",
       "1           2 2019-10-09 18:33:55.577963 2019-10-09 18:42:22.963948\n",
       "2           3 2019-10-21 19:52:30.778932 2019-10-21 20:07:30.051028"
      ]
     },
     "execution_count": 32,
     "metadata": {},
     "output_type": "execute_result"
    }
   ],
   "source": [
    "last_ss = first_ss.merge(last_ss, on='session_id', how='left')\n",
    "last_ss.head(3)\n"
   ]
  },
  {
   "cell_type": "code",
   "execution_count": 33,
   "metadata": {},
   "outputs": [
    {
     "name": "stdout",
     "output_type": "stream",
     "text": [
      "<class 'pandas.core.frame.DataFrame'>\n",
      "Int64Index: 10029 entries, 0 to 10028\n",
      "Data columns (total 3 columns):\n",
      " #   Column      Non-Null Count  Dtype         \n",
      "---  ------      --------------  -----         \n",
      " 0   session_id  10029 non-null  int64         \n",
      " 1   first_ss    10029 non-null  datetime64[ns]\n",
      " 2   last_ss     10029 non-null  datetime64[ns]\n",
      "dtypes: datetime64[ns](2), int64(1)\n",
      "memory usage: 313.4 KB\n"
     ]
    }
   ],
   "source": [
    "last_ss.info()"
   ]
  },
  {
   "cell_type": "code",
   "execution_count": 34,
   "metadata": {},
   "outputs": [
    {
     "data": {
      "text/html": [
       "<div>\n",
       "<style scoped>\n",
       "    .dataframe tbody tr th:only-of-type {\n",
       "        vertical-align: middle;\n",
       "    }\n",
       "\n",
       "    .dataframe tbody tr th {\n",
       "        vertical-align: top;\n",
       "    }\n",
       "\n",
       "    .dataframe thead th {\n",
       "        text-align: right;\n",
       "    }\n",
       "</style>\n",
       "<table border=\"1\" class=\"dataframe\">\n",
       "  <thead>\n",
       "    <tr style=\"text-align: right;\">\n",
       "      <th></th>\n",
       "      <th>session_id</th>\n",
       "      <th>first_ss</th>\n",
       "      <th>last_ss</th>\n",
       "      <th>length_ss</th>\n",
       "      <th>len_sek</th>\n",
       "    </tr>\n",
       "  </thead>\n",
       "  <tbody>\n",
       "    <tr>\n",
       "      <th>0</th>\n",
       "      <td>1</td>\n",
       "      <td>2019-10-07 13:39:45.989359</td>\n",
       "      <td>2019-10-07 13:49:41.716617</td>\n",
       "      <td>0 days 00:09:55.727258</td>\n",
       "      <td>595.727258</td>\n",
       "    </tr>\n",
       "    <tr>\n",
       "      <th>1</th>\n",
       "      <td>2</td>\n",
       "      <td>2019-10-09 18:33:55.577963</td>\n",
       "      <td>2019-10-09 18:42:22.963948</td>\n",
       "      <td>0 days 00:08:27.385985</td>\n",
       "      <td>507.385985</td>\n",
       "    </tr>\n",
       "    <tr>\n",
       "      <th>2</th>\n",
       "      <td>3</td>\n",
       "      <td>2019-10-21 19:52:30.778932</td>\n",
       "      <td>2019-10-21 20:07:30.051028</td>\n",
       "      <td>0 days 00:14:59.272096</td>\n",
       "      <td>899.272096</td>\n",
       "    </tr>\n",
       "  </tbody>\n",
       "</table>\n",
       "</div>"
      ],
      "text/plain": [
       "   session_id                   first_ss                    last_ss  \\\n",
       "0           1 2019-10-07 13:39:45.989359 2019-10-07 13:49:41.716617   \n",
       "1           2 2019-10-09 18:33:55.577963 2019-10-09 18:42:22.963948   \n",
       "2           3 2019-10-21 19:52:30.778932 2019-10-21 20:07:30.051028   \n",
       "\n",
       "               length_ss     len_sek  \n",
       "0 0 days 00:09:55.727258  595.727258  \n",
       "1 0 days 00:08:27.385985  507.385985  \n",
       "2 0 days 00:14:59.272096  899.272096  "
      ]
     },
     "execution_count": 34,
     "metadata": {},
     "output_type": "execute_result"
    }
   ],
   "source": [
    "last_ss['length_ss'] = (last_ss['last_ss'] - last_ss['first_ss'])\n",
    "last_ss['len_sek'] = last_ss['length_ss'].dt.total_seconds()\n",
    "last_ss.head(3)"
   ]
  },
  {
   "cell_type": "code",
   "execution_count": 35,
   "metadata": {},
   "outputs": [
    {
     "name": "stdout",
     "output_type": "stream",
     "text": [
      "<class 'pandas.core.frame.DataFrame'>\n",
      "Int64Index: 10029 entries, 0 to 10028\n",
      "Data columns (total 5 columns):\n",
      " #   Column      Non-Null Count  Dtype          \n",
      "---  ------      --------------  -----          \n",
      " 0   session_id  10029 non-null  int64          \n",
      " 1   first_ss    10029 non-null  datetime64[ns] \n",
      " 2   last_ss     10029 non-null  datetime64[ns] \n",
      " 3   length_ss   10029 non-null  timedelta64[ns]\n",
      " 4   len_sek     10029 non-null  float64        \n",
      "dtypes: datetime64[ns](2), float64(1), int64(1), timedelta64[ns](1)\n",
      "memory usage: 470.1 KB\n"
     ]
    }
   ],
   "source": [
    "last_ss.info()"
   ]
  },
  {
   "cell_type": "code",
   "execution_count": 36,
   "metadata": {},
   "outputs": [
    {
     "data": {
      "text/plain": [
       "(array([-2000.,     0.,  2000.,  4000.,  6000.,  8000., 10000., 12000.]),\n",
       " [Text(0, 0, ''),\n",
       "  Text(0, 0, ''),\n",
       "  Text(0, 0, ''),\n",
       "  Text(0, 0, ''),\n",
       "  Text(0, 0, ''),\n",
       "  Text(0, 0, ''),\n",
       "  Text(0, 0, ''),\n",
       "  Text(0, 0, '')])"
      ]
     },
     "execution_count": 36,
     "metadata": {},
     "output_type": "execute_result"
    },
    {
     "data": {
      "image/png": "[encoded data removed]",
      "text/plain": [
       "<Figure size 432x288 with 1 Axes>"
      ]
     },
     "metadata": {
      "needs_background": "light"
     },
     "output_type": "display_data"
    }
   ],
   "source": [
    "last_ss.hist('len_sek',bins=80, range=(0, 10000))\n",
    "plt.xticks(rotation=90)"
   ]
  },
  {
   "cell_type": "code",
   "execution_count": 37,
   "metadata": {},
   "outputs": [
    {
     "data": {
      "text/plain": [
       "count    10029.000000\n",
       "mean       868.962482\n",
       "std       1389.353050\n",
       "min          0.000000\n",
       "25%         28.887504\n",
       "50%        360.572400\n",
       "75%       1148.100930\n",
       "max      22055.837396\n",
       "Name: len_sek, dtype: float64"
      ]
     },
     "execution_count": 37,
     "metadata": {},
     "output_type": "execute_result"
    }
   ],
   "source": [
    "last_ss['len_sek'].describe()"
   ]
  },
  {
   "cell_type": "markdown",
   "metadata": {},
   "source": [
    "Среднее по времени использования приложения в два раза больше медианы: это значит, что есть несколько очень больших значений, которые влияют на среднее, но не на медиану."
   ]
  },
  {
   "cell_type": "code",
   "execution_count": 38,
   "metadata": {},
   "outputs": [
    {
     "data": {
      "text/plain": [
       "9     10\n",
       "19    20\n",
       "26    27\n",
       "Name: session_id, dtype: int64"
      ]
     },
     "execution_count": 38,
     "metadata": {},
     "output_type": "execute_result"
    }
   ],
   "source": [
    "min_session = last_ss.query('len_sek == 0')['session_id']\n",
    "min_session.head(3)"
   ]
  },
  {
   "cell_type": "code",
   "execution_count": 39,
   "metadata": {},
   "outputs": [
    {
     "data": {
      "text/html": [
       "<div>\n",
       "<style scoped>\n",
       "    .dataframe tbody tr th:only-of-type {\n",
       "        vertical-align: middle;\n",
       "    }\n",
       "\n",
       "    .dataframe tbody tr th {\n",
       "        vertical-align: top;\n",
       "    }\n",
       "\n",
       "    .dataframe thead th {\n",
       "        text-align: right;\n",
       "    }\n",
       "</style>\n",
       "<table border=\"1\" class=\"dataframe\">\n",
       "  <thead>\n",
       "    <tr style=\"text-align: right;\">\n",
       "      <th></th>\n",
       "      <th>user.id</th>\n",
       "      <th>first_ts</th>\n",
       "      <th>event.time</th>\n",
       "      <th>event.name</th>\n",
       "      <th>active_date</th>\n",
       "      <th>session_id</th>\n",
       "      <th>seniority</th>\n",
       "    </tr>\n",
       "  </thead>\n",
       "  <tbody>\n",
       "    <tr>\n",
       "      <th>0</th>\n",
       "      <td>00157779-810c-4498-9e05-a1e9e3cedf93</td>\n",
       "      <td>2019-10-17</td>\n",
       "      <td>2019-11-03 17:12:09.708771</td>\n",
       "      <td>show_contacts</td>\n",
       "      <td>2019-10-31</td>\n",
       "      <td>10</td>\n",
       "      <td>15</td>\n",
       "    </tr>\n",
       "    <tr>\n",
       "      <th>1</th>\n",
       "      <td>00551e79-152e-4441-9cf7-565d7eb04090</td>\n",
       "      <td>2019-10-24</td>\n",
       "      <td>2019-10-29 02:17:12.342406</td>\n",
       "      <td>photos_show</td>\n",
       "      <td>2019-10-24</td>\n",
       "      <td>20</td>\n",
       "      <td>1</td>\n",
       "    </tr>\n",
       "    <tr>\n",
       "      <th>2</th>\n",
       "      <td>00753c79-ea81-4456-acd0-a47a23ca2fb9</td>\n",
       "      <td>2019-10-17</td>\n",
       "      <td>2019-10-20 14:57:06.080501</td>\n",
       "      <td>show_contacts</td>\n",
       "      <td>2019-10-17</td>\n",
       "      <td>27</td>\n",
       "      <td>1</td>\n",
       "    </tr>\n",
       "  </tbody>\n",
       "</table>\n",
       "</div>"
      ],
      "text/plain": [
       "                                user.id   first_ts                 event.time  \\\n",
       "0  00157779-810c-4498-9e05-a1e9e3cedf93 2019-10-17 2019-11-03 17:12:09.708771   \n",
       "1  00551e79-152e-4441-9cf7-565d7eb04090 2019-10-24 2019-10-29 02:17:12.342406   \n",
       "2  00753c79-ea81-4456-acd0-a47a23ca2fb9 2019-10-17 2019-10-20 14:57:06.080501   \n",
       "\n",
       "      event.name active_date  session_id  seniority  \n",
       "0  show_contacts  2019-10-31          10         15  \n",
       "1    photos_show  2019-10-24          20          1  \n",
       "2  show_contacts  2019-10-17          27          1  "
      ]
     },
     "execution_count": 39,
     "metadata": {},
     "output_type": "execute_result"
    }
   ],
   "source": [
    "min_session1 = data.merge(min_session)\n",
    "min_session1.head(3)"
   ]
  },
  {
   "cell_type": "code",
   "execution_count": 40,
   "metadata": {},
   "outputs": [
    {
     "data": {
      "text/html": [
       "<div>\n",
       "<style scoped>\n",
       "    .dataframe tbody tr th:only-of-type {\n",
       "        vertical-align: middle;\n",
       "    }\n",
       "\n",
       "    .dataframe tbody tr th {\n",
       "        vertical-align: top;\n",
       "    }\n",
       "\n",
       "    .dataframe thead th {\n",
       "        text-align: right;\n",
       "    }\n",
       "</style>\n",
       "<table border=\"1\" class=\"dataframe\">\n",
       "  <thead>\n",
       "    <tr style=\"text-align: right;\">\n",
       "      <th></th>\n",
       "      <th>session_id</th>\n",
       "    </tr>\n",
       "    <tr>\n",
       "      <th>event.name</th>\n",
       "      <th></th>\n",
       "    </tr>\n",
       "  </thead>\n",
       "  <tbody>\n",
       "    <tr>\n",
       "      <th>tips_show</th>\n",
       "      <td>810</td>\n",
       "    </tr>\n",
       "    <tr>\n",
       "      <th>photos_show</th>\n",
       "      <td>470</td>\n",
       "    </tr>\n",
       "    <tr>\n",
       "      <th>search</th>\n",
       "      <td>361</td>\n",
       "    </tr>\n",
       "    <tr>\n",
       "      <th>show_contacts</th>\n",
       "      <td>123</td>\n",
       "    </tr>\n",
       "    <tr>\n",
       "      <th>map</th>\n",
       "      <td>92</td>\n",
       "    </tr>\n",
       "    <tr>\n",
       "      <th>advert_open</th>\n",
       "      <td>40</td>\n",
       "    </tr>\n",
       "    <tr>\n",
       "      <th>favorites_add</th>\n",
       "      <td>28</td>\n",
       "    </tr>\n",
       "    <tr>\n",
       "      <th>tips_click</th>\n",
       "      <td>10</td>\n",
       "    </tr>\n",
       "  </tbody>\n",
       "</table>\n",
       "</div>"
      ],
      "text/plain": [
       "               session_id\n",
       "event.name               \n",
       "tips_show             810\n",
       "photos_show           470\n",
       "search                361\n",
       "show_contacts         123\n",
       "map                    92\n",
       "advert_open            40\n",
       "favorites_add          28\n",
       "tips_click             10"
      ]
     },
     "execution_count": 40,
     "metadata": {},
     "output_type": "execute_result"
    }
   ],
   "source": [
    "min_session2 = min_session1.groupby(['event.name']).agg({'session_id':'count'}).sort_values(by='session_id', ascending=False)\n",
    "min_session2"
   ]
  },
  {
   "cell_type": "markdown",
   "metadata": {},
   "source": [
    "Самымы популярными событиями с нулевой продолжительностью стали просмотр фотографий и клики на рекомендованные объявления. Общее количество нулевых событий порядка 2%. Пока примем решение не удалять эти события из выборки."
   ]
  },
  {
   "cell_type": "code",
   "execution_count": 41,
   "metadata": {},
   "outputs": [
    {
     "data": {
      "text/plain": [
       "6026    6027\n",
       "Name: session_id, dtype: int64"
      ]
     },
     "metadata": {},
     "output_type": "display_data"
    }
   ],
   "source": [
    "max_session = last_ss.query('len_sek == len_sek.max()')['session_id']\n",
    "display(max_session)"
   ]
  },
  {
   "cell_type": "code",
   "execution_count": 42,
   "metadata": {},
   "outputs": [],
   "source": [
    "max_session1 = data.query('session_id == 6027')"
   ]
  },
  {
   "cell_type": "code",
   "execution_count": 43,
   "metadata": {},
   "outputs": [
    {
     "data": {
      "text/plain": [
       "288"
      ]
     },
     "execution_count": 43,
     "metadata": {},
     "output_type": "execute_result"
    }
   ],
   "source": [
    "data.query('session_id == 6027')['event.name'].count()"
   ]
  },
  {
   "cell_type": "code",
   "execution_count": 44,
   "metadata": {},
   "outputs": [
    {
     "data": {
      "text/html": [
       "<div>\n",
       "<style scoped>\n",
       "    .dataframe tbody tr th:only-of-type {\n",
       "        vertical-align: middle;\n",
       "    }\n",
       "\n",
       "    .dataframe tbody tr th {\n",
       "        vertical-align: top;\n",
       "    }\n",
       "\n",
       "    .dataframe thead th {\n",
       "        text-align: right;\n",
       "    }\n",
       "</style>\n",
       "<table border=\"1\" class=\"dataframe\">\n",
       "  <thead>\n",
       "    <tr style=\"text-align: right;\">\n",
       "      <th></th>\n",
       "      <th>session_id</th>\n",
       "    </tr>\n",
       "    <tr>\n",
       "      <th>event.name</th>\n",
       "      <th></th>\n",
       "    </tr>\n",
       "  </thead>\n",
       "  <tbody>\n",
       "    <tr>\n",
       "      <th>tips_show</th>\n",
       "      <td>115</td>\n",
       "    </tr>\n",
       "    <tr>\n",
       "      <th>map</th>\n",
       "      <td>71</td>\n",
       "    </tr>\n",
       "    <tr>\n",
       "      <th>favorites_add</th>\n",
       "      <td>61</td>\n",
       "    </tr>\n",
       "    <tr>\n",
       "      <th>advert_open</th>\n",
       "      <td>40</td>\n",
       "    </tr>\n",
       "    <tr>\n",
       "      <th>search</th>\n",
       "      <td>1</td>\n",
       "    </tr>\n",
       "  </tbody>\n",
       "</table>\n",
       "</div>"
      ],
      "text/plain": [
       "               session_id\n",
       "event.name               \n",
       "tips_show             115\n",
       "map                    71\n",
       "favorites_add          61\n",
       "advert_open            40\n",
       "search                  1"
      ]
     },
     "execution_count": 44,
     "metadata": {},
     "output_type": "execute_result"
    }
   ],
   "source": [
    "max_session2 = max_session1.groupby(['event.name']).agg({'session_id':'count'}).sort_values(by='session_id', ascending=False)\n",
    "max_session2"
   ]
  },
  {
   "cell_type": "code",
   "execution_count": 45,
   "metadata": {},
   "outputs": [
    {
     "data": {
      "text/html": [
       "<div>\n",
       "<style scoped>\n",
       "    .dataframe tbody tr th:only-of-type {\n",
       "        vertical-align: middle;\n",
       "    }\n",
       "\n",
       "    .dataframe tbody tr th {\n",
       "        vertical-align: top;\n",
       "    }\n",
       "\n",
       "    .dataframe thead th {\n",
       "        text-align: right;\n",
       "    }\n",
       "</style>\n",
       "<table border=\"1\" class=\"dataframe\">\n",
       "  <thead>\n",
       "    <tr style=\"text-align: right;\">\n",
       "      <th></th>\n",
       "      <th>user.id</th>\n",
       "      <th>first_ts</th>\n",
       "      <th>event.time</th>\n",
       "      <th>event.name</th>\n",
       "      <th>active_date</th>\n",
       "      <th>session_id</th>\n",
       "      <th>seniority</th>\n",
       "      <th>day_date</th>\n",
       "    </tr>\n",
       "  </thead>\n",
       "  <tbody>\n",
       "    <tr>\n",
       "      <th>0</th>\n",
       "      <td>0001b1d5-b74a-4cbf-aeb0-7df5947bf349</td>\n",
       "      <td>2019-10-03</td>\n",
       "      <td>2019-10-07 13:39:45.989359</td>\n",
       "      <td>tips_show</td>\n",
       "      <td>2019-10-03</td>\n",
       "      <td>1</td>\n",
       "      <td>1</td>\n",
       "      <td>2019-10-07</td>\n",
       "    </tr>\n",
       "    <tr>\n",
       "      <th>1</th>\n",
       "      <td>0001b1d5-b74a-4cbf-aeb0-7df5947bf349</td>\n",
       "      <td>2019-10-03</td>\n",
       "      <td>2019-10-07 13:40:31.052909</td>\n",
       "      <td>tips_show</td>\n",
       "      <td>2019-10-03</td>\n",
       "      <td>1</td>\n",
       "      <td>1</td>\n",
       "      <td>2019-10-07</td>\n",
       "    </tr>\n",
       "    <tr>\n",
       "      <th>2</th>\n",
       "      <td>0001b1d5-b74a-4cbf-aeb0-7df5947bf349</td>\n",
       "      <td>2019-10-03</td>\n",
       "      <td>2019-10-07 13:41:05.722489</td>\n",
       "      <td>tips_show</td>\n",
       "      <td>2019-10-03</td>\n",
       "      <td>1</td>\n",
       "      <td>1</td>\n",
       "      <td>2019-10-07</td>\n",
       "    </tr>\n",
       "    <tr>\n",
       "      <th>3</th>\n",
       "      <td>0001b1d5-b74a-4cbf-aeb0-7df5947bf349</td>\n",
       "      <td>2019-10-03</td>\n",
       "      <td>2019-10-07 13:43:20.735461</td>\n",
       "      <td>tips_show</td>\n",
       "      <td>2019-10-03</td>\n",
       "      <td>1</td>\n",
       "      <td>1</td>\n",
       "      <td>2019-10-07</td>\n",
       "    </tr>\n",
       "    <tr>\n",
       "      <th>4</th>\n",
       "      <td>0001b1d5-b74a-4cbf-aeb0-7df5947bf349</td>\n",
       "      <td>2019-10-03</td>\n",
       "      <td>2019-10-07 13:45:30.917502</td>\n",
       "      <td>tips_show</td>\n",
       "      <td>2019-10-03</td>\n",
       "      <td>1</td>\n",
       "      <td>1</td>\n",
       "      <td>2019-10-07</td>\n",
       "    </tr>\n",
       "  </tbody>\n",
       "</table>\n",
       "</div>"
      ],
      "text/plain": [
       "                                user.id   first_ts                 event.time  \\\n",
       "0  0001b1d5-b74a-4cbf-aeb0-7df5947bf349 2019-10-03 2019-10-07 13:39:45.989359   \n",
       "1  0001b1d5-b74a-4cbf-aeb0-7df5947bf349 2019-10-03 2019-10-07 13:40:31.052909   \n",
       "2  0001b1d5-b74a-4cbf-aeb0-7df5947bf349 2019-10-03 2019-10-07 13:41:05.722489   \n",
       "3  0001b1d5-b74a-4cbf-aeb0-7df5947bf349 2019-10-03 2019-10-07 13:43:20.735461   \n",
       "4  0001b1d5-b74a-4cbf-aeb0-7df5947bf349 2019-10-03 2019-10-07 13:45:30.917502   \n",
       "\n",
       "  event.name active_date  session_id  seniority    day_date  \n",
       "0  tips_show  2019-10-03           1          1  2019-10-07  \n",
       "1  tips_show  2019-10-03           1          1  2019-10-07  \n",
       "2  tips_show  2019-10-03           1          1  2019-10-07  \n",
       "3  tips_show  2019-10-03           1          1  2019-10-07  \n",
       "4  tips_show  2019-10-03           1          1  2019-10-07  "
      ]
     },
     "execution_count": 45,
     "metadata": {},
     "output_type": "execute_result"
    }
   ],
   "source": [
    "data['day_date'] = data['event.time'].apply(lambda x: x.date())\n",
    "data.head(5)"
   ]
  },
  {
   "cell_type": "code",
   "execution_count": 46,
   "metadata": {},
   "outputs": [
    {
     "data": {
      "text/html": [
       "<div>\n",
       "<style scoped>\n",
       "    .dataframe tbody tr th:only-of-type {\n",
       "        vertical-align: middle;\n",
       "    }\n",
       "\n",
       "    .dataframe tbody tr th {\n",
       "        vertical-align: top;\n",
       "    }\n",
       "\n",
       "    .dataframe thead th {\n",
       "        text-align: right;\n",
       "    }\n",
       "</style>\n",
       "<table border=\"1\" class=\"dataframe\">\n",
       "  <thead>\n",
       "    <tr style=\"text-align: right;\">\n",
       "      <th></th>\n",
       "      <th>user.id</th>\n",
       "      <th>first_ts</th>\n",
       "      <th>event.time</th>\n",
       "      <th>event.name</th>\n",
       "      <th>active_date</th>\n",
       "      <th>session_id</th>\n",
       "      <th>seniority</th>\n",
       "      <th>day_date</th>\n",
       "    </tr>\n",
       "  </thead>\n",
       "  <tbody>\n",
       "    <tr>\n",
       "      <th>0</th>\n",
       "      <td>0001b1d5-b74a-4cbf-aeb0-7df5947bf349</td>\n",
       "      <td>2019-10-03</td>\n",
       "      <td>2019-10-07 13:39:45.989359</td>\n",
       "      <td>tips_show</td>\n",
       "      <td>2019-10-03</td>\n",
       "      <td>1</td>\n",
       "      <td>1</td>\n",
       "      <td>2019-10-07</td>\n",
       "    </tr>\n",
       "    <tr>\n",
       "      <th>1</th>\n",
       "      <td>0001b1d5-b74a-4cbf-aeb0-7df5947bf349</td>\n",
       "      <td>2019-10-03</td>\n",
       "      <td>2019-10-07 13:40:31.052909</td>\n",
       "      <td>tips_show</td>\n",
       "      <td>2019-10-03</td>\n",
       "      <td>1</td>\n",
       "      <td>1</td>\n",
       "      <td>2019-10-07</td>\n",
       "    </tr>\n",
       "    <tr>\n",
       "      <th>2</th>\n",
       "      <td>0001b1d5-b74a-4cbf-aeb0-7df5947bf349</td>\n",
       "      <td>2019-10-03</td>\n",
       "      <td>2019-10-07 13:41:05.722489</td>\n",
       "      <td>tips_show</td>\n",
       "      <td>2019-10-03</td>\n",
       "      <td>1</td>\n",
       "      <td>1</td>\n",
       "      <td>2019-10-07</td>\n",
       "    </tr>\n",
       "    <tr>\n",
       "      <th>3</th>\n",
       "      <td>0001b1d5-b74a-4cbf-aeb0-7df5947bf349</td>\n",
       "      <td>2019-10-03</td>\n",
       "      <td>2019-10-07 13:43:20.735461</td>\n",
       "      <td>tips_show</td>\n",
       "      <td>2019-10-03</td>\n",
       "      <td>1</td>\n",
       "      <td>1</td>\n",
       "      <td>2019-10-07</td>\n",
       "    </tr>\n",
       "    <tr>\n",
       "      <th>4</th>\n",
       "      <td>0001b1d5-b74a-4cbf-aeb0-7df5947bf349</td>\n",
       "      <td>2019-10-03</td>\n",
       "      <td>2019-10-07 13:45:30.917502</td>\n",
       "      <td>tips_show</td>\n",
       "      <td>2019-10-03</td>\n",
       "      <td>1</td>\n",
       "      <td>1</td>\n",
       "      <td>2019-10-07</td>\n",
       "    </tr>\n",
       "  </tbody>\n",
       "</table>\n",
       "</div>"
      ],
      "text/plain": [
       "                                user.id   first_ts                 event.time  \\\n",
       "0  0001b1d5-b74a-4cbf-aeb0-7df5947bf349 2019-10-03 2019-10-07 13:39:45.989359   \n",
       "1  0001b1d5-b74a-4cbf-aeb0-7df5947bf349 2019-10-03 2019-10-07 13:40:31.052909   \n",
       "2  0001b1d5-b74a-4cbf-aeb0-7df5947bf349 2019-10-03 2019-10-07 13:41:05.722489   \n",
       "3  0001b1d5-b74a-4cbf-aeb0-7df5947bf349 2019-10-03 2019-10-07 13:43:20.735461   \n",
       "4  0001b1d5-b74a-4cbf-aeb0-7df5947bf349 2019-10-03 2019-10-07 13:45:30.917502   \n",
       "\n",
       "  event.name active_date  session_id  seniority    day_date  \n",
       "0  tips_show  2019-10-03           1          1  2019-10-07  \n",
       "1  tips_show  2019-10-03           1          1  2019-10-07  \n",
       "2  tips_show  2019-10-03           1          1  2019-10-07  \n",
       "3  tips_show  2019-10-03           1          1  2019-10-07  \n",
       "4  tips_show  2019-10-03           1          1  2019-10-07  "
      ]
     },
     "execution_count": 46,
     "metadata": {},
     "output_type": "execute_result"
    }
   ],
   "source": [
    "data2 = data.query(\"session_id != 6027\")\n",
    "data2.head(5)"
   ]
  },
  {
   "cell_type": "markdown",
   "metadata": {},
   "source": [
    "Есть также сессии с аномально большим количеством событий. За период в более чем 6 часов было совершено 288 событий. Скорее всего просмотр проводила какая-то программа, поэтому приняли решение удалить эту аномальную сессию."
   ]
  },
  {
   "cell_type": "markdown",
   "metadata": {},
   "source": [
    "В среднем пользователи проводят в приложении 360 секунд или 6 минут за одну сессию."
   ]
  },
  {
   "cell_type": "markdown",
   "metadata": {},
   "source": [
    "<div class=\"alert alert-block alert-success\">✔️\n",
    "    \n",
    "\n",
    "__Комментарий от тимлида №1__\n",
    "\n",
    "Всё верно. Согласен с расчетом\n",
    "</div>"
   ]
  },
  {
   "cell_type": "markdown",
   "metadata": {},
   "source": [
    "### Исследовательский анализ поведения пользователей по частоте действий"
   ]
  },
  {
   "cell_type": "code",
   "execution_count": 47,
   "metadata": {},
   "outputs": [
    {
     "data": {
      "text/html": [
       "<div>\n",
       "<style scoped>\n",
       "    .dataframe tbody tr th:only-of-type {\n",
       "        vertical-align: middle;\n",
       "    }\n",
       "\n",
       "    .dataframe tbody tr th {\n",
       "        vertical-align: top;\n",
       "    }\n",
       "\n",
       "    .dataframe thead th {\n",
       "        text-align: right;\n",
       "    }\n",
       "</style>\n",
       "<table border=\"1\" class=\"dataframe\">\n",
       "  <thead>\n",
       "    <tr style=\"text-align: right;\">\n",
       "      <th></th>\n",
       "      <th>event.name</th>\n",
       "    </tr>\n",
       "    <tr>\n",
       "      <th>day_date</th>\n",
       "      <th></th>\n",
       "    </tr>\n",
       "  </thead>\n",
       "  <tbody>\n",
       "    <tr>\n",
       "      <th>2019-11-03</th>\n",
       "      <td>2861</td>\n",
       "    </tr>\n",
       "    <tr>\n",
       "      <th>2019-11-02</th>\n",
       "      <td>1853</td>\n",
       "    </tr>\n",
       "    <tr>\n",
       "      <th>2019-11-01</th>\n",
       "      <td>2577</td>\n",
       "    </tr>\n",
       "    <tr>\n",
       "      <th>2019-10-31</th>\n",
       "      <td>2868</td>\n",
       "    </tr>\n",
       "    <tr>\n",
       "      <th>2019-10-30</th>\n",
       "      <td>2877</td>\n",
       "    </tr>\n",
       "    <tr>\n",
       "      <th>2019-10-29</th>\n",
       "      <td>3196</td>\n",
       "    </tr>\n",
       "    <tr>\n",
       "      <th>2019-10-28</th>\n",
       "      <td>3184</td>\n",
       "    </tr>\n",
       "    <tr>\n",
       "      <th>2019-10-27</th>\n",
       "      <td>2861</td>\n",
       "    </tr>\n",
       "    <tr>\n",
       "      <th>2019-10-26</th>\n",
       "      <td>3127</td>\n",
       "    </tr>\n",
       "    <tr>\n",
       "      <th>2019-10-25</th>\n",
       "      <td>2618</td>\n",
       "    </tr>\n",
       "    <tr>\n",
       "      <th>2019-10-24</th>\n",
       "      <td>3033</td>\n",
       "    </tr>\n",
       "    <tr>\n",
       "      <th>2019-10-23</th>\n",
       "      <td>3361</td>\n",
       "    </tr>\n",
       "    <tr>\n",
       "      <th>2019-10-22</th>\n",
       "      <td>2728</td>\n",
       "    </tr>\n",
       "    <tr>\n",
       "      <th>2019-10-21</th>\n",
       "      <td>2908</td>\n",
       "    </tr>\n",
       "    <tr>\n",
       "      <th>2019-10-20</th>\n",
       "      <td>2144</td>\n",
       "    </tr>\n",
       "    <tr>\n",
       "      <th>2019-10-19</th>\n",
       "      <td>2331</td>\n",
       "    </tr>\n",
       "    <tr>\n",
       "      <th>2019-10-18</th>\n",
       "      <td>2744</td>\n",
       "    </tr>\n",
       "    <tr>\n",
       "      <th>2019-10-17</th>\n",
       "      <td>2618</td>\n",
       "    </tr>\n",
       "    <tr>\n",
       "      <th>2019-10-16</th>\n",
       "      <td>2730</td>\n",
       "    </tr>\n",
       "    <tr>\n",
       "      <th>2019-10-15</th>\n",
       "      <td>2722</td>\n",
       "    </tr>\n",
       "    <tr>\n",
       "      <th>2019-10-14</th>\n",
       "      <td>3034</td>\n",
       "    </tr>\n",
       "    <tr>\n",
       "      <th>2019-10-13</th>\n",
       "      <td>2635</td>\n",
       "    </tr>\n",
       "    <tr>\n",
       "      <th>2019-10-12</th>\n",
       "      <td>1843</td>\n",
       "    </tr>\n",
       "    <tr>\n",
       "      <th>2019-10-11</th>\n",
       "      <td>2030</td>\n",
       "    </tr>\n",
       "    <tr>\n",
       "      <th>2019-10-10</th>\n",
       "      <td>2243</td>\n",
       "    </tr>\n",
       "    <tr>\n",
       "      <th>2019-10-09</th>\n",
       "      <td>2027</td>\n",
       "    </tr>\n",
       "    <tr>\n",
       "      <th>2019-10-08</th>\n",
       "      <td>2499</td>\n",
       "    </tr>\n",
       "    <tr>\n",
       "      <th>2019-10-07</th>\n",
       "      <td>2545</td>\n",
       "    </tr>\n",
       "  </tbody>\n",
       "</table>\n",
       "</div>"
      ],
      "text/plain": [
       "            event.name\n",
       "day_date              \n",
       "2019-11-03        2861\n",
       "2019-11-02        1853\n",
       "2019-11-01        2577\n",
       "2019-10-31        2868\n",
       "2019-10-30        2877\n",
       "2019-10-29        3196\n",
       "2019-10-28        3184\n",
       "2019-10-27        2861\n",
       "2019-10-26        3127\n",
       "2019-10-25        2618\n",
       "2019-10-24        3033\n",
       "2019-10-23        3361\n",
       "2019-10-22        2728\n",
       "2019-10-21        2908\n",
       "2019-10-20        2144\n",
       "2019-10-19        2331\n",
       "2019-10-18        2744\n",
       "2019-10-17        2618\n",
       "2019-10-16        2730\n",
       "2019-10-15        2722\n",
       "2019-10-14        3034\n",
       "2019-10-13        2635\n",
       "2019-10-12        1843\n",
       "2019-10-11        2030\n",
       "2019-10-10        2243\n",
       "2019-10-09        2027\n",
       "2019-10-08        2499\n",
       "2019-10-07        2545"
      ]
     },
     "execution_count": 47,
     "metadata": {},
     "output_type": "execute_result"
    }
   ],
   "source": [
    "frequency = data.groupby(['day_date']).agg({'event.name':'count'}).sort_values(by='day_date', ascending=False)\n",
    "frequency"
   ]
  },
  {
   "cell_type": "code",
   "execution_count": 48,
   "metadata": {},
   "outputs": [
    {
     "data": {
      "image/png": "[encoded data removed]",
      "text/plain": [
       "<Figure size 2160x720 with 1 Axes>"
      ]
     },
     "metadata": {
      "needs_background": "light"
     },
     "output_type": "display_data"
    }
   ],
   "source": [
    "gr1 = frequency.plot(figsize=(30, 10))\n",
    "plt.title('Частота совершения событий')\n",
    "plt.xticks(rotation=90)\n",
    "plt.xlabel('Дата событий')\n",
    "plt.ylabel('Количество событий')\n",
    "plt.show()"
   ]
  },
  {
   "cell_type": "markdown",
   "metadata": {},
   "source": [
    "Частота совершения событий достаточно стабильна и колеблется от 1843 до 3361 в день. При это наблюдается уменьшение частоты к концу недели и увелечение частоты в середине рабочей недели. Кроме того, можно таже сказать, что к концу месяца наблюдется общая тенденцию к повышению частоты совершения событий пользователями."
   ]
  },
  {
   "cell_type": "markdown",
   "metadata": {},
   "source": [
    "<div class=\"alert alert-block alert-warning\">📝\n",
    "    \n",
    "\n",
    "__Комментарий от тимлида №1__\n",
    "\n",
    "Во многих продуктах в выходные наблюдается спад активности. Все стараются максимально использовать это время для отдыха, семьи и т.д. Так что вполне логичные результаты.\n",
    "    \n",
    "Еще советую, на таких графиках добавлять окно скользящего среднего по 7 дням (распространнная тема для наглядности) - https://www.geeksforgeeks.org/how-to-make-a-time-series-plot-with-rolling-average-in-python/\n",
    "</div>"
   ]
  },
  {
   "cell_type": "markdown",
   "metadata": {},
   "source": [
    "### Исследовательский анализ поведения пользователей по конверсии"
   ]
  },
  {
   "cell_type": "code",
   "execution_count": 49,
   "metadata": {},
   "outputs": [
    {
     "data": {
      "text/plain": [
       "4293"
      ]
     },
     "execution_count": 49,
     "metadata": {},
     "output_type": "execute_result"
    }
   ],
   "source": [
    "total_users = data.query('`event.name` != \"contacts_call\"')\n",
    "total_users_nu = total_users['user.id'].nunique()\n",
    "total_users_nu"
   ]
  },
  {
   "cell_type": "code",
   "execution_count": 50,
   "metadata": {},
   "outputs": [
    {
     "data": {
      "text/plain": [
       "981"
      ]
     },
     "execution_count": 50,
     "metadata": {},
     "output_type": "execute_result"
    }
   ],
   "source": [
    "total_users = data.query('`event.name` == \"show_contacts\"')\n",
    "total_users_sc = total_users['user.id'].nunique()\n",
    "total_users_sc"
   ]
  },
  {
   "cell_type": "code",
   "execution_count": 51,
   "metadata": {},
   "outputs": [
    {
     "data": {
      "text/plain": [
       "22.85"
      ]
     },
     "execution_count": 51,
     "metadata": {},
     "output_type": "execute_result"
    }
   ],
   "source": [
    "CR = (total_users_sc/total_users_nu)*100\n",
    "round(CR, 2)"
   ]
  },
  {
   "cell_type": "markdown",
   "metadata": {},
   "source": [
    "В среднем почти каждый пятый пользователь просматривает контакты и следовательно доходит до целевого события."
   ]
  },
  {
   "cell_type": "markdown",
   "metadata": {},
   "source": [
    "В данных представлена информация по 4293 уникальным пользователям. В результате анализа данных один из пользователей с аномально большими значениями по кличеству событий был удален из исследования в связи с тем, что было сделано предположение, что это программа (бот), а не реальный пользователь. Общее количество нулевых событий порядка 2%. Приняли решение не удалять эти события из выборки. После всех преобразований, разница между средним и медианой по времени использования приложения уменьшилась.\n",
    "\n",
    "По удержанию пользователей можно сделать вывод, что интерес пользователя ослабевает после второй недели использования приложения Ненужные вещи.\n",
    "Самымы популярными событиями с нулевой продолжительностью стали просмотр фотографий и клики на рекомендованные объявления. \n",
    "\n",
    "В среднем пользователи проводят в приложении 360 секунд или 6 минут за одну сессию.\n",
    "Частота совершения событий достаточно стабильна и колеблется от 1843 до 3361 в день. При это наблюдается уменьшение частоты к концу недели и увелечение частоты в середине рабочей недели. Кроме того, можно таже сказать, что к концу месяца наблюдется общая тенденцию к повышению частоты совершения событий пользователями.\n",
    "\n",
    "В среднем почти каждый пятый пользователь просматривает контакты и следовательно доходит до целевого события."
   ]
  },
  {
   "cell_type": "markdown",
   "metadata": {},
   "source": [
    "<div class=\"alert alert-block alert-success\">✔️\n",
    "    \n",
    "\n",
    "__Комментарий от тимлида №1__\n",
    "\n",
    "Конверсия рассчитана корректно"
   ]
  },
  {
   "cell_type": "markdown",
   "metadata": {},
   "source": []
  },
  {
   "cell_type": "markdown",
   "metadata": {},
   "source": [
    "<div class=\"alert alert-block alert-danger\">✍\n",
    "    \n",
    "\n",
    "__Комментарий от тимлида №1__\n",
    "\n",
    "Тут важно дать вывод по разделу, в котором стоит отписать общее поведение пользоваталей\n",
    "</div>"
   ]
  },
  {
   "cell_type": "markdown",
   "metadata": {},
   "source": [
    "## Сегментация пользователей на основе проведенного исследовательского анализа"
   ]
  },
  {
   "cell_type": "markdown",
   "metadata": {},
   "source": [
    "<div class=\"alert alert-block alert-danger\">✍\n",
    "    \n",
    "\n",
    "__Комментарий от тимлида №1__\n",
    "    \n",
    "В реальной практике тебе придется обосновать почему именно такое разделение. Чем полезно будет исследовать такие группы пользователей для заказчика? Было бы неплохо развернуто расписать свою идею) Предположить какие результаты получишь и сравнивать ожидание\\реальность\n",
    "\n",
    "</div>"
   ]
  },
  {
   "cell_type": "raw",
   "metadata": {},
   "source": [
    "В качестве сегментации было выбрано два подхода:\n",
    "\n",
    "1) по браузерам: этот подход позволит выявить наиболее эффективную платформу для вложения средтсв в рекламные бюджеты. После этого можно будет отслеживать эффективность той или иной рекламной компании в определенной платформе.\n",
    "2) сегментация по пользователям, которые кликают по рекламным объявлениям и которые только просматривают. Это тоже позволит определиться с бюжетом на контекстную рекламу, насколько она эффективна и какой тип рекламы наиболе эффективен.\n",
    "\n",
    "В целом оба этих подхода будут направлены на планирование эффективной рекламной кампании. Во-первых это позволит определиться на какой браузер стоит сосредоточить усилия, а во-вторых какой тип рекламы в конкретном браузере лучше выбрать."
   ]
  },
  {
   "cell_type": "markdown",
   "metadata": {},
   "source": [
    "### Расчет конверсии по каждой группе пользователей при сегментации по браузерам"
   ]
  },
  {
   "cell_type": "code",
   "execution_count": 52,
   "metadata": {},
   "outputs": [
    {
     "data": {
      "text/html": [
       "<div>\n",
       "<style scoped>\n",
       "    .dataframe tbody tr th:only-of-type {\n",
       "        vertical-align: middle;\n",
       "    }\n",
       "\n",
       "    .dataframe tbody tr th {\n",
       "        vertical-align: top;\n",
       "    }\n",
       "\n",
       "    .dataframe thead th {\n",
       "        text-align: right;\n",
       "    }\n",
       "</style>\n",
       "<table border=\"1\" class=\"dataframe\">\n",
       "  <thead>\n",
       "    <tr style=\"text-align: right;\">\n",
       "      <th></th>\n",
       "      <th>user.id</th>\n",
       "      <th>first_ts</th>\n",
       "      <th>event.time</th>\n",
       "      <th>event.name</th>\n",
       "      <th>active_date</th>\n",
       "      <th>session_id</th>\n",
       "      <th>seniority</th>\n",
       "      <th>day_date</th>\n",
       "      <th>source</th>\n",
       "    </tr>\n",
       "  </thead>\n",
       "  <tbody>\n",
       "    <tr>\n",
       "      <th>0</th>\n",
       "      <td>0001b1d5-b74a-4cbf-aeb0-7df5947bf349</td>\n",
       "      <td>2019-10-03</td>\n",
       "      <td>2019-10-07 13:39:45.989359</td>\n",
       "      <td>tips_show</td>\n",
       "      <td>2019-10-03</td>\n",
       "      <td>1</td>\n",
       "      <td>1</td>\n",
       "      <td>2019-10-07</td>\n",
       "      <td>other</td>\n",
       "    </tr>\n",
       "    <tr>\n",
       "      <th>1</th>\n",
       "      <td>0001b1d5-b74a-4cbf-aeb0-7df5947bf349</td>\n",
       "      <td>2019-10-03</td>\n",
       "      <td>2019-10-07 13:40:31.052909</td>\n",
       "      <td>tips_show</td>\n",
       "      <td>2019-10-03</td>\n",
       "      <td>1</td>\n",
       "      <td>1</td>\n",
       "      <td>2019-10-07</td>\n",
       "      <td>other</td>\n",
       "    </tr>\n",
       "    <tr>\n",
       "      <th>2</th>\n",
       "      <td>0001b1d5-b74a-4cbf-aeb0-7df5947bf349</td>\n",
       "      <td>2019-10-03</td>\n",
       "      <td>2019-10-07 13:41:05.722489</td>\n",
       "      <td>tips_show</td>\n",
       "      <td>2019-10-03</td>\n",
       "      <td>1</td>\n",
       "      <td>1</td>\n",
       "      <td>2019-10-07</td>\n",
       "      <td>other</td>\n",
       "    </tr>\n",
       "    <tr>\n",
       "      <th>3</th>\n",
       "      <td>0001b1d5-b74a-4cbf-aeb0-7df5947bf349</td>\n",
       "      <td>2019-10-03</td>\n",
       "      <td>2019-10-07 13:43:20.735461</td>\n",
       "      <td>tips_show</td>\n",
       "      <td>2019-10-03</td>\n",
       "      <td>1</td>\n",
       "      <td>1</td>\n",
       "      <td>2019-10-07</td>\n",
       "      <td>other</td>\n",
       "    </tr>\n",
       "    <tr>\n",
       "      <th>4</th>\n",
       "      <td>0001b1d5-b74a-4cbf-aeb0-7df5947bf349</td>\n",
       "      <td>2019-10-03</td>\n",
       "      <td>2019-10-07 13:45:30.917502</td>\n",
       "      <td>tips_show</td>\n",
       "      <td>2019-10-03</td>\n",
       "      <td>1</td>\n",
       "      <td>1</td>\n",
       "      <td>2019-10-07</td>\n",
       "      <td>other</td>\n",
       "    </tr>\n",
       "  </tbody>\n",
       "</table>\n",
       "</div>"
      ],
      "text/plain": [
       "                                user.id   first_ts                 event.time  \\\n",
       "0  0001b1d5-b74a-4cbf-aeb0-7df5947bf349 2019-10-03 2019-10-07 13:39:45.989359   \n",
       "1  0001b1d5-b74a-4cbf-aeb0-7df5947bf349 2019-10-03 2019-10-07 13:40:31.052909   \n",
       "2  0001b1d5-b74a-4cbf-aeb0-7df5947bf349 2019-10-03 2019-10-07 13:41:05.722489   \n",
       "3  0001b1d5-b74a-4cbf-aeb0-7df5947bf349 2019-10-03 2019-10-07 13:43:20.735461   \n",
       "4  0001b1d5-b74a-4cbf-aeb0-7df5947bf349 2019-10-03 2019-10-07 13:45:30.917502   \n",
       "\n",
       "  event.name active_date  session_id  seniority    day_date source  \n",
       "0  tips_show  2019-10-03           1          1  2019-10-07  other  \n",
       "1  tips_show  2019-10-03           1          1  2019-10-07  other  \n",
       "2  tips_show  2019-10-03           1          1  2019-10-07  other  \n",
       "3  tips_show  2019-10-03           1          1  2019-10-07  other  \n",
       "4  tips_show  2019-10-03           1          1  2019-10-07  other  "
      ]
     },
     "execution_count": 52,
     "metadata": {},
     "output_type": "execute_result"
    }
   ],
   "source": [
    "data_total_1 = data2.merge(data1, on='user.id', how='left')\n",
    "data_total_1.head(5)"
   ]
  },
  {
   "cell_type": "code",
   "execution_count": 53,
   "metadata": {},
   "outputs": [
    {
     "data": {
      "text/plain": [
       "array(['other', 'yandex', 'google'], dtype=object)"
      ]
     },
     "execution_count": 53,
     "metadata": {},
     "output_type": "execute_result"
    }
   ],
   "source": [
    "data_total_1['source'].unique()"
   ]
  },
  {
   "cell_type": "code",
   "execution_count": 54,
   "metadata": {},
   "outputs": [],
   "source": [
    "data_total_g = data_total_1.query('source == \"google\"')"
   ]
  },
  {
   "cell_type": "code",
   "execution_count": 55,
   "metadata": {},
   "outputs": [
    {
     "data": {
      "text/plain": [
       "1129"
      ]
     },
     "execution_count": 55,
     "metadata": {},
     "output_type": "execute_result"
    }
   ],
   "source": [
    "total_users_g = data_total_g.query('`event.name` != \"contacts_call\"')\n",
    "total_users_g = total_users_g['user.id'].nunique()\n",
    "total_users_g"
   ]
  },
  {
   "cell_type": "code",
   "execution_count": 56,
   "metadata": {},
   "outputs": [
    {
     "data": {
      "text/plain": [
       "275"
      ]
     },
     "execution_count": 56,
     "metadata": {},
     "output_type": "execute_result"
    }
   ],
   "source": [
    "total_users_g_sc = data_total_g.query('`event.name` == \"show_contacts\"')\n",
    "total_users_g_sc = total_users_g_sc['user.id'].nunique()\n",
    "total_users_g_sc"
   ]
  },
  {
   "cell_type": "code",
   "execution_count": 57,
   "metadata": {},
   "outputs": [
    {
     "data": {
      "text/plain": [
       "24.36"
      ]
     },
     "execution_count": 57,
     "metadata": {},
     "output_type": "execute_result"
    }
   ],
   "source": [
    "CR = (total_users_g_sc/total_users_g)*100\n",
    "round(CR, 2)"
   ]
  },
  {
   "cell_type": "code",
   "execution_count": 58,
   "metadata": {},
   "outputs": [],
   "source": [
    "data_total_y = data_total_1.query('source == \"yandex\"')"
   ]
  },
  {
   "cell_type": "code",
   "execution_count": 59,
   "metadata": {},
   "outputs": [
    {
     "data": {
      "text/plain": [
       "1934"
      ]
     },
     "execution_count": 59,
     "metadata": {},
     "output_type": "execute_result"
    }
   ],
   "source": [
    "total_users_y = data_total_y.query('`event.name` != \"contacts_call\"')\n",
    "total_users_y = total_users_y['user.id'].nunique()\n",
    "total_users_y"
   ]
  },
  {
   "cell_type": "code",
   "execution_count": 60,
   "metadata": {},
   "outputs": [
    {
     "data": {
      "text/plain": [
       "478"
      ]
     },
     "execution_count": 60,
     "metadata": {},
     "output_type": "execute_result"
    }
   ],
   "source": [
    "total_users_y_sc = data_total_y.query('`event.name` == \"show_contacts\"')\n",
    "total_users_y_sc = total_users_y_sc['user.id'].nunique()\n",
    "total_users_y_sc"
   ]
  },
  {
   "cell_type": "code",
   "execution_count": 61,
   "metadata": {},
   "outputs": [
    {
     "data": {
      "text/plain": [
       "24.72"
      ]
     },
     "execution_count": 61,
     "metadata": {},
     "output_type": "execute_result"
    }
   ],
   "source": [
    "CR = (total_users_y_sc/total_users_y)*100\n",
    "round(CR, 2)"
   ]
  },
  {
   "cell_type": "code",
   "execution_count": 62,
   "metadata": {},
   "outputs": [],
   "source": [
    "data_total_o = data_total_1.query('source == \"other\"')"
   ]
  },
  {
   "cell_type": "code",
   "execution_count": 63,
   "metadata": {},
   "outputs": [
    {
     "data": {
      "text/plain": [
       "1230"
      ]
     },
     "execution_count": 63,
     "metadata": {},
     "output_type": "execute_result"
    }
   ],
   "source": [
    "total_users_o = data_total_o.query('`event.name` != \"contacts_call\"')\n",
    "total_users_o = total_users_o['user.id'].nunique()\n",
    "total_users_o"
   ]
  },
  {
   "cell_type": "code",
   "execution_count": 64,
   "metadata": {},
   "outputs": [
    {
     "data": {
      "text/plain": [
       "228"
      ]
     },
     "execution_count": 64,
     "metadata": {},
     "output_type": "execute_result"
    }
   ],
   "source": [
    "total_users_o_sc = data_total_o.query('`event.name` == \"show_contacts\"')\n",
    "total_users_o_sc = total_users_o_sc['user.id'].nunique()\n",
    "total_users_o_sc"
   ]
  },
  {
   "cell_type": "code",
   "execution_count": 65,
   "metadata": {},
   "outputs": [
    {
     "data": {
      "text/plain": [
       "18.54"
      ]
     },
     "execution_count": 65,
     "metadata": {},
     "output_type": "execute_result"
    }
   ],
   "source": [
    "CR = (total_users_o_sc/total_users_o)*100\n",
    "round(CR, 2)"
   ]
  },
  {
   "cell_type": "markdown",
   "metadata": {},
   "source": [
    "Самая высокая конверсия у пользователей, пришедших из браузера yandex. Она составляет почти 25%, что говорит о том, что каждый четвертый пользователь доходит до целевого события.  Самая низкая конверсия у прочих браузеров. До целевого обытия доходит порядка 19% пользователей, то есть меньше, чем каждый пятый. Сразу же после yandex идут пользователи  google. Разница между ними в конверсии практически отсутствует."
   ]
  },
  {
   "cell_type": "markdown",
   "metadata": {},
   "source": [
    "<div class=\"alert alert-block alert-success\">✔️\n",
    "    \n",
    "\n",
    "__Комментарий от тимлида №1__\n",
    "\n",
    "Да, результаты получились интересными\n",
    "</div>"
   ]
  },
  {
   "cell_type": "markdown",
   "metadata": {},
   "source": [
    "### Расчет частоты совершения событий по каждой группе пользователей при сегментации по браузерам"
   ]
  },
  {
   "cell_type": "code",
   "execution_count": 66,
   "metadata": {},
   "outputs": [
    {
     "data": {
      "text/html": [
       "<div>\n",
       "<style scoped>\n",
       "    .dataframe tbody tr th:only-of-type {\n",
       "        vertical-align: middle;\n",
       "    }\n",
       "\n",
       "    .dataframe tbody tr th {\n",
       "        vertical-align: top;\n",
       "    }\n",
       "\n",
       "    .dataframe thead th {\n",
       "        text-align: right;\n",
       "    }\n",
       "</style>\n",
       "<table border=\"1\" class=\"dataframe\">\n",
       "  <thead>\n",
       "    <tr style=\"text-align: right;\">\n",
       "      <th></th>\n",
       "      <th>event.name</th>\n",
       "    </tr>\n",
       "    <tr>\n",
       "      <th>day_date</th>\n",
       "      <th></th>\n",
       "    </tr>\n",
       "  </thead>\n",
       "  <tbody>\n",
       "    <tr>\n",
       "      <th>2019-11-03</th>\n",
       "      <td>893</td>\n",
       "    </tr>\n",
       "    <tr>\n",
       "      <th>2019-11-02</th>\n",
       "      <td>459</td>\n",
       "    </tr>\n",
       "    <tr>\n",
       "      <th>2019-11-01</th>\n",
       "      <td>747</td>\n",
       "    </tr>\n",
       "    <tr>\n",
       "      <th>2019-10-31</th>\n",
       "      <td>702</td>\n",
       "    </tr>\n",
       "    <tr>\n",
       "      <th>2019-10-30</th>\n",
       "      <td>637</td>\n",
       "    </tr>\n",
       "    <tr>\n",
       "      <th>2019-10-29</th>\n",
       "      <td>927</td>\n",
       "    </tr>\n",
       "    <tr>\n",
       "      <th>2019-10-28</th>\n",
       "      <td>902</td>\n",
       "    </tr>\n",
       "    <tr>\n",
       "      <th>2019-10-27</th>\n",
       "      <td>848</td>\n",
       "    </tr>\n",
       "    <tr>\n",
       "      <th>2019-10-26</th>\n",
       "      <td>932</td>\n",
       "    </tr>\n",
       "    <tr>\n",
       "      <th>2019-10-25</th>\n",
       "      <td>587</td>\n",
       "    </tr>\n",
       "    <tr>\n",
       "      <th>2019-10-24</th>\n",
       "      <td>838</td>\n",
       "    </tr>\n",
       "    <tr>\n",
       "      <th>2019-10-23</th>\n",
       "      <td>1090</td>\n",
       "    </tr>\n",
       "    <tr>\n",
       "      <th>2019-10-22</th>\n",
       "      <td>932</td>\n",
       "    </tr>\n",
       "    <tr>\n",
       "      <th>2019-10-21</th>\n",
       "      <td>781</td>\n",
       "    </tr>\n",
       "    <tr>\n",
       "      <th>2019-10-20</th>\n",
       "      <td>562</td>\n",
       "    </tr>\n",
       "    <tr>\n",
       "      <th>2019-10-19</th>\n",
       "      <td>883</td>\n",
       "    </tr>\n",
       "    <tr>\n",
       "      <th>2019-10-18</th>\n",
       "      <td>784</td>\n",
       "    </tr>\n",
       "    <tr>\n",
       "      <th>2019-10-17</th>\n",
       "      <td>912</td>\n",
       "    </tr>\n",
       "    <tr>\n",
       "      <th>2019-10-16</th>\n",
       "      <td>927</td>\n",
       "    </tr>\n",
       "    <tr>\n",
       "      <th>2019-10-15</th>\n",
       "      <td>616</td>\n",
       "    </tr>\n",
       "    <tr>\n",
       "      <th>2019-10-14</th>\n",
       "      <td>630</td>\n",
       "    </tr>\n",
       "    <tr>\n",
       "      <th>2019-10-13</th>\n",
       "      <td>565</td>\n",
       "    </tr>\n",
       "    <tr>\n",
       "      <th>2019-10-12</th>\n",
       "      <td>377</td>\n",
       "    </tr>\n",
       "    <tr>\n",
       "      <th>2019-10-11</th>\n",
       "      <td>541</td>\n",
       "    </tr>\n",
       "    <tr>\n",
       "      <th>2019-10-10</th>\n",
       "      <td>484</td>\n",
       "    </tr>\n",
       "    <tr>\n",
       "      <th>2019-10-09</th>\n",
       "      <td>592</td>\n",
       "    </tr>\n",
       "    <tr>\n",
       "      <th>2019-10-08</th>\n",
       "      <td>591</td>\n",
       "    </tr>\n",
       "    <tr>\n",
       "      <th>2019-10-07</th>\n",
       "      <td>706</td>\n",
       "    </tr>\n",
       "  </tbody>\n",
       "</table>\n",
       "</div>"
      ],
      "text/plain": [
       "            event.name\n",
       "day_date              \n",
       "2019-11-03         893\n",
       "2019-11-02         459\n",
       "2019-11-01         747\n",
       "2019-10-31         702\n",
       "2019-10-30         637\n",
       "2019-10-29         927\n",
       "2019-10-28         902\n",
       "2019-10-27         848\n",
       "2019-10-26         932\n",
       "2019-10-25         587\n",
       "2019-10-24         838\n",
       "2019-10-23        1090\n",
       "2019-10-22         932\n",
       "2019-10-21         781\n",
       "2019-10-20         562\n",
       "2019-10-19         883\n",
       "2019-10-18         784\n",
       "2019-10-17         912\n",
       "2019-10-16         927\n",
       "2019-10-15         616\n",
       "2019-10-14         630\n",
       "2019-10-13         565\n",
       "2019-10-12         377\n",
       "2019-10-11         541\n",
       "2019-10-10         484\n",
       "2019-10-09         592\n",
       "2019-10-08         591\n",
       "2019-10-07         706"
      ]
     },
     "execution_count": 66,
     "metadata": {},
     "output_type": "execute_result"
    }
   ],
   "source": [
    "frequency_g = data_total_g.groupby(['day_date']).agg({'event.name':'count'}).sort_values(by='day_date', ascending=False)\n",
    "frequency_g"
   ]
  },
  {
   "cell_type": "code",
   "execution_count": 67,
   "metadata": {},
   "outputs": [
    {
     "data": {
      "text/html": [
       "<div>\n",
       "<style scoped>\n",
       "    .dataframe tbody tr th:only-of-type {\n",
       "        vertical-align: middle;\n",
       "    }\n",
       "\n",
       "    .dataframe tbody tr th {\n",
       "        vertical-align: top;\n",
       "    }\n",
       "\n",
       "    .dataframe thead th {\n",
       "        text-align: right;\n",
       "    }\n",
       "</style>\n",
       "<table border=\"1\" class=\"dataframe\">\n",
       "  <thead>\n",
       "    <tr style=\"text-align: right;\">\n",
       "      <th></th>\n",
       "      <th>event.name</th>\n",
       "    </tr>\n",
       "    <tr>\n",
       "      <th>day_date</th>\n",
       "      <th></th>\n",
       "    </tr>\n",
       "  </thead>\n",
       "  <tbody>\n",
       "    <tr>\n",
       "      <th>2019-11-03</th>\n",
       "      <td>1392</td>\n",
       "    </tr>\n",
       "    <tr>\n",
       "      <th>2019-11-02</th>\n",
       "      <td>772</td>\n",
       "    </tr>\n",
       "    <tr>\n",
       "      <th>2019-11-01</th>\n",
       "      <td>1096</td>\n",
       "    </tr>\n",
       "    <tr>\n",
       "      <th>2019-10-31</th>\n",
       "      <td>1238</td>\n",
       "    </tr>\n",
       "    <tr>\n",
       "      <th>2019-10-30</th>\n",
       "      <td>1309</td>\n",
       "    </tr>\n",
       "    <tr>\n",
       "      <th>2019-10-29</th>\n",
       "      <td>1332</td>\n",
       "    </tr>\n",
       "    <tr>\n",
       "      <th>2019-10-28</th>\n",
       "      <td>1333</td>\n",
       "    </tr>\n",
       "    <tr>\n",
       "      <th>2019-10-27</th>\n",
       "      <td>1304</td>\n",
       "    </tr>\n",
       "    <tr>\n",
       "      <th>2019-10-26</th>\n",
       "      <td>1441</td>\n",
       "    </tr>\n",
       "    <tr>\n",
       "      <th>2019-10-25</th>\n",
       "      <td>1381</td>\n",
       "    </tr>\n",
       "    <tr>\n",
       "      <th>2019-10-24</th>\n",
       "      <td>1461</td>\n",
       "    </tr>\n",
       "    <tr>\n",
       "      <th>2019-10-23</th>\n",
       "      <td>1422</td>\n",
       "    </tr>\n",
       "    <tr>\n",
       "      <th>2019-10-22</th>\n",
       "      <td>1060</td>\n",
       "    </tr>\n",
       "    <tr>\n",
       "      <th>2019-10-21</th>\n",
       "      <td>1304</td>\n",
       "    </tr>\n",
       "    <tr>\n",
       "      <th>2019-10-20</th>\n",
       "      <td>1074</td>\n",
       "    </tr>\n",
       "    <tr>\n",
       "      <th>2019-10-19</th>\n",
       "      <td>939</td>\n",
       "    </tr>\n",
       "    <tr>\n",
       "      <th>2019-10-18</th>\n",
       "      <td>1372</td>\n",
       "    </tr>\n",
       "    <tr>\n",
       "      <th>2019-10-17</th>\n",
       "      <td>1076</td>\n",
       "    </tr>\n",
       "    <tr>\n",
       "      <th>2019-10-16</th>\n",
       "      <td>1046</td>\n",
       "    </tr>\n",
       "    <tr>\n",
       "      <th>2019-10-15</th>\n",
       "      <td>1319</td>\n",
       "    </tr>\n",
       "    <tr>\n",
       "      <th>2019-10-14</th>\n",
       "      <td>1578</td>\n",
       "    </tr>\n",
       "    <tr>\n",
       "      <th>2019-10-13</th>\n",
       "      <td>1400</td>\n",
       "    </tr>\n",
       "    <tr>\n",
       "      <th>2019-10-12</th>\n",
       "      <td>1049</td>\n",
       "    </tr>\n",
       "    <tr>\n",
       "      <th>2019-10-11</th>\n",
       "      <td>967</td>\n",
       "    </tr>\n",
       "    <tr>\n",
       "      <th>2019-10-10</th>\n",
       "      <td>1032</td>\n",
       "    </tr>\n",
       "    <tr>\n",
       "      <th>2019-10-09</th>\n",
       "      <td>974</td>\n",
       "    </tr>\n",
       "    <tr>\n",
       "      <th>2019-10-08</th>\n",
       "      <td>1078</td>\n",
       "    </tr>\n",
       "    <tr>\n",
       "      <th>2019-10-07</th>\n",
       "      <td>1249</td>\n",
       "    </tr>\n",
       "  </tbody>\n",
       "</table>\n",
       "</div>"
      ],
      "text/plain": [
       "            event.name\n",
       "day_date              \n",
       "2019-11-03        1392\n",
       "2019-11-02         772\n",
       "2019-11-01        1096\n",
       "2019-10-31        1238\n",
       "2019-10-30        1309\n",
       "2019-10-29        1332\n",
       "2019-10-28        1333\n",
       "2019-10-27        1304\n",
       "2019-10-26        1441\n",
       "2019-10-25        1381\n",
       "2019-10-24        1461\n",
       "2019-10-23        1422\n",
       "2019-10-22        1060\n",
       "2019-10-21        1304\n",
       "2019-10-20        1074\n",
       "2019-10-19         939\n",
       "2019-10-18        1372\n",
       "2019-10-17        1076\n",
       "2019-10-16        1046\n",
       "2019-10-15        1319\n",
       "2019-10-14        1578\n",
       "2019-10-13        1400\n",
       "2019-10-12        1049\n",
       "2019-10-11         967\n",
       "2019-10-10        1032\n",
       "2019-10-09         974\n",
       "2019-10-08        1078\n",
       "2019-10-07        1249"
      ]
     },
     "execution_count": 67,
     "metadata": {},
     "output_type": "execute_result"
    }
   ],
   "source": [
    "frequency_y = data_total_y.groupby(['day_date']).agg({'event.name':'count'}).sort_values(by='day_date', ascending=False)\n",
    "frequency_y"
   ]
  },
  {
   "cell_type": "code",
   "execution_count": 68,
   "metadata": {},
   "outputs": [
    {
     "data": {
      "text/html": [
       "<div>\n",
       "<style scoped>\n",
       "    .dataframe tbody tr th:only-of-type {\n",
       "        vertical-align: middle;\n",
       "    }\n",
       "\n",
       "    .dataframe tbody tr th {\n",
       "        vertical-align: top;\n",
       "    }\n",
       "\n",
       "    .dataframe thead th {\n",
       "        text-align: right;\n",
       "    }\n",
       "</style>\n",
       "<table border=\"1\" class=\"dataframe\">\n",
       "  <thead>\n",
       "    <tr style=\"text-align: right;\">\n",
       "      <th></th>\n",
       "      <th>event.name</th>\n",
       "    </tr>\n",
       "    <tr>\n",
       "      <th>day_date</th>\n",
       "      <th></th>\n",
       "    </tr>\n",
       "  </thead>\n",
       "  <tbody>\n",
       "    <tr>\n",
       "      <th>2019-11-03</th>\n",
       "      <td>576</td>\n",
       "    </tr>\n",
       "    <tr>\n",
       "      <th>2019-11-02</th>\n",
       "      <td>622</td>\n",
       "    </tr>\n",
       "    <tr>\n",
       "      <th>2019-11-01</th>\n",
       "      <td>734</td>\n",
       "    </tr>\n",
       "    <tr>\n",
       "      <th>2019-10-31</th>\n",
       "      <td>928</td>\n",
       "    </tr>\n",
       "    <tr>\n",
       "      <th>2019-10-30</th>\n",
       "      <td>931</td>\n",
       "    </tr>\n",
       "    <tr>\n",
       "      <th>2019-10-29</th>\n",
       "      <td>937</td>\n",
       "    </tr>\n",
       "    <tr>\n",
       "      <th>2019-10-28</th>\n",
       "      <td>949</td>\n",
       "    </tr>\n",
       "    <tr>\n",
       "      <th>2019-10-27</th>\n",
       "      <td>709</td>\n",
       "    </tr>\n",
       "    <tr>\n",
       "      <th>2019-10-26</th>\n",
       "      <td>754</td>\n",
       "    </tr>\n",
       "    <tr>\n",
       "      <th>2019-10-25</th>\n",
       "      <td>650</td>\n",
       "    </tr>\n",
       "    <tr>\n",
       "      <th>2019-10-24</th>\n",
       "      <td>734</td>\n",
       "    </tr>\n",
       "    <tr>\n",
       "      <th>2019-10-23</th>\n",
       "      <td>849</td>\n",
       "    </tr>\n",
       "    <tr>\n",
       "      <th>2019-10-22</th>\n",
       "      <td>736</td>\n",
       "    </tr>\n",
       "    <tr>\n",
       "      <th>2019-10-21</th>\n",
       "      <td>823</td>\n",
       "    </tr>\n",
       "    <tr>\n",
       "      <th>2019-10-20</th>\n",
       "      <td>508</td>\n",
       "    </tr>\n",
       "    <tr>\n",
       "      <th>2019-10-19</th>\n",
       "      <td>509</td>\n",
       "    </tr>\n",
       "    <tr>\n",
       "      <th>2019-10-18</th>\n",
       "      <td>588</td>\n",
       "    </tr>\n",
       "    <tr>\n",
       "      <th>2019-10-17</th>\n",
       "      <td>630</td>\n",
       "    </tr>\n",
       "    <tr>\n",
       "      <th>2019-10-16</th>\n",
       "      <td>757</td>\n",
       "    </tr>\n",
       "    <tr>\n",
       "      <th>2019-10-15</th>\n",
       "      <td>787</td>\n",
       "    </tr>\n",
       "    <tr>\n",
       "      <th>2019-10-14</th>\n",
       "      <td>826</td>\n",
       "    </tr>\n",
       "    <tr>\n",
       "      <th>2019-10-13</th>\n",
       "      <td>670</td>\n",
       "    </tr>\n",
       "    <tr>\n",
       "      <th>2019-10-12</th>\n",
       "      <td>417</td>\n",
       "    </tr>\n",
       "    <tr>\n",
       "      <th>2019-10-11</th>\n",
       "      <td>522</td>\n",
       "    </tr>\n",
       "    <tr>\n",
       "      <th>2019-10-10</th>\n",
       "      <td>727</td>\n",
       "    </tr>\n",
       "    <tr>\n",
       "      <th>2019-10-09</th>\n",
       "      <td>461</td>\n",
       "    </tr>\n",
       "    <tr>\n",
       "      <th>2019-10-08</th>\n",
       "      <td>542</td>\n",
       "    </tr>\n",
       "    <tr>\n",
       "      <th>2019-10-07</th>\n",
       "      <td>590</td>\n",
       "    </tr>\n",
       "  </tbody>\n",
       "</table>\n",
       "</div>"
      ],
      "text/plain": [
       "            event.name\n",
       "day_date              \n",
       "2019-11-03         576\n",
       "2019-11-02         622\n",
       "2019-11-01         734\n",
       "2019-10-31         928\n",
       "2019-10-30         931\n",
       "2019-10-29         937\n",
       "2019-10-28         949\n",
       "2019-10-27         709\n",
       "2019-10-26         754\n",
       "2019-10-25         650\n",
       "2019-10-24         734\n",
       "2019-10-23         849\n",
       "2019-10-22         736\n",
       "2019-10-21         823\n",
       "2019-10-20         508\n",
       "2019-10-19         509\n",
       "2019-10-18         588\n",
       "2019-10-17         630\n",
       "2019-10-16         757\n",
       "2019-10-15         787\n",
       "2019-10-14         826\n",
       "2019-10-13         670\n",
       "2019-10-12         417\n",
       "2019-10-11         522\n",
       "2019-10-10         727\n",
       "2019-10-09         461\n",
       "2019-10-08         542\n",
       "2019-10-07         590"
      ]
     },
     "execution_count": 68,
     "metadata": {},
     "output_type": "execute_result"
    }
   ],
   "source": [
    "frequency_o = data_total_o.groupby(['day_date']).agg({'event.name':'count'}).sort_values(by='day_date', ascending=False)\n",
    "frequency_o"
   ]
  },
  {
   "cell_type": "code",
   "execution_count": 69,
   "metadata": {},
   "outputs": [
    {
     "data": {
      "text/html": [
       "<div>\n",
       "<style scoped>\n",
       "    .dataframe tbody tr th:only-of-type {\n",
       "        vertical-align: middle;\n",
       "    }\n",
       "\n",
       "    .dataframe tbody tr th {\n",
       "        vertical-align: top;\n",
       "    }\n",
       "\n",
       "    .dataframe thead tr th {\n",
       "        text-align: left;\n",
       "    }\n",
       "\n",
       "    .dataframe thead tr:last-of-type th {\n",
       "        text-align: right;\n",
       "    }\n",
       "</style>\n",
       "<table border=\"1\" class=\"dataframe\">\n",
       "  <thead>\n",
       "    <tr>\n",
       "      <th></th>\n",
       "      <th colspan=\"3\" halign=\"left\">event.name</th>\n",
       "    </tr>\n",
       "    <tr>\n",
       "      <th>source</th>\n",
       "      <th>google</th>\n",
       "      <th>other</th>\n",
       "      <th>yandex</th>\n",
       "    </tr>\n",
       "    <tr>\n",
       "      <th>day_date</th>\n",
       "      <th></th>\n",
       "      <th></th>\n",
       "      <th></th>\n",
       "    </tr>\n",
       "  </thead>\n",
       "  <tbody>\n",
       "    <tr>\n",
       "      <th>2019-10-07</th>\n",
       "      <td>706</td>\n",
       "      <td>590</td>\n",
       "      <td>1249</td>\n",
       "    </tr>\n",
       "    <tr>\n",
       "      <th>2019-10-08</th>\n",
       "      <td>591</td>\n",
       "      <td>542</td>\n",
       "      <td>1078</td>\n",
       "    </tr>\n",
       "    <tr>\n",
       "      <th>2019-10-09</th>\n",
       "      <td>592</td>\n",
       "      <td>461</td>\n",
       "      <td>974</td>\n",
       "    </tr>\n",
       "    <tr>\n",
       "      <th>2019-10-10</th>\n",
       "      <td>484</td>\n",
       "      <td>727</td>\n",
       "      <td>1032</td>\n",
       "    </tr>\n",
       "    <tr>\n",
       "      <th>2019-10-11</th>\n",
       "      <td>541</td>\n",
       "      <td>522</td>\n",
       "      <td>967</td>\n",
       "    </tr>\n",
       "    <tr>\n",
       "      <th>2019-10-12</th>\n",
       "      <td>377</td>\n",
       "      <td>417</td>\n",
       "      <td>1049</td>\n",
       "    </tr>\n",
       "    <tr>\n",
       "      <th>2019-10-13</th>\n",
       "      <td>565</td>\n",
       "      <td>670</td>\n",
       "      <td>1400</td>\n",
       "    </tr>\n",
       "    <tr>\n",
       "      <th>2019-10-14</th>\n",
       "      <td>630</td>\n",
       "      <td>826</td>\n",
       "      <td>1578</td>\n",
       "    </tr>\n",
       "    <tr>\n",
       "      <th>2019-10-15</th>\n",
       "      <td>616</td>\n",
       "      <td>787</td>\n",
       "      <td>1319</td>\n",
       "    </tr>\n",
       "    <tr>\n",
       "      <th>2019-10-16</th>\n",
       "      <td>927</td>\n",
       "      <td>757</td>\n",
       "      <td>1046</td>\n",
       "    </tr>\n",
       "    <tr>\n",
       "      <th>2019-10-17</th>\n",
       "      <td>912</td>\n",
       "      <td>630</td>\n",
       "      <td>1076</td>\n",
       "    </tr>\n",
       "    <tr>\n",
       "      <th>2019-10-18</th>\n",
       "      <td>784</td>\n",
       "      <td>588</td>\n",
       "      <td>1372</td>\n",
       "    </tr>\n",
       "    <tr>\n",
       "      <th>2019-10-19</th>\n",
       "      <td>883</td>\n",
       "      <td>509</td>\n",
       "      <td>939</td>\n",
       "    </tr>\n",
       "    <tr>\n",
       "      <th>2019-10-20</th>\n",
       "      <td>562</td>\n",
       "      <td>508</td>\n",
       "      <td>1074</td>\n",
       "    </tr>\n",
       "    <tr>\n",
       "      <th>2019-10-21</th>\n",
       "      <td>781</td>\n",
       "      <td>823</td>\n",
       "      <td>1304</td>\n",
       "    </tr>\n",
       "    <tr>\n",
       "      <th>2019-10-22</th>\n",
       "      <td>932</td>\n",
       "      <td>736</td>\n",
       "      <td>1060</td>\n",
       "    </tr>\n",
       "    <tr>\n",
       "      <th>2019-10-23</th>\n",
       "      <td>1090</td>\n",
       "      <td>849</td>\n",
       "      <td>1422</td>\n",
       "    </tr>\n",
       "    <tr>\n",
       "      <th>2019-10-24</th>\n",
       "      <td>838</td>\n",
       "      <td>734</td>\n",
       "      <td>1461</td>\n",
       "    </tr>\n",
       "    <tr>\n",
       "      <th>2019-10-25</th>\n",
       "      <td>587</td>\n",
       "      <td>650</td>\n",
       "      <td>1381</td>\n",
       "    </tr>\n",
       "    <tr>\n",
       "      <th>2019-10-26</th>\n",
       "      <td>932</td>\n",
       "      <td>754</td>\n",
       "      <td>1441</td>\n",
       "    </tr>\n",
       "    <tr>\n",
       "      <th>2019-10-27</th>\n",
       "      <td>848</td>\n",
       "      <td>709</td>\n",
       "      <td>1304</td>\n",
       "    </tr>\n",
       "    <tr>\n",
       "      <th>2019-10-28</th>\n",
       "      <td>902</td>\n",
       "      <td>949</td>\n",
       "      <td>1333</td>\n",
       "    </tr>\n",
       "    <tr>\n",
       "      <th>2019-10-29</th>\n",
       "      <td>927</td>\n",
       "      <td>937</td>\n",
       "      <td>1332</td>\n",
       "    </tr>\n",
       "    <tr>\n",
       "      <th>2019-10-30</th>\n",
       "      <td>637</td>\n",
       "      <td>931</td>\n",
       "      <td>1309</td>\n",
       "    </tr>\n",
       "    <tr>\n",
       "      <th>2019-10-31</th>\n",
       "      <td>702</td>\n",
       "      <td>928</td>\n",
       "      <td>1238</td>\n",
       "    </tr>\n",
       "    <tr>\n",
       "      <th>2019-11-01</th>\n",
       "      <td>747</td>\n",
       "      <td>734</td>\n",
       "      <td>1096</td>\n",
       "    </tr>\n",
       "    <tr>\n",
       "      <th>2019-11-02</th>\n",
       "      <td>459</td>\n",
       "      <td>622</td>\n",
       "      <td>772</td>\n",
       "    </tr>\n",
       "    <tr>\n",
       "      <th>2019-11-03</th>\n",
       "      <td>893</td>\n",
       "      <td>576</td>\n",
       "      <td>1392</td>\n",
       "    </tr>\n",
       "  </tbody>\n",
       "</table>\n",
       "</div>"
      ],
      "text/plain": [
       "           event.name             \n",
       "source         google other yandex\n",
       "day_date                          \n",
       "2019-10-07        706   590   1249\n",
       "2019-10-08        591   542   1078\n",
       "2019-10-09        592   461    974\n",
       "2019-10-10        484   727   1032\n",
       "2019-10-11        541   522    967\n",
       "2019-10-12        377   417   1049\n",
       "2019-10-13        565   670   1400\n",
       "2019-10-14        630   826   1578\n",
       "2019-10-15        616   787   1319\n",
       "2019-10-16        927   757   1046\n",
       "2019-10-17        912   630   1076\n",
       "2019-10-18        784   588   1372\n",
       "2019-10-19        883   509    939\n",
       "2019-10-20        562   508   1074\n",
       "2019-10-21        781   823   1304\n",
       "2019-10-22        932   736   1060\n",
       "2019-10-23       1090   849   1422\n",
       "2019-10-24        838   734   1461\n",
       "2019-10-25        587   650   1381\n",
       "2019-10-26        932   754   1441\n",
       "2019-10-27        848   709   1304\n",
       "2019-10-28        902   949   1333\n",
       "2019-10-29        927   937   1332\n",
       "2019-10-30        637   931   1309\n",
       "2019-10-31        702   928   1238\n",
       "2019-11-01        747   734   1096\n",
       "2019-11-02        459   622    772\n",
       "2019-11-03        893   576   1392"
      ]
     },
     "execution_count": 69,
     "metadata": {},
     "output_type": "execute_result"
    }
   ],
   "source": [
    "data_total_1.pivot_table(index=['day_date'], columns= ['source'], values=['event.name'], aggfunc= 'count')"
   ]
  },
  {
   "cell_type": "code",
   "execution_count": 70,
   "metadata": {},
   "outputs": [
    {
     "data": {
      "image/png": "[encoded data removed]",
      "text/plain": [
       "<Figure size 1080x504 with 1 Axes>"
      ]
     },
     "metadata": {
      "needs_background": "light"
     },
     "output_type": "display_data"
    }
   ],
   "source": [
    "data_total_1.pivot_table(index=['day_date'], columns= ['source'], values=['event.name'], aggfunc= 'count').plot(figsize=(15, 7))\n",
    "plt.title('Частота событий по сегментам')\n",
    "plt.xlabel('Дата')\n",
    "plt.ylabel('Количество событий')\n",
    "plt.show()"
   ]
  },
  {
   "cell_type": "markdown",
   "metadata": {},
   "source": [
    "Явное преимущество в частоте совершения событий наблюдается у пользователей браузера yandex. По частоте совершения событий пользователи google и других браузеров приблизительно равны. При этом они отстаю от пользователей браузера yandex в 1,5-2 раза."
   ]
  },
  {
   "cell_type": "markdown",
   "metadata": {},
   "source": [
    "<div class=\"alert alert-block alert-success\">✔️\n",
    "    \n",
    "\n",
    "__Комментарий от тимлида №1__\n",
    "\n",
    "Тут согласен"
   ]
  },
  {
   "cell_type": "markdown",
   "metadata": {},
   "source": []
  },
  {
   "cell_type": "markdown",
   "metadata": {},
   "source": []
  },
  {
   "cell_type": "markdown",
   "metadata": {},
   "source": [
    "<div class=\"alert alert-block alert-danger\">✍\n",
    "    \n",
    "\n",
    "__Комментарий от тимлида №1__\n",
    "\n",
    "В ответах на вопросы заказчика нужно рассмотеть: сегменты в разрезе конверсии и Retention Rate. А тепловые карты отсуствуют. Добавь, пожалуйста"
   ]
  },
  {
   "cell_type": "markdown",
   "metadata": {},
   "source": [
    "### Расчет конверсии по группе пользователей по кликам и просмотрам рекомендованных объявлений"
   ]
  },
  {
   "cell_type": "markdown",
   "metadata": {},
   "source": [
    "Одни пользователи совершают действия tips_show и tips_click , другие — только tips_show. То есть одни пользователи только смотрят рекомендованным объявлениям, но не кликают, а другие - и кликают, и просмотривают, то есть их можно назвать более ответственными пользователями. "
   ]
  },
  {
   "cell_type": "markdown",
   "metadata": {},
   "source": [
    "<div class=\"alert alert-block alert-danger\">✍\n",
    "    \n",
    "\n",
    "__Комментарий от тимлида №1__\n",
    "\n",
    "Сегментация должна охватывать всю аудиторию и отталкиваться от признаков поведения и активности пользователей. \n",
    "`по кликам и просмотрам рекомендованных объявлений` - ты же берешь лишь один признак, не учитывая другие"
   ]
  },
  {
   "cell_type": "code",
   "execution_count": 71,
   "metadata": {},
   "outputs": [
    {
     "data": {
      "text/html": [
       "<div>\n",
       "<style scoped>\n",
       "    .dataframe tbody tr th:only-of-type {\n",
       "        vertical-align: middle;\n",
       "    }\n",
       "\n",
       "    .dataframe tbody tr th {\n",
       "        vertical-align: top;\n",
       "    }\n",
       "\n",
       "    .dataframe thead th {\n",
       "        text-align: right;\n",
       "    }\n",
       "</style>\n",
       "<table border=\"1\" class=\"dataframe\">\n",
       "  <thead>\n",
       "    <tr style=\"text-align: right;\">\n",
       "      <th>event.name</th>\n",
       "      <th>user.id</th>\n",
       "      <th>advert_open</th>\n",
       "      <th>contacts_call</th>\n",
       "      <th>favorites_add</th>\n",
       "      <th>map</th>\n",
       "      <th>photos_show</th>\n",
       "      <th>search</th>\n",
       "      <th>show_contacts</th>\n",
       "      <th>tips_click</th>\n",
       "      <th>tips_show</th>\n",
       "      <th>tips</th>\n",
       "    </tr>\n",
       "  </thead>\n",
       "  <tbody>\n",
       "    <tr>\n",
       "      <th>0</th>\n",
       "      <td>0001b1d5-b74a-4cbf-aeb0-7df5947bf349</td>\n",
       "      <td>NaN</td>\n",
       "      <td>NaN</td>\n",
       "      <td>NaN</td>\n",
       "      <td>6.0</td>\n",
       "      <td>NaN</td>\n",
       "      <td>NaN</td>\n",
       "      <td>NaN</td>\n",
       "      <td>NaN</td>\n",
       "      <td>29.0</td>\n",
       "      <td>False</td>\n",
       "    </tr>\n",
       "    <tr>\n",
       "      <th>1</th>\n",
       "      <td>00157779-810c-4498-9e05-a1e9e3cedf93</td>\n",
       "      <td>2.0</td>\n",
       "      <td>5.0</td>\n",
       "      <td>2.0</td>\n",
       "      <td>NaN</td>\n",
       "      <td>33.0</td>\n",
       "      <td>18.0</td>\n",
       "      <td>11.0</td>\n",
       "      <td>NaN</td>\n",
       "      <td>NaN</td>\n",
       "      <td>False</td>\n",
       "    </tr>\n",
       "    <tr>\n",
       "      <th>2</th>\n",
       "      <td>00463033-5717-4bf1-91b4-09183923b9df</td>\n",
       "      <td>NaN</td>\n",
       "      <td>NaN</td>\n",
       "      <td>NaN</td>\n",
       "      <td>NaN</td>\n",
       "      <td>10.0</td>\n",
       "      <td>NaN</td>\n",
       "      <td>NaN</td>\n",
       "      <td>NaN</td>\n",
       "      <td>NaN</td>\n",
       "      <td>False</td>\n",
       "    </tr>\n",
       "    <tr>\n",
       "      <th>3</th>\n",
       "      <td>004690c3-5a84-4bb7-a8af-e0c8f8fca64e</td>\n",
       "      <td>5.0</td>\n",
       "      <td>NaN</td>\n",
       "      <td>NaN</td>\n",
       "      <td>6.0</td>\n",
       "      <td>NaN</td>\n",
       "      <td>17.0</td>\n",
       "      <td>NaN</td>\n",
       "      <td>NaN</td>\n",
       "      <td>4.0</td>\n",
       "      <td>False</td>\n",
       "    </tr>\n",
       "    <tr>\n",
       "      <th>4</th>\n",
       "      <td>00551e79-152e-4441-9cf7-565d7eb04090</td>\n",
       "      <td>NaN</td>\n",
       "      <td>3.0</td>\n",
       "      <td>NaN</td>\n",
       "      <td>NaN</td>\n",
       "      <td>1.0</td>\n",
       "      <td>1.0</td>\n",
       "      <td>3.0</td>\n",
       "      <td>NaN</td>\n",
       "      <td>NaN</td>\n",
       "      <td>False</td>\n",
       "    </tr>\n",
       "  </tbody>\n",
       "</table>\n",
       "</div>"
      ],
      "text/plain": [
       "event.name                               user.id  advert_open  contacts_call  \\\n",
       "0           0001b1d5-b74a-4cbf-aeb0-7df5947bf349          NaN            NaN   \n",
       "1           00157779-810c-4498-9e05-a1e9e3cedf93          2.0            5.0   \n",
       "2           00463033-5717-4bf1-91b4-09183923b9df          NaN            NaN   \n",
       "3           004690c3-5a84-4bb7-a8af-e0c8f8fca64e          5.0            NaN   \n",
       "4           00551e79-152e-4441-9cf7-565d7eb04090          NaN            3.0   \n",
       "\n",
       "event.name  favorites_add  map  photos_show  search  show_contacts  \\\n",
       "0                     NaN  6.0          NaN     NaN            NaN   \n",
       "1                     2.0  NaN         33.0    18.0           11.0   \n",
       "2                     NaN  NaN         10.0     NaN            NaN   \n",
       "3                     NaN  6.0          NaN    17.0            NaN   \n",
       "4                     NaN  NaN          1.0     1.0            3.0   \n",
       "\n",
       "event.name  tips_click  tips_show   tips  \n",
       "0                  NaN       29.0  False  \n",
       "1                  NaN        NaN  False  \n",
       "2                  NaN        NaN  False  \n",
       "3                  NaN        4.0  False  \n",
       "4                  NaN        NaN  False  "
      ]
     },
     "execution_count": 71,
     "metadata": {},
     "output_type": "execute_result"
    }
   ],
   "source": [
    "data_ts_tc = data_total_1.pivot_table(index='user.id', columns= 'event.name', values='event.time', aggfunc= 'count').reset_index()\n",
    "data_ts_tc['tips'] = data_ts_tc['tips_click'].apply(lambda x: x>0.0)\n",
    "data_ts_tc.head(5)"
   ]
  },
  {
   "cell_type": "code",
   "execution_count": 108,
   "metadata": {},
   "outputs": [
    {
     "data": {
      "text/html": [
       "<div>\n",
       "<style scoped>\n",
       "    .dataframe tbody tr th:only-of-type {\n",
       "        vertical-align: middle;\n",
       "    }\n",
       "\n",
       "    .dataframe tbody tr th {\n",
       "        vertical-align: top;\n",
       "    }\n",
       "\n",
       "    .dataframe thead th {\n",
       "        text-align: right;\n",
       "    }\n",
       "</style>\n",
       "<table border=\"1\" class=\"dataframe\">\n",
       "  <thead>\n",
       "    <tr style=\"text-align: right;\">\n",
       "      <th>event.name</th>\n",
       "      <th>advert_open</th>\n",
       "      <th>contacts_call</th>\n",
       "      <th>favorites_add</th>\n",
       "      <th>map</th>\n",
       "      <th>photos_show</th>\n",
       "      <th>search</th>\n",
       "      <th>show_contacts</th>\n",
       "      <th>tips_click</th>\n",
       "      <th>tips_show</th>\n",
       "    </tr>\n",
       "  </thead>\n",
       "  <tbody>\n",
       "    <tr>\n",
       "      <th>count</th>\n",
       "      <td>58.000000</td>\n",
       "      <td>0.0</td>\n",
       "      <td>28.000000</td>\n",
       "      <td>140.00000</td>\n",
       "      <td>4.000000</td>\n",
       "      <td>74.000000</td>\n",
       "      <td>91.000000</td>\n",
       "      <td>297.000000</td>\n",
       "      <td>297.000000</td>\n",
       "    </tr>\n",
       "    <tr>\n",
       "      <th>mean</th>\n",
       "      <td>10.603448</td>\n",
       "      <td>NaN</td>\n",
       "      <td>5.535714</td>\n",
       "      <td>4.65000</td>\n",
       "      <td>3.250000</td>\n",
       "      <td>4.310811</td>\n",
       "      <td>9.208791</td>\n",
       "      <td>2.360269</td>\n",
       "      <td>30.202020</td>\n",
       "    </tr>\n",
       "    <tr>\n",
       "      <th>std</th>\n",
       "      <td>13.050428</td>\n",
       "      <td>NaN</td>\n",
       "      <td>5.252739</td>\n",
       "      <td>8.84879</td>\n",
       "      <td>2.217356</td>\n",
       "      <td>5.050229</td>\n",
       "      <td>21.163132</td>\n",
       "      <td>2.757331</td>\n",
       "      <td>44.302625</td>\n",
       "    </tr>\n",
       "    <tr>\n",
       "      <th>min</th>\n",
       "      <td>1.000000</td>\n",
       "      <td>NaN</td>\n",
       "      <td>1.000000</td>\n",
       "      <td>1.00000</td>\n",
       "      <td>1.000000</td>\n",
       "      <td>1.000000</td>\n",
       "      <td>1.000000</td>\n",
       "      <td>1.000000</td>\n",
       "      <td>1.000000</td>\n",
       "    </tr>\n",
       "    <tr>\n",
       "      <th>25%</th>\n",
       "      <td>2.000000</td>\n",
       "      <td>NaN</td>\n",
       "      <td>1.000000</td>\n",
       "      <td>1.00000</td>\n",
       "      <td>1.750000</td>\n",
       "      <td>2.000000</td>\n",
       "      <td>1.000000</td>\n",
       "      <td>1.000000</td>\n",
       "      <td>7.000000</td>\n",
       "    </tr>\n",
       "    <tr>\n",
       "      <th>50%</th>\n",
       "      <td>5.000000</td>\n",
       "      <td>NaN</td>\n",
       "      <td>4.000000</td>\n",
       "      <td>2.00000</td>\n",
       "      <td>3.000000</td>\n",
       "      <td>3.000000</td>\n",
       "      <td>2.000000</td>\n",
       "      <td>1.000000</td>\n",
       "      <td>15.000000</td>\n",
       "    </tr>\n",
       "    <tr>\n",
       "      <th>75%</th>\n",
       "      <td>15.500000</td>\n",
       "      <td>NaN</td>\n",
       "      <td>8.250000</td>\n",
       "      <td>5.00000</td>\n",
       "      <td>4.500000</td>\n",
       "      <td>4.000000</td>\n",
       "      <td>5.000000</td>\n",
       "      <td>3.000000</td>\n",
       "      <td>33.000000</td>\n",
       "    </tr>\n",
       "    <tr>\n",
       "      <th>max</th>\n",
       "      <td>76.000000</td>\n",
       "      <td>NaN</td>\n",
       "      <td>19.000000</td>\n",
       "      <td>68.00000</td>\n",
       "      <td>6.000000</td>\n",
       "      <td>27.000000</td>\n",
       "      <td>137.000000</td>\n",
       "      <td>30.000000</td>\n",
       "      <td>346.000000</td>\n",
       "    </tr>\n",
       "  </tbody>\n",
       "</table>\n",
       "</div>"
      ],
      "text/plain": [
       "event.name  advert_open  contacts_call  favorites_add        map  photos_show  \\\n",
       "count         58.000000            0.0      28.000000  140.00000     4.000000   \n",
       "mean          10.603448            NaN       5.535714    4.65000     3.250000   \n",
       "std           13.050428            NaN       5.252739    8.84879     2.217356   \n",
       "min            1.000000            NaN       1.000000    1.00000     1.000000   \n",
       "25%            2.000000            NaN       1.000000    1.00000     1.750000   \n",
       "50%            5.000000            NaN       4.000000    2.00000     3.000000   \n",
       "75%           15.500000            NaN       8.250000    5.00000     4.500000   \n",
       "max           76.000000            NaN      19.000000   68.00000     6.000000   \n",
       "\n",
       "event.name     search  show_contacts  tips_click   tips_show  \n",
       "count       74.000000      91.000000  297.000000  297.000000  \n",
       "mean         4.310811       9.208791    2.360269   30.202020  \n",
       "std          5.050229      21.163132    2.757331   44.302625  \n",
       "min          1.000000       1.000000    1.000000    1.000000  \n",
       "25%          2.000000       1.000000    1.000000    7.000000  \n",
       "50%          3.000000       2.000000    1.000000   15.000000  \n",
       "75%          4.000000       5.000000    3.000000   33.000000  \n",
       "max         27.000000     137.000000   30.000000  346.000000  "
      ]
     },
     "execution_count": 108,
     "metadata": {},
     "output_type": "execute_result"
    }
   ],
   "source": [
    "data_ts_tc_1 = data_ts_tc.query('tips_click > 0.0 & tips_show > 0.0')\n",
    "data_ts_tc_1.describe()"
   ]
  },
  {
   "cell_type": "code",
   "execution_count": 104,
   "metadata": {},
   "outputs": [
    {
     "data": {
      "text/html": [
       "<div>\n",
       "<style scoped>\n",
       "    .dataframe tbody tr th:only-of-type {\n",
       "        vertical-align: middle;\n",
       "    }\n",
       "\n",
       "    .dataframe tbody tr th {\n",
       "        vertical-align: top;\n",
       "    }\n",
       "\n",
       "    .dataframe thead th {\n",
       "        text-align: right;\n",
       "    }\n",
       "</style>\n",
       "<table border=\"1\" class=\"dataframe\">\n",
       "  <thead>\n",
       "    <tr style=\"text-align: right;\">\n",
       "      <th>event.name</th>\n",
       "      <th>advert_open</th>\n",
       "      <th>contacts_call</th>\n",
       "      <th>favorites_add</th>\n",
       "      <th>map</th>\n",
       "      <th>photos_show</th>\n",
       "      <th>search</th>\n",
       "      <th>show_contacts</th>\n",
       "      <th>tips_click</th>\n",
       "      <th>tips_show</th>\n",
       "    </tr>\n",
       "  </thead>\n",
       "  <tbody>\n",
       "    <tr>\n",
       "      <th>count</th>\n",
       "      <td>0.0</td>\n",
       "      <td>0.0</td>\n",
       "      <td>0.0</td>\n",
       "      <td>0.0</td>\n",
       "      <td>0.0</td>\n",
       "      <td>0.0</td>\n",
       "      <td>0.0</td>\n",
       "      <td>0.0</td>\n",
       "      <td>0.0</td>\n",
       "    </tr>\n",
       "    <tr>\n",
       "      <th>mean</th>\n",
       "      <td>NaN</td>\n",
       "      <td>NaN</td>\n",
       "      <td>NaN</td>\n",
       "      <td>NaN</td>\n",
       "      <td>NaN</td>\n",
       "      <td>NaN</td>\n",
       "      <td>NaN</td>\n",
       "      <td>NaN</td>\n",
       "      <td>NaN</td>\n",
       "    </tr>\n",
       "    <tr>\n",
       "      <th>std</th>\n",
       "      <td>NaN</td>\n",
       "      <td>NaN</td>\n",
       "      <td>NaN</td>\n",
       "      <td>NaN</td>\n",
       "      <td>NaN</td>\n",
       "      <td>NaN</td>\n",
       "      <td>NaN</td>\n",
       "      <td>NaN</td>\n",
       "      <td>NaN</td>\n",
       "    </tr>\n",
       "    <tr>\n",
       "      <th>min</th>\n",
       "      <td>NaN</td>\n",
       "      <td>NaN</td>\n",
       "      <td>NaN</td>\n",
       "      <td>NaN</td>\n",
       "      <td>NaN</td>\n",
       "      <td>NaN</td>\n",
       "      <td>NaN</td>\n",
       "      <td>NaN</td>\n",
       "      <td>NaN</td>\n",
       "    </tr>\n",
       "    <tr>\n",
       "      <th>25%</th>\n",
       "      <td>NaN</td>\n",
       "      <td>NaN</td>\n",
       "      <td>NaN</td>\n",
       "      <td>NaN</td>\n",
       "      <td>NaN</td>\n",
       "      <td>NaN</td>\n",
       "      <td>NaN</td>\n",
       "      <td>NaN</td>\n",
       "      <td>NaN</td>\n",
       "    </tr>\n",
       "    <tr>\n",
       "      <th>50%</th>\n",
       "      <td>NaN</td>\n",
       "      <td>NaN</td>\n",
       "      <td>NaN</td>\n",
       "      <td>NaN</td>\n",
       "      <td>NaN</td>\n",
       "      <td>NaN</td>\n",
       "      <td>NaN</td>\n",
       "      <td>NaN</td>\n",
       "      <td>NaN</td>\n",
       "    </tr>\n",
       "    <tr>\n",
       "      <th>75%</th>\n",
       "      <td>NaN</td>\n",
       "      <td>NaN</td>\n",
       "      <td>NaN</td>\n",
       "      <td>NaN</td>\n",
       "      <td>NaN</td>\n",
       "      <td>NaN</td>\n",
       "      <td>NaN</td>\n",
       "      <td>NaN</td>\n",
       "      <td>NaN</td>\n",
       "    </tr>\n",
       "    <tr>\n",
       "      <th>max</th>\n",
       "      <td>NaN</td>\n",
       "      <td>NaN</td>\n",
       "      <td>NaN</td>\n",
       "      <td>NaN</td>\n",
       "      <td>NaN</td>\n",
       "      <td>NaN</td>\n",
       "      <td>NaN</td>\n",
       "      <td>NaN</td>\n",
       "      <td>NaN</td>\n",
       "    </tr>\n",
       "  </tbody>\n",
       "</table>\n",
       "</div>"
      ],
      "text/plain": [
       "event.name  advert_open  contacts_call  favorites_add  map  photos_show  \\\n",
       "count               0.0            0.0            0.0  0.0          0.0   \n",
       "mean                NaN            NaN            NaN  NaN          NaN   \n",
       "std                 NaN            NaN            NaN  NaN          NaN   \n",
       "min                 NaN            NaN            NaN  NaN          NaN   \n",
       "25%                 NaN            NaN            NaN  NaN          NaN   \n",
       "50%                 NaN            NaN            NaN  NaN          NaN   \n",
       "75%                 NaN            NaN            NaN  NaN          NaN   \n",
       "max                 NaN            NaN            NaN  NaN          NaN   \n",
       "\n",
       "event.name  search  show_contacts  tips_click  tips_show  \n",
       "count          0.0            0.0         0.0        0.0  \n",
       "mean           NaN            NaN         NaN        NaN  \n",
       "std            NaN            NaN         NaN        NaN  \n",
       "min            NaN            NaN         NaN        NaN  \n",
       "25%            NaN            NaN         NaN        NaN  \n",
       "50%            NaN            NaN         NaN        NaN  \n",
       "75%            NaN            NaN         NaN        NaN  \n",
       "max            NaN            NaN         NaN        NaN  "
      ]
     },
     "execution_count": 104,
     "metadata": {},
     "output_type": "execute_result"
    }
   ],
   "source": [
    "data_ts_tc_2 = data_ts_tc.query('tips_click > 0.0 & tips_show <= 0.0')\n",
    "data_ts_tc_2.describe()"
   ]
  },
  {
   "cell_type": "code",
   "execution_count": 105,
   "metadata": {},
   "outputs": [
    {
     "data": {
      "text/html": [
       "<div>\n",
       "<style scoped>\n",
       "    .dataframe tbody tr th:only-of-type {\n",
       "        vertical-align: middle;\n",
       "    }\n",
       "\n",
       "    .dataframe tbody tr th {\n",
       "        vertical-align: top;\n",
       "    }\n",
       "\n",
       "    .dataframe thead th {\n",
       "        text-align: right;\n",
       "    }\n",
       "</style>\n",
       "<table border=\"1\" class=\"dataframe\">\n",
       "  <thead>\n",
       "    <tr style=\"text-align: right;\">\n",
       "      <th>event.name</th>\n",
       "      <th>advert_open</th>\n",
       "      <th>contacts_call</th>\n",
       "      <th>favorites_add</th>\n",
       "      <th>map</th>\n",
       "      <th>photos_show</th>\n",
       "      <th>search</th>\n",
       "      <th>show_contacts</th>\n",
       "      <th>tips_click</th>\n",
       "      <th>tips_show</th>\n",
       "    </tr>\n",
       "  </thead>\n",
       "  <tbody>\n",
       "    <tr>\n",
       "      <th>count</th>\n",
       "      <td>0.0</td>\n",
       "      <td>0.0</td>\n",
       "      <td>0.0</td>\n",
       "      <td>0.0</td>\n",
       "      <td>0.0</td>\n",
       "      <td>0.0</td>\n",
       "      <td>0.0</td>\n",
       "      <td>0.0</td>\n",
       "      <td>0.0</td>\n",
       "    </tr>\n",
       "    <tr>\n",
       "      <th>mean</th>\n",
       "      <td>NaN</td>\n",
       "      <td>NaN</td>\n",
       "      <td>NaN</td>\n",
       "      <td>NaN</td>\n",
       "      <td>NaN</td>\n",
       "      <td>NaN</td>\n",
       "      <td>NaN</td>\n",
       "      <td>NaN</td>\n",
       "      <td>NaN</td>\n",
       "    </tr>\n",
       "    <tr>\n",
       "      <th>std</th>\n",
       "      <td>NaN</td>\n",
       "      <td>NaN</td>\n",
       "      <td>NaN</td>\n",
       "      <td>NaN</td>\n",
       "      <td>NaN</td>\n",
       "      <td>NaN</td>\n",
       "      <td>NaN</td>\n",
       "      <td>NaN</td>\n",
       "      <td>NaN</td>\n",
       "    </tr>\n",
       "    <tr>\n",
       "      <th>min</th>\n",
       "      <td>NaN</td>\n",
       "      <td>NaN</td>\n",
       "      <td>NaN</td>\n",
       "      <td>NaN</td>\n",
       "      <td>NaN</td>\n",
       "      <td>NaN</td>\n",
       "      <td>NaN</td>\n",
       "      <td>NaN</td>\n",
       "      <td>NaN</td>\n",
       "    </tr>\n",
       "    <tr>\n",
       "      <th>25%</th>\n",
       "      <td>NaN</td>\n",
       "      <td>NaN</td>\n",
       "      <td>NaN</td>\n",
       "      <td>NaN</td>\n",
       "      <td>NaN</td>\n",
       "      <td>NaN</td>\n",
       "      <td>NaN</td>\n",
       "      <td>NaN</td>\n",
       "      <td>NaN</td>\n",
       "    </tr>\n",
       "    <tr>\n",
       "      <th>50%</th>\n",
       "      <td>NaN</td>\n",
       "      <td>NaN</td>\n",
       "      <td>NaN</td>\n",
       "      <td>NaN</td>\n",
       "      <td>NaN</td>\n",
       "      <td>NaN</td>\n",
       "      <td>NaN</td>\n",
       "      <td>NaN</td>\n",
       "      <td>NaN</td>\n",
       "    </tr>\n",
       "    <tr>\n",
       "      <th>75%</th>\n",
       "      <td>NaN</td>\n",
       "      <td>NaN</td>\n",
       "      <td>NaN</td>\n",
       "      <td>NaN</td>\n",
       "      <td>NaN</td>\n",
       "      <td>NaN</td>\n",
       "      <td>NaN</td>\n",
       "      <td>NaN</td>\n",
       "      <td>NaN</td>\n",
       "    </tr>\n",
       "    <tr>\n",
       "      <th>max</th>\n",
       "      <td>NaN</td>\n",
       "      <td>NaN</td>\n",
       "      <td>NaN</td>\n",
       "      <td>NaN</td>\n",
       "      <td>NaN</td>\n",
       "      <td>NaN</td>\n",
       "      <td>NaN</td>\n",
       "      <td>NaN</td>\n",
       "      <td>NaN</td>\n",
       "    </tr>\n",
       "  </tbody>\n",
       "</table>\n",
       "</div>"
      ],
      "text/plain": [
       "event.name  advert_open  contacts_call  favorites_add  map  photos_show  \\\n",
       "count               0.0            0.0            0.0  0.0          0.0   \n",
       "mean                NaN            NaN            NaN  NaN          NaN   \n",
       "std                 NaN            NaN            NaN  NaN          NaN   \n",
       "min                 NaN            NaN            NaN  NaN          NaN   \n",
       "25%                 NaN            NaN            NaN  NaN          NaN   \n",
       "50%                 NaN            NaN            NaN  NaN          NaN   \n",
       "75%                 NaN            NaN            NaN  NaN          NaN   \n",
       "max                 NaN            NaN            NaN  NaN          NaN   \n",
       "\n",
       "event.name  search  show_contacts  tips_click  tips_show  \n",
       "count          0.0            0.0         0.0        0.0  \n",
       "mean           NaN            NaN         NaN        NaN  \n",
       "std            NaN            NaN         NaN        NaN  \n",
       "min            NaN            NaN         NaN        NaN  \n",
       "25%            NaN            NaN         NaN        NaN  \n",
       "50%            NaN            NaN         NaN        NaN  \n",
       "75%            NaN            NaN         NaN        NaN  \n",
       "max            NaN            NaN         NaN        NaN  "
      ]
     },
     "execution_count": 105,
     "metadata": {},
     "output_type": "execute_result"
    }
   ],
   "source": [
    "data_ts_tc_3 = data_ts_tc.query('tips_click <= 0.0 & tips_show > 0.0')\n",
    "data_ts_tc_3.describe()"
   ]
  },
  {
   "cell_type": "code",
   "execution_count": 106,
   "metadata": {},
   "outputs": [
    {
     "data": {
      "text/html": [
       "<div>\n",
       "<style scoped>\n",
       "    .dataframe tbody tr th:only-of-type {\n",
       "        vertical-align: middle;\n",
       "    }\n",
       "\n",
       "    .dataframe tbody tr th {\n",
       "        vertical-align: top;\n",
       "    }\n",
       "\n",
       "    .dataframe thead th {\n",
       "        text-align: right;\n",
       "    }\n",
       "</style>\n",
       "<table border=\"1\" class=\"dataframe\">\n",
       "  <thead>\n",
       "    <tr style=\"text-align: right;\">\n",
       "      <th>event.name</th>\n",
       "      <th>advert_open</th>\n",
       "      <th>contacts_call</th>\n",
       "      <th>favorites_add</th>\n",
       "      <th>map</th>\n",
       "      <th>photos_show</th>\n",
       "      <th>search</th>\n",
       "      <th>show_contacts</th>\n",
       "      <th>tips_click</th>\n",
       "      <th>tips_show</th>\n",
       "    </tr>\n",
       "  </thead>\n",
       "  <tbody>\n",
       "    <tr>\n",
       "      <th>count</th>\n",
       "      <td>0.0</td>\n",
       "      <td>0.0</td>\n",
       "      <td>0.0</td>\n",
       "      <td>0.0</td>\n",
       "      <td>0.0</td>\n",
       "      <td>0.0</td>\n",
       "      <td>0.0</td>\n",
       "      <td>0.0</td>\n",
       "      <td>0.0</td>\n",
       "    </tr>\n",
       "    <tr>\n",
       "      <th>mean</th>\n",
       "      <td>NaN</td>\n",
       "      <td>NaN</td>\n",
       "      <td>NaN</td>\n",
       "      <td>NaN</td>\n",
       "      <td>NaN</td>\n",
       "      <td>NaN</td>\n",
       "      <td>NaN</td>\n",
       "      <td>NaN</td>\n",
       "      <td>NaN</td>\n",
       "    </tr>\n",
       "    <tr>\n",
       "      <th>std</th>\n",
       "      <td>NaN</td>\n",
       "      <td>NaN</td>\n",
       "      <td>NaN</td>\n",
       "      <td>NaN</td>\n",
       "      <td>NaN</td>\n",
       "      <td>NaN</td>\n",
       "      <td>NaN</td>\n",
       "      <td>NaN</td>\n",
       "      <td>NaN</td>\n",
       "    </tr>\n",
       "    <tr>\n",
       "      <th>min</th>\n",
       "      <td>NaN</td>\n",
       "      <td>NaN</td>\n",
       "      <td>NaN</td>\n",
       "      <td>NaN</td>\n",
       "      <td>NaN</td>\n",
       "      <td>NaN</td>\n",
       "      <td>NaN</td>\n",
       "      <td>NaN</td>\n",
       "      <td>NaN</td>\n",
       "    </tr>\n",
       "    <tr>\n",
       "      <th>25%</th>\n",
       "      <td>NaN</td>\n",
       "      <td>NaN</td>\n",
       "      <td>NaN</td>\n",
       "      <td>NaN</td>\n",
       "      <td>NaN</td>\n",
       "      <td>NaN</td>\n",
       "      <td>NaN</td>\n",
       "      <td>NaN</td>\n",
       "      <td>NaN</td>\n",
       "    </tr>\n",
       "    <tr>\n",
       "      <th>50%</th>\n",
       "      <td>NaN</td>\n",
       "      <td>NaN</td>\n",
       "      <td>NaN</td>\n",
       "      <td>NaN</td>\n",
       "      <td>NaN</td>\n",
       "      <td>NaN</td>\n",
       "      <td>NaN</td>\n",
       "      <td>NaN</td>\n",
       "      <td>NaN</td>\n",
       "    </tr>\n",
       "    <tr>\n",
       "      <th>75%</th>\n",
       "      <td>NaN</td>\n",
       "      <td>NaN</td>\n",
       "      <td>NaN</td>\n",
       "      <td>NaN</td>\n",
       "      <td>NaN</td>\n",
       "      <td>NaN</td>\n",
       "      <td>NaN</td>\n",
       "      <td>NaN</td>\n",
       "      <td>NaN</td>\n",
       "    </tr>\n",
       "    <tr>\n",
       "      <th>max</th>\n",
       "      <td>NaN</td>\n",
       "      <td>NaN</td>\n",
       "      <td>NaN</td>\n",
       "      <td>NaN</td>\n",
       "      <td>NaN</td>\n",
       "      <td>NaN</td>\n",
       "      <td>NaN</td>\n",
       "      <td>NaN</td>\n",
       "      <td>NaN</td>\n",
       "    </tr>\n",
       "  </tbody>\n",
       "</table>\n",
       "</div>"
      ],
      "text/plain": [
       "event.name  advert_open  contacts_call  favorites_add  map  photos_show  \\\n",
       "count               0.0            0.0            0.0  0.0          0.0   \n",
       "mean                NaN            NaN            NaN  NaN          NaN   \n",
       "std                 NaN            NaN            NaN  NaN          NaN   \n",
       "min                 NaN            NaN            NaN  NaN          NaN   \n",
       "25%                 NaN            NaN            NaN  NaN          NaN   \n",
       "50%                 NaN            NaN            NaN  NaN          NaN   \n",
       "75%                 NaN            NaN            NaN  NaN          NaN   \n",
       "max                 NaN            NaN            NaN  NaN          NaN   \n",
       "\n",
       "event.name  search  show_contacts  tips_click  tips_show  \n",
       "count          0.0            0.0         0.0        0.0  \n",
       "mean           NaN            NaN         NaN        NaN  \n",
       "std            NaN            NaN         NaN        NaN  \n",
       "min            NaN            NaN         NaN        NaN  \n",
       "25%            NaN            NaN         NaN        NaN  \n",
       "50%            NaN            NaN         NaN        NaN  \n",
       "75%            NaN            NaN         NaN        NaN  \n",
       "max            NaN            NaN         NaN        NaN  "
      ]
     },
     "execution_count": 106,
     "metadata": {},
     "output_type": "execute_result"
    }
   ],
   "source": [
    "data_ts_tc_4 = data_ts_tc.query('tips_click <= 0.0 & tips_show <= 0.0')\n",
    "data_ts_tc_4.describe()"
   ]
  },
  {
   "cell_type": "code",
   "execution_count": 72,
   "metadata": {},
   "outputs": [
    {
     "data": {
      "text/html": [
       "<div>\n",
       "<style scoped>\n",
       "    .dataframe tbody tr th:only-of-type {\n",
       "        vertical-align: middle;\n",
       "    }\n",
       "\n",
       "    .dataframe tbody tr th {\n",
       "        vertical-align: top;\n",
       "    }\n",
       "\n",
       "    .dataframe thead th {\n",
       "        text-align: right;\n",
       "    }\n",
       "</style>\n",
       "<table border=\"1\" class=\"dataframe\">\n",
       "  <thead>\n",
       "    <tr style=\"text-align: right;\">\n",
       "      <th>event.name</th>\n",
       "      <th>user.id</th>\n",
       "      <th>tips</th>\n",
       "    </tr>\n",
       "  </thead>\n",
       "  <tbody>\n",
       "    <tr>\n",
       "      <th>0</th>\n",
       "      <td>0001b1d5-b74a-4cbf-aeb0-7df5947bf349</td>\n",
       "      <td>False</td>\n",
       "    </tr>\n",
       "    <tr>\n",
       "      <th>1</th>\n",
       "      <td>00157779-810c-4498-9e05-a1e9e3cedf93</td>\n",
       "      <td>False</td>\n",
       "    </tr>\n",
       "    <tr>\n",
       "      <th>2</th>\n",
       "      <td>00463033-5717-4bf1-91b4-09183923b9df</td>\n",
       "      <td>False</td>\n",
       "    </tr>\n",
       "    <tr>\n",
       "      <th>3</th>\n",
       "      <td>004690c3-5a84-4bb7-a8af-e0c8f8fca64e</td>\n",
       "      <td>False</td>\n",
       "    </tr>\n",
       "    <tr>\n",
       "      <th>4</th>\n",
       "      <td>00551e79-152e-4441-9cf7-565d7eb04090</td>\n",
       "      <td>False</td>\n",
       "    </tr>\n",
       "  </tbody>\n",
       "</table>\n",
       "</div>"
      ],
      "text/plain": [
       "event.name                               user.id   tips\n",
       "0           0001b1d5-b74a-4cbf-aeb0-7df5947bf349  False\n",
       "1           00157779-810c-4498-9e05-a1e9e3cedf93  False\n",
       "2           00463033-5717-4bf1-91b4-09183923b9df  False\n",
       "3           004690c3-5a84-4bb7-a8af-e0c8f8fca64e  False\n",
       "4           00551e79-152e-4441-9cf7-565d7eb04090  False"
      ]
     },
     "execution_count": 72,
     "metadata": {},
     "output_type": "execute_result"
    }
   ],
   "source": [
    "tips = data_ts_tc[['user.id','tips']]\n",
    "tips.head(5)"
   ]
  },
  {
   "cell_type": "code",
   "execution_count": 73,
   "metadata": {},
   "outputs": [
    {
     "data": {
      "text/html": [
       "<div>\n",
       "<style scoped>\n",
       "    .dataframe tbody tr th:only-of-type {\n",
       "        vertical-align: middle;\n",
       "    }\n",
       "\n",
       "    .dataframe tbody tr th {\n",
       "        vertical-align: top;\n",
       "    }\n",
       "\n",
       "    .dataframe thead th {\n",
       "        text-align: right;\n",
       "    }\n",
       "</style>\n",
       "<table border=\"1\" class=\"dataframe\">\n",
       "  <thead>\n",
       "    <tr style=\"text-align: right;\">\n",
       "      <th></th>\n",
       "      <th>user.id</th>\n",
       "      <th>tips</th>\n",
       "      <th>first_ts</th>\n",
       "      <th>event.time</th>\n",
       "      <th>event.name</th>\n",
       "      <th>active_date</th>\n",
       "      <th>session_id</th>\n",
       "      <th>seniority</th>\n",
       "      <th>day_date</th>\n",
       "      <th>source</th>\n",
       "    </tr>\n",
       "  </thead>\n",
       "  <tbody>\n",
       "    <tr>\n",
       "      <th>0</th>\n",
       "      <td>0001b1d5-b74a-4cbf-aeb0-7df5947bf349</td>\n",
       "      <td>False</td>\n",
       "      <td>2019-10-03</td>\n",
       "      <td>2019-10-07 13:39:45.989359</td>\n",
       "      <td>tips_show</td>\n",
       "      <td>2019-10-03</td>\n",
       "      <td>1</td>\n",
       "      <td>1</td>\n",
       "      <td>2019-10-07</td>\n",
       "      <td>other</td>\n",
       "    </tr>\n",
       "    <tr>\n",
       "      <th>1</th>\n",
       "      <td>0001b1d5-b74a-4cbf-aeb0-7df5947bf349</td>\n",
       "      <td>False</td>\n",
       "      <td>2019-10-03</td>\n",
       "      <td>2019-10-07 13:40:31.052909</td>\n",
       "      <td>tips_show</td>\n",
       "      <td>2019-10-03</td>\n",
       "      <td>1</td>\n",
       "      <td>1</td>\n",
       "      <td>2019-10-07</td>\n",
       "      <td>other</td>\n",
       "    </tr>\n",
       "    <tr>\n",
       "      <th>2</th>\n",
       "      <td>0001b1d5-b74a-4cbf-aeb0-7df5947bf349</td>\n",
       "      <td>False</td>\n",
       "      <td>2019-10-03</td>\n",
       "      <td>2019-10-07 13:41:05.722489</td>\n",
       "      <td>tips_show</td>\n",
       "      <td>2019-10-03</td>\n",
       "      <td>1</td>\n",
       "      <td>1</td>\n",
       "      <td>2019-10-07</td>\n",
       "      <td>other</td>\n",
       "    </tr>\n",
       "    <tr>\n",
       "      <th>3</th>\n",
       "      <td>0001b1d5-b74a-4cbf-aeb0-7df5947bf349</td>\n",
       "      <td>False</td>\n",
       "      <td>2019-10-03</td>\n",
       "      <td>2019-10-07 13:43:20.735461</td>\n",
       "      <td>tips_show</td>\n",
       "      <td>2019-10-03</td>\n",
       "      <td>1</td>\n",
       "      <td>1</td>\n",
       "      <td>2019-10-07</td>\n",
       "      <td>other</td>\n",
       "    </tr>\n",
       "    <tr>\n",
       "      <th>4</th>\n",
       "      <td>0001b1d5-b74a-4cbf-aeb0-7df5947bf349</td>\n",
       "      <td>False</td>\n",
       "      <td>2019-10-03</td>\n",
       "      <td>2019-10-07 13:45:30.917502</td>\n",
       "      <td>tips_show</td>\n",
       "      <td>2019-10-03</td>\n",
       "      <td>1</td>\n",
       "      <td>1</td>\n",
       "      <td>2019-10-07</td>\n",
       "      <td>other</td>\n",
       "    </tr>\n",
       "  </tbody>\n",
       "</table>\n",
       "</div>"
      ],
      "text/plain": [
       "                                user.id   tips   first_ts  \\\n",
       "0  0001b1d5-b74a-4cbf-aeb0-7df5947bf349  False 2019-10-03   \n",
       "1  0001b1d5-b74a-4cbf-aeb0-7df5947bf349  False 2019-10-03   \n",
       "2  0001b1d5-b74a-4cbf-aeb0-7df5947bf349  False 2019-10-03   \n",
       "3  0001b1d5-b74a-4cbf-aeb0-7df5947bf349  False 2019-10-03   \n",
       "4  0001b1d5-b74a-4cbf-aeb0-7df5947bf349  False 2019-10-03   \n",
       "\n",
       "                  event.time event.name active_date  session_id  seniority  \\\n",
       "0 2019-10-07 13:39:45.989359  tips_show  2019-10-03           1          1   \n",
       "1 2019-10-07 13:40:31.052909  tips_show  2019-10-03           1          1   \n",
       "2 2019-10-07 13:41:05.722489  tips_show  2019-10-03           1          1   \n",
       "3 2019-10-07 13:43:20.735461  tips_show  2019-10-03           1          1   \n",
       "4 2019-10-07 13:45:30.917502  tips_show  2019-10-03           1          1   \n",
       "\n",
       "     day_date source  \n",
       "0  2019-10-07  other  \n",
       "1  2019-10-07  other  \n",
       "2  2019-10-07  other  \n",
       "3  2019-10-07  other  \n",
       "4  2019-10-07  other  "
      ]
     },
     "execution_count": 73,
     "metadata": {},
     "output_type": "execute_result"
    }
   ],
   "source": [
    "data_total_1 = tips.merge(data_total_1, on='user.id', how='left')\n",
    "data_total_1.head(5)"
   ]
  },
  {
   "cell_type": "code",
   "execution_count": 74,
   "metadata": {},
   "outputs": [],
   "source": [
    "data_total_tips = data_total_1.query('tips == True')"
   ]
  },
  {
   "cell_type": "code",
   "execution_count": 75,
   "metadata": {},
   "outputs": [
    {
     "data": {
      "text/plain": [
       "322"
      ]
     },
     "execution_count": 75,
     "metadata": {},
     "output_type": "execute_result"
    }
   ],
   "source": [
    "total_users_tips = data_total_tips.query('`event.name` != \"contacts_call\"')\n",
    "total_users_tips = total_users_tips['user.id'].nunique()\n",
    "total_users_tips"
   ]
  },
  {
   "cell_type": "code",
   "execution_count": 76,
   "metadata": {},
   "outputs": [
    {
     "data": {
      "text/plain": [
       "100"
      ]
     },
     "execution_count": 76,
     "metadata": {},
     "output_type": "execute_result"
    }
   ],
   "source": [
    "total_users_tips_sc = data_total_tips.query('`event.name` == \"show_contacts\"')\n",
    "total_users_tips_sc = total_users_tips_sc['user.id'].nunique()\n",
    "total_users_tips_sc"
   ]
  },
  {
   "cell_type": "code",
   "execution_count": 77,
   "metadata": {},
   "outputs": [
    {
     "data": {
      "text/plain": [
       "31.06"
      ]
     },
     "execution_count": 77,
     "metadata": {},
     "output_type": "execute_result"
    }
   ],
   "source": [
    "CR = (total_users_tips_sc/total_users_tips)*100\n",
    "round(CR, 2)"
   ]
  },
  {
   "cell_type": "code",
   "execution_count": 78,
   "metadata": {},
   "outputs": [],
   "source": [
    "data_total_non_tips = data_total_1.query('tips == False')"
   ]
  },
  {
   "cell_type": "code",
   "execution_count": 79,
   "metadata": {},
   "outputs": [
    {
     "data": {
      "text/plain": [
       "3971"
      ]
     },
     "execution_count": 79,
     "metadata": {},
     "output_type": "execute_result"
    }
   ],
   "source": [
    "total_users_non_tips = data_total_non_tips.query('`event.name` != \"contacts_call\"')\n",
    "total_users_non_tips = total_users_non_tips['user.id'].nunique()\n",
    "total_users_non_tips"
   ]
  },
  {
   "cell_type": "code",
   "execution_count": 80,
   "metadata": {},
   "outputs": [
    {
     "data": {
      "text/plain": [
       "881"
      ]
     },
     "execution_count": 80,
     "metadata": {},
     "output_type": "execute_result"
    }
   ],
   "source": [
    "total_users_non_tips_sc = data_total_non_tips.query('`event.name` == \"show_contacts\"')\n",
    "total_users_non_tips_sc = total_users_non_tips_sc['user.id'].nunique()\n",
    "total_users_non_tips_sc"
   ]
  },
  {
   "cell_type": "code",
   "execution_count": 81,
   "metadata": {},
   "outputs": [
    {
     "data": {
      "text/plain": [
       "22.19"
      ]
     },
     "execution_count": 81,
     "metadata": {},
     "output_type": "execute_result"
    }
   ],
   "source": [
    "CR = (total_users_non_tips_sc/total_users_non_tips)*100\n",
    "round(CR, 2)"
   ]
  },
  {
   "cell_type": "markdown",
   "metadata": {},
   "source": [
    "Конверсия в просмотры контактов различается у этих двух групп. Те пользователи, которые и кликают, и просмаотривают рекомендованные объявления, чаще доходят до целевого события по просмотру контактов.\n"
   ]
  },
  {
   "cell_type": "markdown",
   "metadata": {},
   "source": [
    "### Расчет частоты совершения событий по  кликам и просмотрам рекомендованных объявлений пользователями"
   ]
  },
  {
   "cell_type": "code",
   "execution_count": 82,
   "metadata": {},
   "outputs": [
    {
     "data": {
      "image/png": "[encoded data removed]",
      "text/plain": [
       "<Figure size 1080x504 with 1 Axes>"
      ]
     },
     "metadata": {
      "needs_background": "light"
     },
     "output_type": "display_data"
    }
   ],
   "source": [
    "data_total_1.pivot_table(index=['day_date'], columns= ['tips'], values=['event.name'], aggfunc= 'count').plot(figsize=(15, 7))\n",
    "plt.title('Частота событий по сегментам')\n",
    "plt.xlabel('Дата')\n",
    "plt.ylabel('Количество событий')\n",
    "plt.show()"
   ]
  },
  {
   "cell_type": "markdown",
   "metadata": {},
   "source": [
    "Частота событий почти в два раза выше у тех. кто не кликает на рекомендованные объявления."
   ]
  },
  {
   "cell_type": "markdown",
   "metadata": {},
   "source": []
  },
  {
   "cell_type": "markdown",
   "metadata": {},
   "source": [
    "<div class=\"alert alert-block alert-danger\">✍\n",
    "    \n",
    "\n",
    "__Комментарий от тимлида №1__\n",
    "\n",
    "Тут важно описать результаты по разделу. Какая группа у нас получилась целевой, а какие - смежными и т.п.\n",
    "</div>"
   ]
  },
  {
   "cell_type": "markdown",
   "metadata": {},
   "source": [
    " ## Формулирование и проверка гипотез"
   ]
  },
  {
   "cell_type": "markdown",
   "metadata": {},
   "source": [
    "Проверка гипотез: конверсия пользователей браузеров Google и Yandex\n",
    "        Нулевая гипотеза: конверсии пользователей браузеров Google и Yandex равны\n",
    "        Альтернативная гипотеза: конверсии пользователей браузеров Google и Yandex не равны"
   ]
  },
  {
   "cell_type": "markdown",
   "metadata": {},
   "source": [
    "<div class=\"alert alert-block alert-success\">✔️\n",
    "    \n",
    "\n",
    "__Комментарий от тимлида №1__\n",
    "\n",
    "Верная интерпритация нулевой и альтернативной гипотез\n",
    "</div>"
   ]
  },
  {
   "cell_type": "code",
   "execution_count": 83,
   "metadata": {},
   "outputs": [
    {
     "name": "stdout",
     "output_type": "stream",
     "text": [
      "p-значение:  0.8244316027993777\n",
      "Не получилось отвергнуть нулевую гипотезу, нет оснований считать доли разными\n"
     ]
    }
   ],
   "source": [
    "from scipy import stats as st\n",
    "import numpy as np\n",
    "import math as mth\n",
    "\n",
    "alpha = 0.05  # критический уровень статистической значимости\n",
    "\n",
    "purchases = np.array([total_users_g_sc, total_users_y_sc])\n",
    "leads = np.array([total_users_g, total_users_y])\n",
    "\n",
    "# ваш код\n",
    "p1 = purchases[0]/leads[0]\n",
    "p2 = purchases[1]/leads[1]\n",
    "p_combined = (purchases[0] + purchases[1]) / (leads[0] + leads[1])\n",
    "difference = p1 - p2\n",
    "z_value = difference / mth.sqrt(p_combined * (1 - p_combined)*(1/leads[0] + 1/leads[1])) \n",
    "                               \n",
    "distr = st.norm(0, 1)\n",
    "p_value = (1 - distr.cdf(abs(z_value))) * 2# ваш код\n",
    "\n",
    "print('p-значение: ', p_value)\n",
    "\n",
    "if p_value < alpha:\n",
    "    print('Отвергаем нулевую гипотезу: между долями есть значимая разница')\n",
    "else:\n",
    "    print(\n",
    "        'Не получилось отвергнуть нулевую гипотезу, нет оснований считать доли разными'\n",
    "    )"
   ]
  },
  {
   "cell_type": "markdown",
   "metadata": {},
   "source": [
    "То есть конверсии пользователей по браузерам почти не отличаются и делать упор на сегментацю по этому признаку не имеет смысла."
   ]
  },
  {
   "cell_type": "markdown",
   "metadata": {},
   "source": [
    "Одни пользователи совершают действия tips_show и tips_click , другие — только tips_show . Проверяем гипотезу: конверсия в просмотры контактов различается у этих двух групп.\n"
   ]
  },
  {
   "cell_type": "markdown",
   "metadata": {},
   "source": [
    "Проверка гипотез: конверсия пользователей, которые кликают на рекомендованные объявления tips_click\n",
    "        Нулевая гипотеза: конверсии пользователей двух групп равны\n",
    "        Альтернативная гипотеза: конверсии пользователей двух групп не равны"
   ]
  },
  {
   "cell_type": "code",
   "execution_count": 84,
   "metadata": {},
   "outputs": [
    {
     "name": "stdout",
     "output_type": "stream",
     "text": [
      "p-значение:  0.00026645646284051416\n",
      "Отвергаем нулевую гипотезу: между долями есть значимая разница\n"
     ]
    }
   ],
   "source": [
    "from scipy import stats as st\n",
    "import numpy as np\n",
    "import math as mth\n",
    "\n",
    "alpha = 0.05  # критический уровень статистической значимости\n",
    "\n",
    "purchases = np.array([total_users_non_tips_sc, total_users_tips_sc])\n",
    "leads = np.array([total_users_non_tips, total_users_tips])\n",
    "\n",
    "# ваш код\n",
    "p1 = purchases[0]/leads[0]\n",
    "p2 = purchases[1]/leads[1]\n",
    "p_combined = (purchases[0] + purchases[1]) / (leads[0] + leads[1])\n",
    "difference = p1 - p2\n",
    "z_value = difference / mth.sqrt(p_combined * (1 - p_combined)*(1/leads[0] + 1/leads[1])) \n",
    "                               \n",
    "distr = st.norm(0, 1)\n",
    "p_value = (1 - distr.cdf(abs(z_value))) * 2# ваш код\n",
    "\n",
    "print('p-значение: ', p_value)\n",
    "\n",
    "if p_value < alpha:\n",
    "    print('Отвергаем нулевую гипотезу: между долями есть значимая разница')\n",
    "else:\n",
    "    print(\n",
    "        'Не получилось отвергнуть нулевую гипотезу, нет оснований считать доли разными'\n",
    "    )"
   ]
  },
  {
   "cell_type": "markdown",
   "metadata": {},
   "source": [
    "Пользователи, которые кликают на рекомендованные объявления, гораздо чаще доходят до целевого события по просмотру контактов."
   ]
  },
  {
   "cell_type": "markdown",
   "metadata": {},
   "source": [
    "<div class=\"alert alert-block alert-success\">✔️\n",
    "    \n",
    "\n",
    "__Комментарий от тимлида №1__\n",
    "\n",
    "Методологически проверка гипотез проведена верно и наглядный вывод результатов. Так держать!\n",
    "</div>"
   ]
  },
  {
   "cell_type": "markdown",
   "metadata": {},
   "source": []
  },
  {
   "cell_type": "markdown",
   "metadata": {},
   "source": [
    " ## Выводы"
   ]
  },
  {
   "cell_type": "markdown",
   "metadata": {},
   "source": [
    "По удержанию пользователей можно сделать вывод, что интерес пользователя ослабевает после второй недели использования приложения Ненужные вещи.\n",
    "Частота совершения событий достаточно стабильна и колеблется от 1843 до 3361 в день. При это наблюдается уменьшение частоты к концу недели и увелечение частоты в середине рабочей недели. Кроме того, можно таже сказать, что к концу месяца наблюдется общая тенденцию к повышению частоты совершения событий пользователями.\n",
    "В среднем пользователи проводят в приложении 360 секунд или 6 минут за одну сессию.\n",
    "Почти каждый пятый пользователь просматривает контакты и следовательно доходит до целевого события.\n",
    "\n",
    "Самая высокая конверсия у пользователей, пришедших из браузера yandex. Она составляет почти 25%, что говорит о том, что каждый четвертый пользователь доходит до целевого события.  Самая низкая конверсия у прочих браузеров. До целевого обытия доходит порядка 19% пользователей, то есть меньше, чем каждый пятый. Сразу же после yandex идут пользователи  google. Разница между ними в конверсии практически отсутствует.\n",
    "\n",
    "Явное преимущество в частоте совершения событий наблюдается у пользователей браузера yandex. По частоте совершения событий пользователи google и других браузеров приблизительно равны. При этом они отстаю от пользователей браузера yandex в 1,5-2 раза.\n",
    "\n",
    "Одни пользователи совершают действия tips_show и tips_click , другие — только tips_show. То есть одни пользователи только смотрят рекомендованным объявлениям, но не кликают, а другие - и кликают, и просмотривают, то есть их можно назвать более ответственными пользователями. Конверсия в просмотры контактов различается у этих двух групп. Те пользователи, которые и кликают, и просмаотривают рекомендованные объявления, чаще доходят до целевого события по просмотру контактов. Частота событий почти в два раза выше у тех, кто не кликает на рекомендованные объявления.\n",
    "\n",
    "Не получилось отвергнуть гипотезу о том, что пользователи разных браузеров значительно отличаются по конверсии. При проверке гипотезы выяснилось, что нет оснований считать доли разными.\n",
    "\n",
    "Что касается гипотезы о пользователях, которые кликают на рекомендованные объявления, то гипотеза о равнозначности была отвергнута и проверка гипотез показала, что между группами есть значительная разница. Те, кто кликают на рекомендованные объявления, доходят до целевого события гораздо чаще чем те, кто просто просмотривает."
   ]
  },
  {
   "cell_type": "markdown",
   "metadata": {},
   "source": [
    "<div class=\"alert alert-block alert-danger\">✍\n",
    "    \n",
    "\n",
    "__Комментарий от тимлида №1__\n",
    "\n",
    "\n",
    "Итоговый вывод завершает твое исследование. Представлены основные результаты полученные в ходе анализа, но не увидел каких либо рекомендаций по развитию приложения в разрезе твоего исследования групп пользователей. Добавь, пожалуйста\n",
    "    \n",
    "Не забудь подкорректировать вывод после исправлений\n",
    "\n",
    "</div>"
   ]
  },
  {
   "cell_type": "markdown",
   "metadata": {},
   "source": []
  },
  {
   "cell_type": "markdown",
   "metadata": {},
   "source": [
    "<div class=\"alert alert-block alert-warning\">📝\n",
    "Комментарий от тимлида №1 </b> \n",
    "\n",
    "\n",
    "\n",
    "Итог ревью - ты проделала хорошую работу! Все расчеты корректные, грамотная интерпретация полученных результатов! У тебя есть понимание данного процесса. Но есть некоторые моменты которые тебе предстоит доработать, чтобы я смог принять твой проект. Если возникнут вопросы - обязательно задавай. Буду ждать!\n",
    "\n",
    "---\n",
    "\n",
    "Нужно поправить:\n",
    "\n",
    "1) Оформление графиков\n",
    "\n",
    "2) Выводы по разделам\n",
    "\n",
    "3) Обоснование сегментации\n",
    "\n",
    "4) 2ая сегментация некорректна (оставить только разделение по источникам)\n",
    "\n",
    "5) Подсчёт Rr  для групп\n",
    "\n",
    "6) Финальный вывод\n",
    "\n",
    "7) Подправить выводы, после изменений\n",
    "\n",
    "----\n",
    "\n",
    "\n",
    "Если у тебя будут какие-то вопросы по моим комментариям - обязательно пиши! Буду ждать работу на повторное ревью :)</div>"
   ]
  },
  {
   "cell_type": "code",
   "execution_count": null,
   "metadata": {},
   "outputs": [],
   "source": []
  }
 ],
 "metadata": {
  "ExecuteTimeLog": [
   {
    "duration": 46,
    "start_time": "2023-07-18T02:52:57.223Z"
   },
   {
    "duration": 1290,
    "start_time": "2023-07-18T02:53:02.427Z"
   },
   {
    "duration": 4,
    "start_time": "2023-07-18T03:02:09.518Z"
   },
   {
    "duration": 150,
    "start_time": "2023-07-18T03:02:10.477Z"
   },
   {
    "duration": 281,
    "start_time": "2023-07-18T03:04:11.492Z"
   },
   {
    "duration": 74,
    "start_time": "2023-07-18T03:04:35.314Z"
   },
   {
    "duration": 57,
    "start_time": "2023-07-18T03:05:12.668Z"
   },
   {
    "duration": 193,
    "start_time": "2023-07-18T03:09:15.287Z"
   },
   {
    "duration": 48,
    "start_time": "2023-07-18T03:09:18.930Z"
   },
   {
    "duration": 1257,
    "start_time": "2023-07-18T03:12:14.146Z"
   },
   {
    "duration": 301,
    "start_time": "2023-07-18T03:12:15.405Z"
   },
   {
    "duration": 77,
    "start_time": "2023-07-18T03:12:15.708Z"
   },
   {
    "duration": 6,
    "start_time": "2023-07-18T03:12:15.787Z"
   },
   {
    "duration": 17,
    "start_time": "2023-07-18T03:12:15.795Z"
   },
   {
    "duration": 25,
    "start_time": "2023-07-18T03:12:15.813Z"
   },
   {
    "duration": 30,
    "start_time": "2023-07-18T03:12:15.839Z"
   },
   {
    "duration": 30,
    "start_time": "2023-07-18T03:12:15.870Z"
   },
   {
    "duration": 10,
    "start_time": "2023-07-18T03:13:21.922Z"
   },
   {
    "duration": 8,
    "start_time": "2023-07-18T03:17:49.703Z"
   },
   {
    "duration": 4,
    "start_time": "2023-07-18T03:18:04.288Z"
   },
   {
    "duration": 1207,
    "start_time": "2023-07-18T03:19:53.428Z"
   },
   {
    "duration": 214,
    "start_time": "2023-07-18T03:19:54.637Z"
   },
   {
    "duration": 99,
    "start_time": "2023-07-18T03:19:54.853Z"
   },
   {
    "duration": 7,
    "start_time": "2023-07-18T03:19:54.955Z"
   },
   {
    "duration": 32,
    "start_time": "2023-07-18T03:19:54.965Z"
   },
   {
    "duration": 29,
    "start_time": "2023-07-18T03:19:54.999Z"
   },
   {
    "duration": 30,
    "start_time": "2023-07-18T03:19:55.030Z"
   },
   {
    "duration": 31,
    "start_time": "2023-07-18T03:19:55.062Z"
   },
   {
    "duration": 19,
    "start_time": "2023-07-18T03:19:55.095Z"
   },
   {
    "duration": 21,
    "start_time": "2023-07-18T03:19:55.120Z"
   },
   {
    "duration": 16,
    "start_time": "2023-07-18T03:19:55.143Z"
   },
   {
    "duration": 216,
    "start_time": "2023-07-18T03:19:55.160Z"
   },
   {
    "duration": 12,
    "start_time": "2023-07-18T03:19:55.378Z"
   },
   {
    "duration": 39,
    "start_time": "2023-07-18T03:19:55.391Z"
   },
   {
    "duration": 34,
    "start_time": "2023-07-18T03:19:55.432Z"
   },
   {
    "duration": 332,
    "start_time": "2023-07-18T03:20:58.446Z"
   },
   {
    "duration": 1081,
    "start_time": "2023-07-18T03:21:51.969Z"
   },
   {
    "duration": 216,
    "start_time": "2023-07-18T03:21:53.052Z"
   },
   {
    "duration": 72,
    "start_time": "2023-07-18T03:21:53.269Z"
   },
   {
    "duration": 7,
    "start_time": "2023-07-18T03:21:53.343Z"
   },
   {
    "duration": 18,
    "start_time": "2023-07-18T03:21:53.352Z"
   },
   {
    "duration": 31,
    "start_time": "2023-07-18T03:21:53.371Z"
   },
   {
    "duration": 36,
    "start_time": "2023-07-18T03:21:53.403Z"
   },
   {
    "duration": 7,
    "start_time": "2023-07-18T03:21:53.441Z"
   },
   {
    "duration": 16,
    "start_time": "2023-07-18T03:21:53.450Z"
   },
   {
    "duration": 19,
    "start_time": "2023-07-18T03:21:53.468Z"
   },
   {
    "duration": 13,
    "start_time": "2023-07-18T03:21:53.488Z"
   },
   {
    "duration": 183,
    "start_time": "2023-07-18T03:21:53.502Z"
   },
   {
    "duration": 12,
    "start_time": "2023-07-18T03:21:53.687Z"
   },
   {
    "duration": 20,
    "start_time": "2023-07-18T03:21:53.701Z"
   },
   {
    "duration": 24,
    "start_time": "2023-07-18T03:21:53.722Z"
   },
   {
    "duration": 311,
    "start_time": "2023-07-18T03:21:53.747Z"
   },
   {
    "duration": 23,
    "start_time": "2023-07-18T03:21:54.059Z"
   },
   {
    "duration": 833,
    "start_time": "2023-07-18T03:21:54.084Z"
   },
   {
    "duration": 703,
    "start_time": "2023-07-18T03:22:06.230Z"
   },
   {
    "duration": 12,
    "start_time": "2023-07-18T03:22:32.537Z"
   },
   {
    "duration": 1102,
    "start_time": "2023-07-18T03:25:09.654Z"
   },
   {
    "duration": 272,
    "start_time": "2023-07-18T03:25:10.758Z"
   },
   {
    "duration": 53,
    "start_time": "2023-07-18T03:25:11.032Z"
   },
   {
    "duration": 7,
    "start_time": "2023-07-18T03:25:11.087Z"
   },
   {
    "duration": 33,
    "start_time": "2023-07-18T03:25:11.095Z"
   },
   {
    "duration": 53,
    "start_time": "2023-07-18T03:25:11.129Z"
   },
   {
    "duration": 33,
    "start_time": "2023-07-18T03:25:11.184Z"
   },
   {
    "duration": 9,
    "start_time": "2023-07-18T03:25:11.218Z"
   },
   {
    "duration": 47,
    "start_time": "2023-07-18T03:25:11.229Z"
   },
   {
    "duration": 27,
    "start_time": "2023-07-18T03:25:11.279Z"
   },
   {
    "duration": 11,
    "start_time": "2023-07-18T03:25:11.308Z"
   },
   {
    "duration": 196,
    "start_time": "2023-07-18T03:25:11.321Z"
   },
   {
    "duration": 14,
    "start_time": "2023-07-18T03:25:11.519Z"
   },
   {
    "duration": 24,
    "start_time": "2023-07-18T03:25:11.534Z"
   },
   {
    "duration": 36,
    "start_time": "2023-07-18T03:25:11.560Z"
   },
   {
    "duration": 373,
    "start_time": "2023-07-18T03:25:11.598Z"
   },
   {
    "duration": 23,
    "start_time": "2023-07-18T03:25:11.973Z"
   },
   {
    "duration": 710,
    "start_time": "2023-07-18T03:25:11.998Z"
   },
   {
    "duration": 15,
    "start_time": "2023-07-18T03:25:12.710Z"
   },
   {
    "duration": 9,
    "start_time": "2023-07-18T03:25:12.726Z"
   },
   {
    "duration": 12,
    "start_time": "2023-07-18T03:25:12.736Z"
   },
   {
    "duration": 13,
    "start_time": "2023-07-18T03:25:12.749Z"
   },
   {
    "duration": 9,
    "start_time": "2023-07-18T03:25:12.764Z"
   },
   {
    "duration": 37,
    "start_time": "2023-07-18T03:25:12.774Z"
   },
   {
    "duration": 18,
    "start_time": "2023-07-18T03:25:12.813Z"
   },
   {
    "duration": 20,
    "start_time": "2023-07-18T03:25:12.833Z"
   },
   {
    "duration": 26,
    "start_time": "2023-07-18T03:25:12.855Z"
   },
   {
    "duration": 1091,
    "start_time": "2023-07-18T03:25:12.884Z"
   },
   {
    "duration": 869,
    "start_time": "2023-07-18T03:25:13.977Z"
   },
   {
    "duration": 17,
    "start_time": "2023-07-18T03:25:14.848Z"
   },
   {
    "duration": 29,
    "start_time": "2023-07-18T03:25:14.867Z"
   },
   {
    "duration": 41,
    "start_time": "2023-07-18T03:25:14.898Z"
   },
   {
    "duration": 16,
    "start_time": "2023-07-18T03:25:35.059Z"
   },
   {
    "duration": 12,
    "start_time": "2023-07-18T03:25:53.212Z"
   },
   {
    "duration": 211,
    "start_time": "2023-07-18T03:26:05.550Z"
   },
   {
    "duration": 1314,
    "start_time": "2023-07-18T03:26:31.853Z"
   },
   {
    "duration": 218,
    "start_time": "2023-07-18T03:26:33.169Z"
   },
   {
    "duration": 74,
    "start_time": "2023-07-18T03:26:33.388Z"
   },
   {
    "duration": 8,
    "start_time": "2023-07-18T03:26:33.464Z"
   },
   {
    "duration": 25,
    "start_time": "2023-07-18T03:26:33.474Z"
   },
   {
    "duration": 28,
    "start_time": "2023-07-18T03:26:33.501Z"
   },
   {
    "duration": 32,
    "start_time": "2023-07-18T03:26:33.531Z"
   },
   {
    "duration": 9,
    "start_time": "2023-07-18T03:26:33.565Z"
   },
   {
    "duration": 17,
    "start_time": "2023-07-18T03:26:33.576Z"
   },
   {
    "duration": 26,
    "start_time": "2023-07-18T03:26:33.597Z"
   },
   {
    "duration": 4,
    "start_time": "2023-07-18T03:26:33.625Z"
   },
   {
    "duration": 199,
    "start_time": "2023-07-18T03:26:33.631Z"
   },
   {
    "duration": 10,
    "start_time": "2023-07-18T03:26:33.832Z"
   },
   {
    "duration": 8,
    "start_time": "2023-07-18T03:26:33.844Z"
   },
   {
    "duration": 23,
    "start_time": "2023-07-18T03:26:33.853Z"
   },
   {
    "duration": 394,
    "start_time": "2023-07-18T03:26:33.878Z"
   },
   {
    "duration": 26,
    "start_time": "2023-07-18T03:26:34.273Z"
   },
   {
    "duration": 821,
    "start_time": "2023-07-18T03:26:34.301Z"
   },
   {
    "duration": 13,
    "start_time": "2023-07-18T03:26:35.124Z"
   },
   {
    "duration": 3,
    "start_time": "2023-07-18T03:26:35.139Z"
   },
   {
    "duration": 11,
    "start_time": "2023-07-18T03:26:35.144Z"
   },
   {
    "duration": 8,
    "start_time": "2023-07-18T03:26:35.157Z"
   },
   {
    "duration": 6,
    "start_time": "2023-07-18T03:26:35.167Z"
   },
   {
    "duration": 6,
    "start_time": "2023-07-18T03:26:35.174Z"
   },
   {
    "duration": 45,
    "start_time": "2023-07-18T03:26:35.182Z"
   },
   {
    "duration": 9,
    "start_time": "2023-07-18T03:26:35.229Z"
   },
   {
    "duration": 14,
    "start_time": "2023-07-18T03:26:35.240Z"
   },
   {
    "duration": 641,
    "start_time": "2023-07-18T03:26:35.257Z"
   },
   {
    "duration": 613,
    "start_time": "2023-07-18T03:26:35.899Z"
   },
   {
    "duration": 17,
    "start_time": "2023-07-18T03:26:36.514Z"
   },
   {
    "duration": 14,
    "start_time": "2023-07-18T03:26:36.532Z"
   },
   {
    "duration": 10,
    "start_time": "2023-07-18T03:26:36.548Z"
   },
   {
    "duration": 20,
    "start_time": "2023-07-18T03:26:36.559Z"
   },
   {
    "duration": 9,
    "start_time": "2023-07-18T03:26:36.581Z"
   },
   {
    "duration": 9,
    "start_time": "2023-07-18T03:26:36.591Z"
   },
   {
    "duration": 205,
    "start_time": "2023-07-18T03:26:36.621Z"
   },
   {
    "duration": 8,
    "start_time": "2023-07-18T03:26:36.828Z"
   },
   {
    "duration": 7,
    "start_time": "2023-07-18T03:27:09.227Z"
   },
   {
    "duration": 19,
    "start_time": "2023-07-18T03:27:39.084Z"
   },
   {
    "duration": 10,
    "start_time": "2023-07-18T03:27:50.614Z"
   },
   {
    "duration": 1239,
    "start_time": "2023-07-18T03:28:29.801Z"
   },
   {
    "duration": 172,
    "start_time": "2023-07-18T03:28:31.042Z"
   },
   {
    "duration": 59,
    "start_time": "2023-07-18T03:28:31.215Z"
   },
   {
    "duration": 7,
    "start_time": "2023-07-18T03:28:31.277Z"
   },
   {
    "duration": 80,
    "start_time": "2023-07-18T03:28:31.285Z"
   },
   {
    "duration": 39,
    "start_time": "2023-07-18T03:28:31.366Z"
   },
   {
    "duration": 42,
    "start_time": "2023-07-18T03:28:31.407Z"
   },
   {
    "duration": 28,
    "start_time": "2023-07-18T03:28:31.451Z"
   },
   {
    "duration": 36,
    "start_time": "2023-07-18T03:28:31.481Z"
   },
   {
    "duration": 23,
    "start_time": "2023-07-18T03:28:31.520Z"
   },
   {
    "duration": 33,
    "start_time": "2023-07-18T03:28:31.545Z"
   },
   {
    "duration": 213,
    "start_time": "2023-07-18T03:28:31.579Z"
   },
   {
    "duration": 12,
    "start_time": "2023-07-18T03:28:31.793Z"
   },
   {
    "duration": 32,
    "start_time": "2023-07-18T03:28:31.806Z"
   },
   {
    "duration": 35,
    "start_time": "2023-07-18T03:28:31.840Z"
   },
   {
    "duration": 425,
    "start_time": "2023-07-18T03:28:31.877Z"
   },
   {
    "duration": 43,
    "start_time": "2023-07-18T03:28:32.304Z"
   },
   {
    "duration": 856,
    "start_time": "2023-07-18T03:28:32.349Z"
   },
   {
    "duration": 21,
    "start_time": "2023-07-18T03:28:33.207Z"
   },
   {
    "duration": 75,
    "start_time": "2023-07-18T03:28:33.230Z"
   },
   {
    "duration": 71,
    "start_time": "2023-07-18T03:28:33.306Z"
   },
   {
    "duration": 37,
    "start_time": "2023-07-18T03:28:33.379Z"
   },
   {
    "duration": 33,
    "start_time": "2023-07-18T03:28:33.418Z"
   },
   {
    "duration": 27,
    "start_time": "2023-07-18T03:28:33.453Z"
   },
   {
    "duration": 25,
    "start_time": "2023-07-18T03:28:33.481Z"
   },
   {
    "duration": 32,
    "start_time": "2023-07-18T03:28:33.508Z"
   },
   {
    "duration": 25,
    "start_time": "2023-07-18T03:28:33.541Z"
   },
   {
    "duration": 721,
    "start_time": "2023-07-18T03:28:33.570Z"
   },
   {
    "duration": 811,
    "start_time": "2023-07-18T03:28:34.293Z"
   },
   {
    "duration": 18,
    "start_time": "2023-07-18T03:28:35.106Z"
   },
   {
    "duration": 57,
    "start_time": "2023-07-18T03:28:35.125Z"
   },
   {
    "duration": 59,
    "start_time": "2023-07-18T03:28:35.183Z"
   },
   {
    "duration": 83,
    "start_time": "2023-07-18T03:28:35.243Z"
   },
   {
    "duration": 29,
    "start_time": "2023-07-18T03:28:35.327Z"
   },
   {
    "duration": 21,
    "start_time": "2023-07-18T03:28:35.358Z"
   },
   {
    "duration": 253,
    "start_time": "2023-07-18T03:28:35.381Z"
   },
   {
    "duration": 9,
    "start_time": "2023-07-18T03:28:35.636Z"
   },
   {
    "duration": 41,
    "start_time": "2023-07-18T03:28:35.646Z"
   },
   {
    "duration": 38,
    "start_time": "2023-07-18T03:28:35.689Z"
   },
   {
    "duration": 26,
    "start_time": "2023-07-18T03:28:35.729Z"
   },
   {
    "duration": 25,
    "start_time": "2023-07-18T03:28:35.757Z"
   },
   {
    "duration": 43,
    "start_time": "2023-07-18T03:28:35.784Z"
   },
   {
    "duration": 142,
    "start_time": "2023-07-18T03:28:35.829Z"
   },
   {
    "duration": 9,
    "start_time": "2023-07-18T03:28:45.824Z"
   },
   {
    "duration": 6,
    "start_time": "2023-07-18T03:29:17.491Z"
   },
   {
    "duration": 9,
    "start_time": "2023-07-18T03:29:18.849Z"
   },
   {
    "duration": 8,
    "start_time": "2023-07-18T03:29:20.295Z"
   },
   {
    "duration": 234,
    "start_time": "2023-07-18T03:29:41.628Z"
   },
   {
    "duration": 20,
    "start_time": "2023-07-18T03:29:57.444Z"
   },
   {
    "duration": 15,
    "start_time": "2023-07-18T03:30:05.990Z"
   },
   {
    "duration": 19,
    "start_time": "2023-07-18T03:30:25.762Z"
   },
   {
    "duration": 378,
    "start_time": "2023-07-18T03:30:52.684Z"
   },
   {
    "duration": 35,
    "start_time": "2023-07-18T03:31:45.635Z"
   },
   {
    "duration": 7,
    "start_time": "2023-07-18T03:32:00.198Z"
   },
   {
    "duration": 1144,
    "start_time": "2023-07-18T03:32:55.361Z"
   },
   {
    "duration": 256,
    "start_time": "2023-07-18T03:32:56.507Z"
   },
   {
    "duration": 64,
    "start_time": "2023-07-18T03:32:56.764Z"
   },
   {
    "duration": 6,
    "start_time": "2023-07-18T03:32:56.830Z"
   },
   {
    "duration": 25,
    "start_time": "2023-07-18T03:32:56.838Z"
   },
   {
    "duration": 25,
    "start_time": "2023-07-18T03:32:56.864Z"
   },
   {
    "duration": 43,
    "start_time": "2023-07-18T03:32:56.891Z"
   },
   {
    "duration": 7,
    "start_time": "2023-07-18T03:32:56.935Z"
   },
   {
    "duration": 10,
    "start_time": "2023-07-18T03:32:56.944Z"
   },
   {
    "duration": 10,
    "start_time": "2023-07-18T03:32:56.956Z"
   },
   {
    "duration": 13,
    "start_time": "2023-07-18T03:32:56.967Z"
   },
   {
    "duration": 181,
    "start_time": "2023-07-18T03:32:56.981Z"
   },
   {
    "duration": 10,
    "start_time": "2023-07-18T03:32:57.164Z"
   },
   {
    "duration": 8,
    "start_time": "2023-07-18T03:32:57.176Z"
   },
   {
    "duration": 40,
    "start_time": "2023-07-18T03:32:57.185Z"
   },
   {
    "duration": 313,
    "start_time": "2023-07-18T03:32:57.226Z"
   },
   {
    "duration": 24,
    "start_time": "2023-07-18T03:32:57.540Z"
   },
   {
    "duration": 733,
    "start_time": "2023-07-18T03:32:57.566Z"
   },
   {
    "duration": 21,
    "start_time": "2023-07-18T03:32:58.300Z"
   },
   {
    "duration": 4,
    "start_time": "2023-07-18T03:32:58.323Z"
   },
   {
    "duration": 23,
    "start_time": "2023-07-18T03:32:58.328Z"
   },
   {
    "duration": 30,
    "start_time": "2023-07-18T03:32:58.353Z"
   },
   {
    "duration": 11,
    "start_time": "2023-07-18T03:32:58.384Z"
   },
   {
    "duration": 10,
    "start_time": "2023-07-18T03:32:58.397Z"
   },
   {
    "duration": 22,
    "start_time": "2023-07-18T03:32:58.409Z"
   },
   {
    "duration": 6,
    "start_time": "2023-07-18T03:32:58.433Z"
   },
   {
    "duration": 20,
    "start_time": "2023-07-18T03:32:58.440Z"
   },
   {
    "duration": 650,
    "start_time": "2023-07-18T03:32:58.463Z"
   },
   {
    "duration": 610,
    "start_time": "2023-07-18T03:32:59.115Z"
   },
   {
    "duration": 14,
    "start_time": "2023-07-18T03:32:59.727Z"
   },
   {
    "duration": 10,
    "start_time": "2023-07-18T03:32:59.743Z"
   },
   {
    "duration": 11,
    "start_time": "2023-07-18T03:32:59.755Z"
   },
   {
    "duration": 12,
    "start_time": "2023-07-18T03:32:59.768Z"
   },
   {
    "duration": 12,
    "start_time": "2023-07-18T03:32:59.782Z"
   },
   {
    "duration": 9,
    "start_time": "2023-07-18T03:32:59.821Z"
   },
   {
    "duration": 217,
    "start_time": "2023-07-18T03:32:59.831Z"
   },
   {
    "duration": 9,
    "start_time": "2023-07-18T03:33:00.049Z"
   },
   {
    "duration": 31,
    "start_time": "2023-07-18T03:33:00.059Z"
   },
   {
    "duration": 48,
    "start_time": "2023-07-18T03:33:00.092Z"
   },
   {
    "duration": 13,
    "start_time": "2023-07-18T03:33:00.142Z"
   },
   {
    "duration": 36,
    "start_time": "2023-07-18T03:33:00.157Z"
   },
   {
    "duration": 25,
    "start_time": "2023-07-18T03:33:00.195Z"
   },
   {
    "duration": 52,
    "start_time": "2023-07-18T03:33:00.221Z"
   },
   {
    "duration": 57,
    "start_time": "2023-07-18T03:33:00.275Z"
   },
   {
    "duration": 272,
    "start_time": "2023-07-18T03:33:00.334Z"
   },
   {
    "duration": 26,
    "start_time": "2023-07-18T03:33:00.608Z"
   },
   {
    "duration": 107,
    "start_time": "2023-07-18T03:33:00.635Z"
   },
   {
    "duration": 498,
    "start_time": "2023-07-18T03:33:00.744Z"
   },
   {
    "duration": 25,
    "start_time": "2023-07-18T03:33:01.244Z"
   },
   {
    "duration": 30,
    "start_time": "2023-07-18T03:33:01.271Z"
   },
   {
    "duration": 31,
    "start_time": "2023-07-18T03:33:01.303Z"
   },
   {
    "duration": 86,
    "start_time": "2023-07-18T03:33:01.336Z"
   },
   {
    "duration": 18,
    "start_time": "2023-07-18T03:33:01.424Z"
   },
   {
    "duration": 46,
    "start_time": "2023-07-18T03:33:01.443Z"
   },
   {
    "duration": 22,
    "start_time": "2023-07-18T03:33:01.491Z"
   },
   {
    "duration": 43,
    "start_time": "2023-07-18T03:33:01.514Z"
   },
   {
    "duration": 46,
    "start_time": "2023-07-18T03:33:01.558Z"
   },
   {
    "duration": 1264,
    "start_time": "2023-07-18T03:33:54.144Z"
   },
   {
    "duration": 187,
    "start_time": "2023-07-18T03:33:55.410Z"
   },
   {
    "duration": 55,
    "start_time": "2023-07-18T03:33:55.599Z"
   },
   {
    "duration": 7,
    "start_time": "2023-07-18T03:33:55.656Z"
   },
   {
    "duration": 65,
    "start_time": "2023-07-18T03:33:55.664Z"
   },
   {
    "duration": 33,
    "start_time": "2023-07-18T03:33:55.731Z"
   },
   {
    "duration": 35,
    "start_time": "2023-07-18T03:33:55.766Z"
   },
   {
    "duration": 22,
    "start_time": "2023-07-18T03:33:55.803Z"
   },
   {
    "duration": 23,
    "start_time": "2023-07-18T03:33:55.827Z"
   },
   {
    "duration": 13,
    "start_time": "2023-07-18T03:33:55.854Z"
   },
   {
    "duration": 16,
    "start_time": "2023-07-18T03:33:55.868Z"
   },
   {
    "duration": 196,
    "start_time": "2023-07-18T03:33:55.886Z"
   },
   {
    "duration": 12,
    "start_time": "2023-07-18T03:33:56.084Z"
   },
   {
    "duration": 30,
    "start_time": "2023-07-18T03:33:56.098Z"
   },
   {
    "duration": 32,
    "start_time": "2023-07-18T03:33:56.129Z"
   },
   {
    "duration": 335,
    "start_time": "2023-07-18T03:33:56.163Z"
   },
   {
    "duration": 37,
    "start_time": "2023-07-18T03:33:56.500Z"
   },
   {
    "duration": 729,
    "start_time": "2023-07-18T03:33:56.539Z"
   },
   {
    "duration": 13,
    "start_time": "2023-07-18T03:33:57.269Z"
   },
   {
    "duration": 33,
    "start_time": "2023-07-18T03:33:57.284Z"
   },
   {
    "duration": 55,
    "start_time": "2023-07-18T03:33:57.318Z"
   },
   {
    "duration": 19,
    "start_time": "2023-07-18T03:33:57.375Z"
   },
   {
    "duration": 23,
    "start_time": "2023-07-18T03:33:57.395Z"
   },
   {
    "duration": 14,
    "start_time": "2023-07-18T03:33:57.419Z"
   },
   {
    "duration": 15,
    "start_time": "2023-07-18T03:33:57.435Z"
   },
   {
    "duration": 26,
    "start_time": "2023-07-18T03:33:57.451Z"
   },
   {
    "duration": 16,
    "start_time": "2023-07-18T03:33:57.479Z"
   },
   {
    "duration": 728,
    "start_time": "2023-07-18T03:33:57.498Z"
   },
   {
    "duration": 633,
    "start_time": "2023-07-18T03:33:58.228Z"
   },
   {
    "duration": 15,
    "start_time": "2023-07-18T03:33:58.862Z"
   },
   {
    "duration": 31,
    "start_time": "2023-07-18T03:33:58.878Z"
   },
   {
    "duration": 16,
    "start_time": "2023-07-18T03:33:58.911Z"
   },
   {
    "duration": 26,
    "start_time": "2023-07-18T03:33:58.929Z"
   },
   {
    "duration": 12,
    "start_time": "2023-07-18T03:33:58.957Z"
   },
   {
    "duration": 12,
    "start_time": "2023-07-18T03:33:58.971Z"
   },
   {
    "duration": 242,
    "start_time": "2023-07-18T03:33:58.985Z"
   },
   {
    "duration": 8,
    "start_time": "2023-07-18T03:33:59.229Z"
   },
   {
    "duration": 15,
    "start_time": "2023-07-18T03:33:59.238Z"
   },
   {
    "duration": 20,
    "start_time": "2023-07-18T03:33:59.254Z"
   },
   {
    "duration": 10,
    "start_time": "2023-07-18T03:33:59.276Z"
   },
   {
    "duration": 34,
    "start_time": "2023-07-18T03:33:59.288Z"
   },
   {
    "duration": 6,
    "start_time": "2023-07-18T03:33:59.324Z"
   },
   {
    "duration": 22,
    "start_time": "2023-07-18T03:33:59.331Z"
   },
   {
    "duration": 20,
    "start_time": "2023-07-18T03:33:59.354Z"
   },
   {
    "duration": 253,
    "start_time": "2023-07-18T03:33:59.376Z"
   },
   {
    "duration": 16,
    "start_time": "2023-07-18T03:33:59.631Z"
   },
   {
    "duration": 17,
    "start_time": "2023-07-18T03:33:59.648Z"
   },
   {
    "duration": 358,
    "start_time": "2023-07-18T03:33:59.666Z"
   },
   {
    "duration": 21,
    "start_time": "2023-07-18T03:34:00.025Z"
   },
   {
    "duration": 40,
    "start_time": "2023-07-18T03:34:00.048Z"
   },
   {
    "duration": 46,
    "start_time": "2023-07-18T03:34:00.090Z"
   },
   {
    "duration": 71,
    "start_time": "2023-07-18T03:34:00.137Z"
   },
   {
    "duration": 26,
    "start_time": "2023-07-18T03:34:00.210Z"
   },
   {
    "duration": 83,
    "start_time": "2023-07-18T03:34:00.238Z"
   },
   {
    "duration": 55,
    "start_time": "2023-07-18T03:34:00.323Z"
   },
   {
    "duration": 84,
    "start_time": "2023-07-18T03:34:00.379Z"
   },
   {
    "duration": 99,
    "start_time": "2023-07-18T03:34:00.465Z"
   },
   {
    "duration": 89,
    "start_time": "2023-07-18T03:34:00.566Z"
   },
   {
    "duration": 56,
    "start_time": "2023-07-18T03:34:00.657Z"
   },
   {
    "duration": 60,
    "start_time": "2023-07-18T03:34:00.715Z"
   },
   {
    "duration": 76,
    "start_time": "2023-07-18T03:34:00.776Z"
   },
   {
    "duration": 238,
    "start_time": "2023-07-18T03:34:00.853Z"
   },
   {
    "duration": 62,
    "start_time": "2023-07-18T03:35:54.865Z"
   },
   {
    "duration": 8,
    "start_time": "2023-07-18T03:36:16.006Z"
   },
   {
    "duration": 35,
    "start_time": "2023-07-18T03:36:34.617Z"
   },
   {
    "duration": 1151,
    "start_time": "2023-07-18T03:38:36.765Z"
   },
   {
    "duration": 288,
    "start_time": "2023-07-18T03:38:37.919Z"
   },
   {
    "duration": 58,
    "start_time": "2023-07-18T03:38:38.208Z"
   },
   {
    "duration": 6,
    "start_time": "2023-07-18T03:38:38.269Z"
   },
   {
    "duration": 21,
    "start_time": "2023-07-18T03:38:38.277Z"
   },
   {
    "duration": 26,
    "start_time": "2023-07-18T03:38:38.299Z"
   },
   {
    "duration": 31,
    "start_time": "2023-07-18T03:38:38.327Z"
   },
   {
    "duration": 7,
    "start_time": "2023-07-18T03:38:38.360Z"
   },
   {
    "duration": 15,
    "start_time": "2023-07-18T03:38:38.369Z"
   },
   {
    "duration": 21,
    "start_time": "2023-07-18T03:38:38.386Z"
   },
   {
    "duration": 11,
    "start_time": "2023-07-18T03:38:38.409Z"
   },
   {
    "duration": 191,
    "start_time": "2023-07-18T03:38:38.422Z"
   },
   {
    "duration": 13,
    "start_time": "2023-07-18T03:38:38.615Z"
   },
   {
    "duration": 17,
    "start_time": "2023-07-18T03:38:38.629Z"
   },
   {
    "duration": 23,
    "start_time": "2023-07-18T03:38:38.647Z"
   },
   {
    "duration": 314,
    "start_time": "2023-07-18T03:38:38.671Z"
   },
   {
    "duration": 33,
    "start_time": "2023-07-18T03:38:38.987Z"
   },
   {
    "duration": 701,
    "start_time": "2023-07-18T03:38:39.022Z"
   },
   {
    "duration": 11,
    "start_time": "2023-07-18T03:38:39.725Z"
   },
   {
    "duration": 3,
    "start_time": "2023-07-18T03:38:39.737Z"
   },
   {
    "duration": 13,
    "start_time": "2023-07-18T03:38:39.741Z"
   },
   {
    "duration": 10,
    "start_time": "2023-07-18T03:38:39.756Z"
   },
   {
    "duration": 7,
    "start_time": "2023-07-18T03:38:39.767Z"
   },
   {
    "duration": 8,
    "start_time": "2023-07-18T03:38:39.776Z"
   },
   {
    "duration": 19,
    "start_time": "2023-07-18T03:38:39.785Z"
   },
   {
    "duration": 2,
    "start_time": "2023-07-18T03:38:39.821Z"
   },
   {
    "duration": 13,
    "start_time": "2023-07-18T03:38:39.825Z"
   },
   {
    "duration": 631,
    "start_time": "2023-07-18T03:38:39.842Z"
   },
   {
    "duration": 623,
    "start_time": "2023-07-18T03:38:40.474Z"
   },
   {
    "duration": 22,
    "start_time": "2023-07-18T03:38:41.098Z"
   },
   {
    "duration": 12,
    "start_time": "2023-07-18T03:38:41.122Z"
   },
   {
    "duration": 11,
    "start_time": "2023-07-18T03:38:41.135Z"
   },
   {
    "duration": 9,
    "start_time": "2023-07-18T03:38:41.147Z"
   },
   {
    "duration": 11,
    "start_time": "2023-07-18T03:38:41.158Z"
   },
   {
    "duration": 16,
    "start_time": "2023-07-18T03:38:41.171Z"
   },
   {
    "duration": 248,
    "start_time": "2023-07-18T03:38:41.188Z"
   },
   {
    "duration": 8,
    "start_time": "2023-07-18T03:38:41.438Z"
   },
   {
    "duration": 16,
    "start_time": "2023-07-18T03:38:41.448Z"
   },
   {
    "duration": 38,
    "start_time": "2023-07-18T03:38:41.466Z"
   },
   {
    "duration": 9,
    "start_time": "2023-07-18T03:38:41.506Z"
   },
   {
    "duration": 8,
    "start_time": "2023-07-18T03:38:41.520Z"
   },
   {
    "duration": 10,
    "start_time": "2023-07-18T03:38:41.529Z"
   },
   {
    "duration": 8,
    "start_time": "2023-07-18T03:38:41.541Z"
   },
   {
    "duration": 11,
    "start_time": "2023-07-18T03:38:41.551Z"
   },
   {
    "duration": 286,
    "start_time": "2023-07-18T03:38:41.564Z"
   },
   {
    "duration": 18,
    "start_time": "2023-07-18T03:38:41.853Z"
   },
   {
    "duration": 19,
    "start_time": "2023-07-18T03:38:41.873Z"
   },
   {
    "duration": 419,
    "start_time": "2023-07-18T03:38:41.894Z"
   },
   {
    "duration": 25,
    "start_time": "2023-07-18T03:38:42.315Z"
   },
   {
    "duration": 13,
    "start_time": "2023-07-18T03:38:42.341Z"
   },
   {
    "duration": 16,
    "start_time": "2023-07-18T03:38:42.355Z"
   },
   {
    "duration": 60,
    "start_time": "2023-07-18T03:38:42.373Z"
   },
   {
    "duration": 7,
    "start_time": "2023-07-18T03:38:42.434Z"
   },
   {
    "duration": 26,
    "start_time": "2023-07-18T03:38:42.443Z"
   },
   {
    "duration": 11,
    "start_time": "2023-07-18T03:38:42.471Z"
   },
   {
    "duration": 22,
    "start_time": "2023-07-18T03:38:42.483Z"
   },
   {
    "duration": 6,
    "start_time": "2023-07-18T03:38:42.506Z"
   },
   {
    "duration": 20,
    "start_time": "2023-07-18T03:38:42.514Z"
   },
   {
    "duration": 23,
    "start_time": "2023-07-18T03:38:42.535Z"
   },
   {
    "duration": 10,
    "start_time": "2023-07-18T03:38:42.559Z"
   },
   {
    "duration": 11,
    "start_time": "2023-07-18T03:38:42.571Z"
   },
   {
    "duration": 27,
    "start_time": "2023-07-18T03:38:42.583Z"
   },
   {
    "duration": 29,
    "start_time": "2023-07-18T03:38:42.612Z"
   },
   {
    "duration": 25,
    "start_time": "2023-07-18T03:38:42.643Z"
   },
   {
    "duration": 24,
    "start_time": "2023-07-18T03:38:42.669Z"
   },
   {
    "duration": 31,
    "start_time": "2023-07-18T03:38:42.694Z"
   },
   {
    "duration": 33,
    "start_time": "2023-07-18T03:38:42.727Z"
   },
   {
    "duration": 23,
    "start_time": "2023-07-18T03:38:42.762Z"
   },
   {
    "duration": 52,
    "start_time": "2023-07-18T03:38:42.787Z"
   },
   {
    "duration": 274,
    "start_time": "2023-07-18T03:38:42.841Z"
   },
   {
    "duration": 46,
    "start_time": "2023-07-18T03:38:43.116Z"
   },
   {
    "duration": 7,
    "start_time": "2023-07-18T03:38:43.164Z"
   },
   {
    "duration": 72,
    "start_time": "2023-07-18T03:38:43.173Z"
   },
   {
    "duration": 10,
    "start_time": "2023-07-18T03:38:43.247Z"
   },
   {
    "duration": 10,
    "start_time": "2023-07-18T03:38:43.259Z"
   },
   {
    "duration": 10,
    "start_time": "2023-07-18T03:38:43.271Z"
   },
   {
    "duration": 19,
    "start_time": "2023-07-18T03:38:43.282Z"
   },
   {
    "duration": 26,
    "start_time": "2023-07-18T03:38:43.303Z"
   },
   {
    "duration": 55,
    "start_time": "2023-07-18T03:38:43.331Z"
   },
   {
    "duration": 9,
    "start_time": "2023-07-18T03:38:43.388Z"
   },
   {
    "duration": 17,
    "start_time": "2023-07-18T03:38:43.399Z"
   },
   {
    "duration": 216,
    "start_time": "2023-07-18T03:38:43.420Z"
   },
   {
    "duration": 7,
    "start_time": "2023-07-18T03:38:43.638Z"
   },
   {
    "duration": 11,
    "start_time": "2023-07-18T03:38:43.647Z"
   },
   {
    "duration": 1108,
    "start_time": "2023-07-18T03:39:26.837Z"
   },
   {
    "duration": 3,
    "start_time": "2023-07-18T03:39:27.948Z"
   },
   {
    "duration": 202,
    "start_time": "2023-07-18T03:39:27.953Z"
   },
   {
    "duration": 65,
    "start_time": "2023-07-18T03:39:28.157Z"
   },
   {
    "duration": 6,
    "start_time": "2023-07-18T03:39:28.224Z"
   },
   {
    "duration": 29,
    "start_time": "2023-07-18T03:39:28.232Z"
   },
   {
    "duration": 31,
    "start_time": "2023-07-18T03:39:28.262Z"
   },
   {
    "duration": 39,
    "start_time": "2023-07-18T03:39:28.295Z"
   },
   {
    "duration": 8,
    "start_time": "2023-07-18T03:39:28.335Z"
   },
   {
    "duration": 12,
    "start_time": "2023-07-18T03:39:28.345Z"
   },
   {
    "duration": 9,
    "start_time": "2023-07-18T03:39:28.358Z"
   },
   {
    "duration": 8,
    "start_time": "2023-07-18T03:39:28.368Z"
   },
   {
    "duration": 187,
    "start_time": "2023-07-18T03:39:28.378Z"
   },
   {
    "duration": 11,
    "start_time": "2023-07-18T03:39:28.566Z"
   },
   {
    "duration": 11,
    "start_time": "2023-07-18T03:39:28.579Z"
   },
   {
    "duration": 31,
    "start_time": "2023-07-18T03:39:28.592Z"
   },
   {
    "duration": 373,
    "start_time": "2023-07-18T03:39:28.625Z"
   },
   {
    "duration": 29,
    "start_time": "2023-07-18T03:39:29.000Z"
   },
   {
    "duration": 710,
    "start_time": "2023-07-18T03:39:29.030Z"
   },
   {
    "duration": 11,
    "start_time": "2023-07-18T03:39:29.742Z"
   },
   {
    "duration": 3,
    "start_time": "2023-07-18T03:39:29.754Z"
   },
   {
    "duration": 12,
    "start_time": "2023-07-18T03:39:29.758Z"
   },
   {
    "duration": 9,
    "start_time": "2023-07-18T03:39:29.771Z"
   },
   {
    "duration": 7,
    "start_time": "2023-07-18T03:39:29.782Z"
   },
   {
    "duration": 15,
    "start_time": "2023-07-18T03:39:29.791Z"
   },
   {
    "duration": 10,
    "start_time": "2023-07-18T03:39:29.820Z"
   },
   {
    "duration": 16,
    "start_time": "2023-07-18T03:39:29.832Z"
   },
   {
    "duration": 13,
    "start_time": "2023-07-18T03:39:29.852Z"
   },
   {
    "duration": 676,
    "start_time": "2023-07-18T03:39:29.866Z"
   },
   {
    "duration": 719,
    "start_time": "2023-07-18T03:39:30.544Z"
   },
   {
    "duration": 16,
    "start_time": "2023-07-18T03:39:31.264Z"
   },
   {
    "duration": 78,
    "start_time": "2023-07-18T03:39:31.281Z"
   },
   {
    "duration": 109,
    "start_time": "2023-07-18T03:39:31.361Z"
   },
   {
    "duration": 57,
    "start_time": "2023-07-18T03:39:31.471Z"
   },
   {
    "duration": 47,
    "start_time": "2023-07-18T03:39:31.530Z"
   },
   {
    "duration": 53,
    "start_time": "2023-07-18T03:39:31.578Z"
   },
   {
    "duration": 291,
    "start_time": "2023-07-18T03:39:31.633Z"
   },
   {
    "duration": 8,
    "start_time": "2023-07-18T03:39:31.926Z"
   },
   {
    "duration": 49,
    "start_time": "2023-07-18T03:39:31.936Z"
   },
   {
    "duration": 43,
    "start_time": "2023-07-18T03:39:31.987Z"
   },
   {
    "duration": 32,
    "start_time": "2023-07-18T03:39:32.032Z"
   },
   {
    "duration": 28,
    "start_time": "2023-07-18T03:39:32.066Z"
   },
   {
    "duration": 29,
    "start_time": "2023-07-18T03:39:32.095Z"
   },
   {
    "duration": 27,
    "start_time": "2023-07-18T03:39:32.126Z"
   },
   {
    "duration": 42,
    "start_time": "2023-07-18T03:39:32.154Z"
   },
   {
    "duration": 365,
    "start_time": "2023-07-18T03:39:32.197Z"
   },
   {
    "duration": 16,
    "start_time": "2023-07-18T03:39:32.564Z"
   },
   {
    "duration": 30,
    "start_time": "2023-07-18T03:39:32.581Z"
   },
   {
    "duration": 364,
    "start_time": "2023-07-18T03:39:32.613Z"
   },
   {
    "duration": 21,
    "start_time": "2023-07-18T03:39:32.978Z"
   },
   {
    "duration": 25,
    "start_time": "2023-07-18T03:39:33.001Z"
   },
   {
    "duration": 10,
    "start_time": "2023-07-18T03:39:33.027Z"
   },
   {
    "duration": 41,
    "start_time": "2023-07-18T03:39:33.038Z"
   },
   {
    "duration": 9,
    "start_time": "2023-07-18T03:39:33.081Z"
   },
   {
    "duration": 37,
    "start_time": "2023-07-18T03:39:33.091Z"
   },
   {
    "duration": 36,
    "start_time": "2023-07-18T03:39:33.129Z"
   },
   {
    "duration": 25,
    "start_time": "2023-07-18T03:39:33.166Z"
   },
   {
    "duration": 21,
    "start_time": "2023-07-18T03:39:33.193Z"
   },
   {
    "duration": 21,
    "start_time": "2023-07-18T03:39:33.216Z"
   },
   {
    "duration": 28,
    "start_time": "2023-07-18T03:39:33.239Z"
   },
   {
    "duration": 8,
    "start_time": "2023-07-18T03:39:33.269Z"
   },
   {
    "duration": 26,
    "start_time": "2023-07-18T03:39:33.278Z"
   },
   {
    "duration": 32,
    "start_time": "2023-07-18T03:39:33.306Z"
   },
   {
    "duration": 50,
    "start_time": "2023-07-18T03:39:33.339Z"
   },
   {
    "duration": 20,
    "start_time": "2023-07-18T03:39:33.390Z"
   },
   {
    "duration": 11,
    "start_time": "2023-07-18T03:39:33.411Z"
   },
   {
    "duration": 31,
    "start_time": "2023-07-18T03:39:33.424Z"
   },
   {
    "duration": 14,
    "start_time": "2023-07-18T03:39:33.457Z"
   },
   {
    "duration": 18,
    "start_time": "2023-07-18T03:39:33.473Z"
   },
   {
    "duration": 39,
    "start_time": "2023-07-18T03:39:33.492Z"
   },
   {
    "duration": 263,
    "start_time": "2023-07-18T03:39:33.533Z"
   },
   {
    "duration": 49,
    "start_time": "2023-07-18T03:39:33.797Z"
   },
   {
    "duration": 8,
    "start_time": "2023-07-18T03:39:33.847Z"
   },
   {
    "duration": 42,
    "start_time": "2023-07-18T03:39:33.856Z"
   },
   {
    "duration": 21,
    "start_time": "2023-07-18T03:39:33.900Z"
   },
   {
    "duration": 22,
    "start_time": "2023-07-18T03:39:33.923Z"
   },
   {
    "duration": 20,
    "start_time": "2023-07-18T03:39:33.947Z"
   },
   {
    "duration": 20,
    "start_time": "2023-07-18T03:39:33.968Z"
   },
   {
    "duration": 25,
    "start_time": "2023-07-18T03:39:33.989Z"
   },
   {
    "duration": 38,
    "start_time": "2023-07-18T03:39:34.015Z"
   },
   {
    "duration": 7,
    "start_time": "2023-07-18T03:39:34.055Z"
   },
   {
    "duration": 5,
    "start_time": "2023-07-18T03:39:34.066Z"
   },
   {
    "duration": 223,
    "start_time": "2023-07-18T03:39:34.072Z"
   },
   {
    "duration": 7,
    "start_time": "2023-07-18T03:39:34.297Z"
   },
   {
    "duration": 77,
    "start_time": "2023-07-18T03:39:34.320Z"
   },
   {
    "duration": 7,
    "start_time": "2023-07-18T03:47:06.275Z"
   },
   {
    "duration": 6,
    "start_time": "2023-07-18T03:47:10.990Z"
   },
   {
    "duration": 21,
    "start_time": "2023-07-18T03:47:17.626Z"
   },
   {
    "duration": 25,
    "start_time": "2023-07-18T03:47:23.287Z"
   },
   {
    "duration": 728,
    "start_time": "2023-07-18T03:47:24.477Z"
   },
   {
    "duration": 6,
    "start_time": "2023-07-18T04:05:22.376Z"
   },
   {
    "duration": 8,
    "start_time": "2023-07-18T04:05:24.483Z"
   },
   {
    "duration": 11,
    "start_time": "2023-07-18T04:05:26.311Z"
   },
   {
    "duration": 8,
    "start_time": "2023-07-18T04:05:28.838Z"
   },
   {
    "duration": 4,
    "start_time": "2023-07-18T04:05:31.181Z"
   },
   {
    "duration": 2,
    "start_time": "2023-07-18T04:12:16.539Z"
   },
   {
    "duration": 1050,
    "start_time": "2023-07-18T09:57:56.538Z"
   },
   {
    "duration": 239,
    "start_time": "2023-07-18T09:57:57.590Z"
   },
   {
    "duration": 110,
    "start_time": "2023-07-18T09:57:57.831Z"
   },
   {
    "duration": 6,
    "start_time": "2023-07-18T09:57:57.942Z"
   },
   {
    "duration": 17,
    "start_time": "2023-07-18T09:57:57.950Z"
   },
   {
    "duration": 22,
    "start_time": "2023-07-18T09:57:57.969Z"
   },
   {
    "duration": 28,
    "start_time": "2023-07-18T09:57:57.992Z"
   },
   {
    "duration": 7,
    "start_time": "2023-07-18T09:57:58.022Z"
   },
   {
    "duration": 20,
    "start_time": "2023-07-18T09:57:58.031Z"
   },
   {
    "duration": 11,
    "start_time": "2023-07-18T09:57:58.052Z"
   },
   {
    "duration": 5,
    "start_time": "2023-07-18T09:57:58.064Z"
   },
   {
    "duration": 215,
    "start_time": "2023-07-18T09:57:58.070Z"
   },
   {
    "duration": 17,
    "start_time": "2023-07-18T09:57:58.286Z"
   },
   {
    "duration": 15,
    "start_time": "2023-07-18T09:57:58.305Z"
   },
   {
    "duration": 30,
    "start_time": "2023-07-18T09:57:58.321Z"
   },
   {
    "duration": 369,
    "start_time": "2023-07-18T09:57:58.353Z"
   },
   {
    "duration": 21,
    "start_time": "2023-07-18T09:57:58.724Z"
   },
   {
    "duration": 759,
    "start_time": "2023-07-18T09:57:58.747Z"
   },
   {
    "duration": 12,
    "start_time": "2023-07-18T09:57:59.508Z"
   },
   {
    "duration": 3,
    "start_time": "2023-07-18T09:57:59.521Z"
   },
   {
    "duration": 20,
    "start_time": "2023-07-18T09:57:59.526Z"
   },
   {
    "duration": 16,
    "start_time": "2023-07-18T09:57:59.548Z"
   },
   {
    "duration": 9,
    "start_time": "2023-07-18T09:57:59.565Z"
   },
   {
    "duration": 11,
    "start_time": "2023-07-18T09:57:59.576Z"
   },
   {
    "duration": 15,
    "start_time": "2023-07-18T09:57:59.588Z"
   },
   {
    "duration": 8,
    "start_time": "2023-07-18T09:57:59.604Z"
   },
   {
    "duration": 17,
    "start_time": "2023-07-18T09:57:59.613Z"
   },
   {
    "duration": 762,
    "start_time": "2023-07-18T09:57:59.632Z"
   },
   {
    "duration": 675,
    "start_time": "2023-07-18T09:58:00.396Z"
   },
   {
    "duration": 13,
    "start_time": "2023-07-18T09:58:01.073Z"
   },
   {
    "duration": 63,
    "start_time": "2023-07-18T09:58:01.088Z"
   },
   {
    "duration": 37,
    "start_time": "2023-07-18T09:58:01.153Z"
   },
   {
    "duration": 28,
    "start_time": "2023-07-18T09:58:01.191Z"
   },
   {
    "duration": 50,
    "start_time": "2023-07-18T09:58:01.220Z"
   },
   {
    "duration": 43,
    "start_time": "2023-07-18T09:58:01.272Z"
   },
   {
    "duration": 229,
    "start_time": "2023-07-18T09:58:01.317Z"
   },
   {
    "duration": 7,
    "start_time": "2023-07-18T09:58:01.548Z"
   },
   {
    "duration": 58,
    "start_time": "2023-07-18T09:58:01.556Z"
   },
   {
    "duration": 78,
    "start_time": "2023-07-18T09:58:01.616Z"
   },
   {
    "duration": 25,
    "start_time": "2023-07-18T09:58:01.696Z"
   },
   {
    "duration": 22,
    "start_time": "2023-07-18T09:58:01.725Z"
   },
   {
    "duration": 43,
    "start_time": "2023-07-18T09:58:01.749Z"
   },
   {
    "duration": 43,
    "start_time": "2023-07-18T09:58:01.794Z"
   },
   {
    "duration": 56,
    "start_time": "2023-07-18T09:58:01.839Z"
   },
   {
    "duration": 276,
    "start_time": "2023-07-18T09:58:01.896Z"
   },
   {
    "duration": 16,
    "start_time": "2023-07-18T09:58:02.173Z"
   },
   {
    "duration": 51,
    "start_time": "2023-07-18T09:58:02.200Z"
   },
   {
    "duration": 496,
    "start_time": "2023-07-18T09:58:02.252Z"
   },
   {
    "duration": 20,
    "start_time": "2023-07-18T09:58:02.750Z"
   },
   {
    "duration": 29,
    "start_time": "2023-07-18T09:58:02.772Z"
   },
   {
    "duration": 48,
    "start_time": "2023-07-18T09:58:02.803Z"
   },
   {
    "duration": 41,
    "start_time": "2023-07-18T09:58:02.853Z"
   },
   {
    "duration": 7,
    "start_time": "2023-07-18T09:58:02.895Z"
   },
   {
    "duration": 37,
    "start_time": "2023-07-18T09:58:02.903Z"
   },
   {
    "duration": 24,
    "start_time": "2023-07-18T09:58:02.942Z"
   },
   {
    "duration": 21,
    "start_time": "2023-07-18T09:58:02.967Z"
   },
   {
    "duration": 11,
    "start_time": "2023-07-18T09:58:02.989Z"
   },
   {
    "duration": 21,
    "start_time": "2023-07-18T09:58:03.002Z"
   },
   {
    "duration": 22,
    "start_time": "2023-07-18T09:58:03.025Z"
   },
   {
    "duration": 26,
    "start_time": "2023-07-18T09:58:03.048Z"
   },
   {
    "duration": 11,
    "start_time": "2023-07-18T09:58:03.075Z"
   },
   {
    "duration": 27,
    "start_time": "2023-07-18T09:58:03.087Z"
   },
   {
    "duration": 50,
    "start_time": "2023-07-18T09:58:03.115Z"
   },
   {
    "duration": 14,
    "start_time": "2023-07-18T09:58:03.166Z"
   },
   {
    "duration": 12,
    "start_time": "2023-07-18T09:58:03.182Z"
   },
   {
    "duration": 28,
    "start_time": "2023-07-18T09:58:03.195Z"
   },
   {
    "duration": 12,
    "start_time": "2023-07-18T09:58:03.224Z"
   },
   {
    "duration": 10,
    "start_time": "2023-07-18T09:58:03.237Z"
   },
   {
    "duration": 50,
    "start_time": "2023-07-18T09:58:03.248Z"
   },
   {
    "duration": 244,
    "start_time": "2023-07-18T09:58:03.299Z"
   },
   {
    "duration": 42,
    "start_time": "2023-07-18T09:58:03.544Z"
   },
   {
    "duration": 18,
    "start_time": "2023-07-18T09:58:03.587Z"
   },
   {
    "duration": 37,
    "start_time": "2023-07-18T09:58:03.606Z"
   },
   {
    "duration": 9,
    "start_time": "2023-07-18T09:58:03.644Z"
   },
   {
    "duration": 12,
    "start_time": "2023-07-18T09:58:03.655Z"
   },
   {
    "duration": 6,
    "start_time": "2023-07-18T09:58:03.668Z"
   },
   {
    "duration": 26,
    "start_time": "2023-07-18T09:58:03.676Z"
   },
   {
    "duration": 14,
    "start_time": "2023-07-18T09:58:03.703Z"
   },
   {
    "duration": 20,
    "start_time": "2023-07-18T09:58:03.719Z"
   },
   {
    "duration": 9,
    "start_time": "2023-07-18T09:58:03.740Z"
   },
   {
    "duration": 9,
    "start_time": "2023-07-18T09:58:03.750Z"
   },
   {
    "duration": 223,
    "start_time": "2023-07-18T09:58:03.760Z"
   },
   {
    "duration": 7,
    "start_time": "2023-07-18T09:58:03.985Z"
   },
   {
    "duration": 6,
    "start_time": "2023-07-18T09:58:04.000Z"
   },
   {
    "duration": 16,
    "start_time": "2023-07-18T09:59:22.203Z"
   },
   {
    "duration": 42,
    "start_time": "2023-07-21T18:46:12.245Z"
   },
   {
    "duration": 1277,
    "start_time": "2023-07-21T18:46:32.102Z"
   },
   {
    "duration": 189,
    "start_time": "2023-07-21T18:46:33.381Z"
   },
   {
    "duration": 53,
    "start_time": "2023-07-21T18:46:33.572Z"
   },
   {
    "duration": 6,
    "start_time": "2023-07-21T18:46:33.627Z"
   },
   {
    "duration": 40,
    "start_time": "2023-07-21T18:46:33.635Z"
   },
   {
    "duration": 36,
    "start_time": "2023-07-21T18:46:33.676Z"
   },
   {
    "duration": 27,
    "start_time": "2023-07-21T18:46:33.713Z"
   },
   {
    "duration": 6,
    "start_time": "2023-07-21T18:46:33.741Z"
   },
   {
    "duration": 10,
    "start_time": "2023-07-21T18:46:33.748Z"
   },
   {
    "duration": 5,
    "start_time": "2023-07-21T18:46:33.761Z"
   },
   {
    "duration": 3,
    "start_time": "2023-07-21T18:46:33.767Z"
   },
   {
    "duration": 216,
    "start_time": "2023-07-21T18:46:33.771Z"
   },
   {
    "duration": 18,
    "start_time": "2023-07-21T18:46:33.988Z"
   },
   {
    "duration": 14,
    "start_time": "2023-07-21T18:46:34.008Z"
   },
   {
    "duration": 26,
    "start_time": "2023-07-21T18:46:34.023Z"
   },
   {
    "duration": 299,
    "start_time": "2023-07-21T18:46:34.050Z"
   },
   {
    "duration": 19,
    "start_time": "2023-07-21T18:46:34.351Z"
   },
   {
    "duration": 700,
    "start_time": "2023-07-21T18:46:34.372Z"
   },
   {
    "duration": 11,
    "start_time": "2023-07-21T18:46:35.073Z"
   },
   {
    "duration": 8,
    "start_time": "2023-07-21T18:46:35.085Z"
   },
   {
    "duration": 14,
    "start_time": "2023-07-21T18:46:35.094Z"
   },
   {
    "duration": 28,
    "start_time": "2023-07-21T18:46:35.109Z"
   },
   {
    "duration": 6,
    "start_time": "2023-07-21T18:46:35.138Z"
   },
   {
    "duration": 17,
    "start_time": "2023-07-21T18:46:35.145Z"
   },
   {
    "duration": 11,
    "start_time": "2023-07-21T18:46:35.163Z"
   },
   {
    "duration": 4,
    "start_time": "2023-07-21T18:46:35.175Z"
   },
   {
    "duration": 16,
    "start_time": "2023-07-21T18:46:35.180Z"
   },
   {
    "duration": 612,
    "start_time": "2023-07-21T18:46:35.199Z"
   },
   {
    "duration": 553,
    "start_time": "2023-07-21T18:46:35.813Z"
   },
   {
    "duration": 13,
    "start_time": "2023-07-21T18:46:36.367Z"
   },
   {
    "duration": 10,
    "start_time": "2023-07-21T18:46:36.382Z"
   },
   {
    "duration": 15,
    "start_time": "2023-07-21T18:46:36.393Z"
   },
   {
    "duration": 13,
    "start_time": "2023-07-21T18:46:36.409Z"
   },
   {
    "duration": 19,
    "start_time": "2023-07-21T18:46:36.423Z"
   },
   {
    "duration": 10,
    "start_time": "2023-07-21T18:46:36.443Z"
   },
   {
    "duration": 194,
    "start_time": "2023-07-21T18:46:36.454Z"
   },
   {
    "duration": 7,
    "start_time": "2023-07-21T18:46:36.650Z"
   },
   {
    "duration": 6,
    "start_time": "2023-07-21T18:46:36.658Z"
   },
   {
    "duration": 13,
    "start_time": "2023-07-21T18:46:36.666Z"
   },
   {
    "duration": 26,
    "start_time": "2023-07-21T18:46:36.681Z"
   },
   {
    "duration": 6,
    "start_time": "2023-07-21T18:46:36.708Z"
   },
   {
    "duration": 15,
    "start_time": "2023-07-21T18:46:36.715Z"
   },
   {
    "duration": 20,
    "start_time": "2023-07-21T18:46:36.731Z"
   },
   {
    "duration": 19,
    "start_time": "2023-07-21T18:46:36.752Z"
   },
   {
    "duration": 229,
    "start_time": "2023-07-21T18:46:36.772Z"
   },
   {
    "duration": 18,
    "start_time": "2023-07-21T18:46:37.002Z"
   },
   {
    "duration": 15,
    "start_time": "2023-07-21T18:46:37.021Z"
   },
   {
    "duration": 356,
    "start_time": "2023-07-21T18:46:37.037Z"
   },
   {
    "duration": 19,
    "start_time": "2023-07-21T18:46:37.394Z"
   },
   {
    "duration": 8,
    "start_time": "2023-07-21T18:46:37.415Z"
   },
   {
    "duration": 16,
    "start_time": "2023-07-21T18:46:37.424Z"
   },
   {
    "duration": 28,
    "start_time": "2023-07-21T18:46:37.441Z"
   },
   {
    "duration": 6,
    "start_time": "2023-07-21T18:46:37.471Z"
   },
   {
    "duration": 22,
    "start_time": "2023-07-21T18:46:37.478Z"
   },
   {
    "duration": 10,
    "start_time": "2023-07-21T18:46:37.501Z"
   },
   {
    "duration": 8,
    "start_time": "2023-07-21T18:46:37.513Z"
   },
   {
    "duration": 6,
    "start_time": "2023-07-21T18:46:37.522Z"
   },
   {
    "duration": 15,
    "start_time": "2023-07-21T18:46:37.529Z"
   },
   {
    "duration": 19,
    "start_time": "2023-07-21T18:46:37.545Z"
   },
   {
    "duration": 7,
    "start_time": "2023-07-21T18:46:37.565Z"
   },
   {
    "duration": 5,
    "start_time": "2023-07-21T18:46:37.573Z"
   },
   {
    "duration": 11,
    "start_time": "2023-07-21T18:46:37.579Z"
   },
   {
    "duration": 22,
    "start_time": "2023-07-21T18:46:37.592Z"
   },
   {
    "duration": 7,
    "start_time": "2023-07-21T18:46:37.615Z"
   },
   {
    "duration": 10,
    "start_time": "2023-07-21T18:46:37.623Z"
   },
   {
    "duration": 13,
    "start_time": "2023-07-21T18:46:37.634Z"
   },
   {
    "duration": 9,
    "start_time": "2023-07-21T18:46:37.649Z"
   },
   {
    "duration": 10,
    "start_time": "2023-07-21T18:46:37.660Z"
   },
   {
    "duration": 49,
    "start_time": "2023-07-21T18:46:37.671Z"
   },
   {
    "duration": 218,
    "start_time": "2023-07-21T18:46:37.721Z"
   },
   {
    "duration": 39,
    "start_time": "2023-07-21T18:46:37.940Z"
   },
   {
    "duration": 6,
    "start_time": "2023-07-21T18:46:37.980Z"
   },
   {
    "duration": 48,
    "start_time": "2023-07-21T18:46:37.987Z"
   },
   {
    "duration": 10,
    "start_time": "2023-07-21T18:46:38.036Z"
   },
   {
    "duration": 8,
    "start_time": "2023-07-21T18:46:38.047Z"
   },
   {
    "duration": 9,
    "start_time": "2023-07-21T18:46:38.057Z"
   },
   {
    "duration": 4,
    "start_time": "2023-07-21T18:46:38.067Z"
   },
   {
    "duration": 10,
    "start_time": "2023-07-21T18:46:38.072Z"
   },
   {
    "duration": 35,
    "start_time": "2023-07-21T18:46:38.083Z"
   },
   {
    "duration": 7,
    "start_time": "2023-07-21T18:46:38.119Z"
   },
   {
    "duration": 5,
    "start_time": "2023-07-21T18:46:38.128Z"
   },
   {
    "duration": 207,
    "start_time": "2023-07-21T18:46:38.138Z"
   },
   {
    "duration": 6,
    "start_time": "2023-07-21T18:46:38.347Z"
   },
   {
    "duration": 13,
    "start_time": "2023-07-21T18:46:38.354Z"
   },
   {
    "duration": 113,
    "start_time": "2023-07-21T19:16:45.779Z"
   },
   {
    "duration": 16,
    "start_time": "2023-07-21T19:17:27.923Z"
   },
   {
    "duration": 10,
    "start_time": "2023-07-21T19:18:26.602Z"
   },
   {
    "duration": 64,
    "start_time": "2023-07-21T19:19:15.062Z"
   },
   {
    "duration": 64,
    "start_time": "2023-07-21T19:19:29.687Z"
   },
   {
    "duration": 10,
    "start_time": "2023-07-21T19:19:43.121Z"
   },
   {
    "duration": 8,
    "start_time": "2023-07-21T19:19:56.905Z"
   },
   {
    "duration": 7,
    "start_time": "2023-07-21T19:20:43.399Z"
   },
   {
    "duration": 7,
    "start_time": "2023-07-21T19:22:07.616Z"
   },
   {
    "duration": 7,
    "start_time": "2023-07-21T19:22:28.653Z"
   },
   {
    "duration": 8,
    "start_time": "2023-07-21T19:23:16.266Z"
   },
   {
    "duration": 64,
    "start_time": "2023-07-21T19:23:45.900Z"
   },
   {
    "duration": 7,
    "start_time": "2023-07-21T19:24:05.808Z"
   },
   {
    "duration": 8,
    "start_time": "2023-07-21T19:24:19.934Z"
   },
   {
    "duration": 115,
    "start_time": "2023-07-21T19:24:25.739Z"
   },
   {
    "duration": 7,
    "start_time": "2023-07-21T19:24:36.789Z"
   },
   {
    "duration": 7,
    "start_time": "2023-07-21T19:25:09.131Z"
   },
   {
    "duration": 7,
    "start_time": "2023-07-21T19:25:11.762Z"
   },
   {
    "duration": 8,
    "start_time": "2023-07-21T19:25:15.297Z"
   },
   {
    "duration": 27,
    "start_time": "2023-07-21T19:28:56.283Z"
   },
   {
    "duration": 27,
    "start_time": "2023-07-21T19:29:10.803Z"
   },
   {
    "duration": 32,
    "start_time": "2023-07-21T19:29:16.734Z"
   },
   {
    "duration": 112,
    "start_time": "2023-07-21T19:29:25.064Z"
   },
   {
    "duration": 32,
    "start_time": "2023-07-21T19:29:28.994Z"
   }
  ],
  "kernelspec": {
   "display_name": "Python 3 (ipykernel)",
   "language": "python",
   "name": "python3"
  },
  "language_info": {
   "codemirror_mode": {
    "name": "ipython",
    "version": 3
   },
   "file_extension": ".py",
   "mimetype": "text/x-python",
   "name": "python",
   "nbconvert_exporter": "python",
   "pygments_lexer": "ipython3",
   "version": "3.9.5"
  },
  "toc": {
   "base_numbering": 1,
   "nav_menu": {
    "height": "265.646px",
    "width": "778.312px"
   },
   "number_sections": true,
   "sideBar": true,
   "skip_h1_title": true,
   "title_cell": "Table of Contents",
   "title_sidebar": "Contents",
   "toc_cell": false,
   "toc_position": {},
   "toc_section_display": true,
   "toc_window_display": true
  }
 },
 "nbformat": 4,
 "nbformat_minor": 2
}
